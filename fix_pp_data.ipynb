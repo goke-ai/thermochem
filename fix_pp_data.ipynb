{
 "metadata": {
  "language_info": {
   "codemirror_mode": {
    "name": "ipython",
    "version": 3
   },
   "file_extension": ".py",
   "mimetype": "text/x-python",
   "name": "python",
   "nbconvert_exporter": "python",
   "pygments_lexer": "ipython3",
   "version": "3.8.10"
  },
  "orig_nbformat": 4,
  "kernelspec": {
   "name": "python3",
   "display_name": "Python 3.8.10 64-bit"
  },
  "interpreter": {
   "hash": "c9dd2b683db0012b822fc70113fe185827d40eabd1f252adf468801410e30d36"
  }
 },
 "nbformat": 4,
 "nbformat_minor": 2,
 "cells": [
  {
   "cell_type": "code",
   "execution_count": 1,
   "metadata": {},
   "outputs": [],
   "source": [
    "import numpy as np\n",
    "import math\n",
    "\n",
    "def gibbs(h, a,b,c,d,e,f,g, T):\n",
    "    return (h - a*T*math.log(T)-b*T**2-(c/2)*T**3-(d/3)*T**4+(e/2/T)+f+g*T) #kJ/mol\n",
    "\n",
    "def hf(h, a,b,c,d,e,f, T):\n",
    "    return (h - a*T+b*T**2 -c*T**3-d*T**4+(e/T)+f) #kJ/mol\n",
    "\n",
    "def ke(G, T, R):\n",
    "    return math.exp(-G/R/T)\n",
    "\n",
    "\n",
    "def computeGibbs(G,n):\n",
    "    sum = 0\n",
    "    for i,v in enumerate(G):\n",
    "        sum += G[i]*n[i]\n",
    "    \n",
    "    return sum\n",
    "\n",
    "def equilb_const(G, R, T):\n",
    "    return math.exp(-G/R/T)"
   ]
  },
  {
   "cell_type": "code",
   "execution_count": 2,
   "metadata": {},
   "outputs": [],
   "source": [
    "# G, Hf, HHV, G, H, a,b,c,d,e,f,g\n",
    "dictData = {\n",
    "'C': [0, 0, 0, 0,0,0,0,0,0,0],\n",
    "'CO': [ 283, -137.3, -110.5, 5.619e-3, -1.19e-5, 6.383e-9,21.846e-12, -4.891e-2, 0.868, -6.131e-2],\n",
    "'CO2': [0, -394.4, -393.5, -1.949e-2, 3.122e-5, -2.448e-8, 6.946e-12, -4.891e-2, 5.27, -0.1207],\n",
    "'CH4': [890.3, -50.8, -74.8, -4.62e-2, 1.13e-5, 1.319e-8, -6.647e-12, -4.891e-2, 14.11, 0.2234],\n",
    "'C2H4': [1411, 68.1, 52.3, -7.281e-2, 5.802e-5, -1.861e-8, 5.648e-13, -9.782e-2, -0.32, -0.4076],\n",
    "'CH3OH': [763.9, -161.6, -201.2, -5.834e-2, -.07e-5, 1.491e-8, -9.614e-12, -4.891e-2, 16.88, -0.2467],\n",
    "'Steam': [0, -228.6, -241.8, -8.95e-3, -3.672e-6, 5.209e-9, -1.478e-12, 0, 2.868, -0.0172],\n",
    "'H2O': [0, -237.2, -285.8, 0,0,0,0,0,0,0],\n",
    "'O2': [0, 0, 0, 0,0,0,0,0,0,0],\n",
    "'H2': [285.8, 0, 0, 0,0,0,0,0,0,0]\n",
    "}"
   ]
  },
  {
   "cell_type": "code",
   "execution_count": 3,
   "metadata": {},
   "outputs": [
    {
     "output_type": "execute_result",
     "data": {
      "text/plain": [
       "(-397.35216768788297, -139.66602445499996)"
      ]
     },
     "metadata": {},
     "execution_count": 3
    }
   ],
   "source": [
    "h, a,b,c,d,e,f,g = dictData['CO2'][2:]\n",
    "G_CO2 = gibbs(h, a,b,c,d,e,f,g, 2000)\n",
    "H_CO2 = hf(h, a,b,c,d,e,f, 2000)\n",
    "G_CO2, H_CO2"
   ]
  },
  {
   "cell_type": "code",
   "execution_count": 4,
   "metadata": {},
   "outputs": [
    {
     "output_type": "execute_result",
     "data": {
      "text/plain": [
       "(-412.11495406783393, -569.070024455)"
      ]
     },
     "metadata": {},
     "execution_count": 4
    }
   ],
   "source": [
    "h, a,b,c,d,e,f,g = dictData['CO'][2:]\n",
    "G_CO = gibbs(h, a,b,c,d,e,f,g, 2000)\n",
    "H_CO = hf(h, a,b,c,d,e,f, 2000)\n",
    "G_CO, H_CO"
   ]
  },
  {
   "cell_type": "code",
   "execution_count": 5,
   "metadata": {},
   "outputs": [
    {
     "output_type": "execute_result",
     "data": {
      "text/plain": [
       "(0.0, 0.0)"
      ]
     },
     "metadata": {},
     "execution_count": 5
    }
   ],
   "source": [
    "h, a,b,c,d,e,f,g = dictData['O2'][2:]\n",
    "G_O2 = gibbs(h, a,b,c,d,e,f,g, 2000)\n",
    "H_O2 = hf(h, a,b,c,d,e,f, 2000)\n",
    "G_O2, H_O2"
   ]
  },
  {
   "cell_type": "code",
   "execution_count": 6,
   "metadata": {},
   "outputs": [
    {
     "output_type": "execute_result",
     "data": {
      "text/plain": [
       "-14.762786379950967"
      ]
     },
     "metadata": {},
     "execution_count": 6
    }
   ],
   "source": [
    "G_CO + G_O2 - G_CO2"
   ]
  },
  {
   "cell_type": "code",
   "execution_count": 7,
   "metadata": {},
   "outputs": [],
   "source": [
    "# biomass formula\n",
    "# hydrogen/carbon\n",
    "a = 0\n",
    "# oxygen/carbon\n",
    "b = 0\n",
    "# nitrogen/carbon\n",
    "c = 0"
   ]
  },
  {
   "cell_type": "code",
   "execution_count": 8,
   "metadata": {},
   "outputs": [],
   "source": [
    "CHaObNc = (1,a,b)"
   ]
  },
  {
   "cell_type": "code",
   "execution_count": 9,
   "metadata": {
    "tags": []
   },
   "outputs": [
    {
     "output_type": "stream",
     "name": "stdout",
     "text": [
      "1 AR ARGON 39.948 -189.9 -185.9 150.8 48.7 0.075 1373 -183 6531 1\n 1,AR,ARGON,39.948,-189.9,-185.9,150.8,48.7,0.075,1373,-183,6531,1,,\n2 BCL3 BORON TRICHLORIDE 117.169 -107.3 12.5 452.0 38.7 1350 11 2\n 2,BCL3,BORON-TRICHLORIDE,117.169,-107.3,12.5,452.0,38.7,1350,11,2,,,,\n3 BF3 BORON TRIFLUORIDE 67.805 -126.7 -99.9 260.8 49.9 3\n 3,BF3,BORON-TRIFLUORIDE,67.805,-126.7,-99.9,260.8,49.9,3,,,,,,\n4 BR2 BROMINE 159.808 -7.2 58.7 584.0 103.4 0.127 3119 20 30,187 4\n 4,BR2,BROMINE,159.808,-7.2,58.7,584.0,103.4,0.127,3119,20,30187,4,,\n5 CLNO NITROSYL CHLORIDE 65.459 -59.7 -5.5 440.0 91.2 0.139 1420 -12 25,707 5\n 5,CLNO,NITROSYL-CHLORIDE,65.459,-59.7,-5.5,440.0,91.2,0.139,1420,-12,25707,5,,\n"
     ]
    }
   ],
   "source": [
    "f = open(\"data/data.txt\", \"r\")\n",
    "dataList =[]\n",
    "sNO = []\n",
    "count = 0\n",
    "show_n=5\n",
    "k = 0\n",
    "\n",
    "for l in f:\n",
    "    # get first letter\n",
    "    w = l.split(' ', 1)[0]\n",
    "    if w == 'NO' and count < 2:\n",
    "        sNO.append(l)\n",
    "        count += 1\n",
    "\n",
    "    try:\n",
    "        x = int(w)        \n",
    "    except Exception:\n",
    "        continue\n",
    "\n",
    "    if x >= 600:\n",
    "        continue   \n",
    "\n",
    "    m = l.replace(',','')\n",
    "\n",
    "    # check for compound name\n",
    "    d = m.split(' ')\n",
    "\n",
    "    if len(d) > 3:\n",
    "        try:\n",
    "            x = float(d[3])        \n",
    "        except Exception:\n",
    "            d[2] = d[2] + '-' + d[3]\n",
    "            d.remove(d[3])\n",
    "            m = ' '.join(d)\n",
    "\n",
    "    n = m.count(' ')\n",
    "    x = m.replace(' ',',')\n",
    "    x = x.replace('\\n', '')\n",
    "\n",
    "    if(n < 14):\n",
    "        diff = 14 - n       \n",
    "        for i in range(diff):\n",
    "            x = x + ','\n",
    "        \n",
    "        # print(x)\n",
    "    \n",
    "    dataList.append(x)   \n",
    "\n",
    "    if k < show_n:\n",
    "        print(l, x)\n",
    "        k += 1\n",
    "\n",
    "f.close()"
   ]
  },
  {
   "cell_type": "code",
   "execution_count": 10,
   "metadata": {},
   "outputs": [
    {
     "output_type": "execute_result",
     "data": {
      "text/plain": [
       "(1000, 2, 2)"
      ]
     },
     "metadata": {},
     "execution_count": 10
    }
   ],
   "source": [
    "len(dataList), len(sNO), count"
   ]
  },
  {
   "cell_type": "code",
   "execution_count": 11,
   "metadata": {},
   "outputs": [
    {
     "output_type": "execute_result",
     "data": {
      "text/plain": [
       "['NO FORMULA COMPOUND NAME MOLWT TFP TBP TC PC VC LDEN TDEN HVAP NO\\n',\n",
       " 'NO VISA VISB DELHF DELGF CPVAPA CPVAPB CPVAPC CPVAPD ANTA ANTB ANTC TMN TMX NO\\n']"
      ]
     },
     "metadata": {},
     "execution_count": 11
    }
   ],
   "source": [
    "sNO"
   ]
  },
  {
   "cell_type": "code",
   "execution_count": 12,
   "metadata": {},
   "outputs": [
    {
     "output_type": "execute_result",
     "data": {
      "text/plain": [
       "'NO,FORMULA,COMPOUND-NAME,MOLWT,TFP,TBP,TC,PC,VC,LDEN,TDEN,HVAP,NO,,,NO,VISA,VISB,DELHF,DELGF,CPVAPA,CPVAPB,CPVAPC,CPVAPD,ANTA,ANTB,ANTC,TMN,TMX,NO'"
      ]
     },
     "metadata": {},
     "execution_count": 12
    }
   ],
   "source": [
    "heading = (sNO[0].replace('COMPOUND NAME', 'COMPOUND-NAME') + ',,,' + sNO[1]).replace('\\n','').replace(' ',',')\n",
    "heading"
   ]
  },
  {
   "cell_type": "code",
   "execution_count": 13,
   "metadata": {},
   "outputs": [
    {
     "output_type": "execute_result",
     "data": {
      "text/plain": [
       "['1,AR,ARGON,39.948,-189.9,-185.9,150.8,48.7,0.075,1373,-183,6531,1,,',\n",
       " '2,BCL3,BORON-TRICHLORIDE,117.169,-107.3,12.5,452.0,38.7,1350,11,2,,,,',\n",
       " '3,BF3,BORON-TRIFLUORIDE,67.805,-126.7,-99.9,260.8,49.9,3,,,,,,',\n",
       " '4,BR2,BROMINE,159.808,-7.2,58.7,584.0,103.4,0.127,3119,20,30187,4,,',\n",
       " '5,CLNO,NITROSYL-CHLORIDE,65.459,-59.7,-5.5,440.0,91.2,0.139,1420,-12,25707,5,,',\n",
       " '6,CL2,CHLORINE,70.906,-101.0,-34.5,417.0,77.0,0.124,1563,-34,20432,6,,',\n",
       " '7,CL3P,PHOSPHORUS-TRICHLORIDE,137.333,-112.2,75.8,563.0,0.260,1574,21,7,,,,',\n",
       " '8,CL4SI,SILICON-TETRACHLORIDE,169.898,-68.9,57.2,507.0,37.5,0.326,1480,20,27549,8,,',\n",
       " '9,D2,DEUTERIUM,4.032,-254.5,-249.5,38.4,16.6,0.060,165,-250,1223,9,,',\n",
       " '10,D2O,DEUTERIUM-OXIDE,20.031,3.8,101.4,644.0,216.6,0.056,1105,20,41366,10,,']"
      ]
     },
     "metadata": {},
     "execution_count": 13
    }
   ],
   "source": [
    "dataList[:10]"
   ]
  },
  {
   "cell_type": "code",
   "execution_count": 14,
   "metadata": {},
   "outputs": [
    {
     "output_type": "execute_result",
     "data": {
      "text/plain": [
       "['1,AR,ARGON,39.948,-189.9,-185.9,150.8,48.7,0.075,1373,-183,6531,1,,,1,107.57,58.76,20.804,-3.211E-05,51.665E-09,15.2330,700.51,-5.84,-192,-179,1,,,',\n",
       " '2,BCL3,BORON-TRICHLORIDE,117.169,-107.3,12.5,452.0,38.7,1350,11,2,,,,,2,2,,,,,,,,,,,,,',\n",
       " '3,BF3,BORON-TRIFLUORIDE,67.805,-126.7,-99.9,260.8,49.9,3,,,,,,,3,3,,,,,,,,,,,,,',\n",
       " '4,BR2,BROMINE,159.808,-7.2,58.7,584.0,103.4,0.127,3119,20,30187,4,,,4,387.82,292.79,33.859,11.254E-03,-1.192E-05,45.343E-10,15.8441,2582.32,-51.56,-14,81,4,,',\n",
       " '5,CLNO,NITROSYL-CHLORIDE,65.459,-59.7,-5.5,440.0,91.2,0.139,1420,-12,25707,5,,,5,52.63,66.99,34.097,44.715E-03,-3.340E-05,10.149E-09,16.9505,2520.70,-23.46,-63,12,5,,',\n",
       " '6,CL2,CHLORINE,70.906,-101.0,-34.5,417.0,77.0,0.124,1563,-34,20432,6,,,6,191.96,172.35,26.929,33.838E-03,-3.869E-05,15.470E-09,15.9610,1978.32,-27.01,-101,-9,6,,',\n",
       " '7,CL3P,PHOSPHORUS-TRICHLORIDE,137.333,-112.2,75.8,563.0,0.260,1574,21,7,,,,,7,7,,,,,,,,,,,,,',\n",
       " '8,CL4SI,SILICON-TETRACHLORIDE,169.898,-68.9,57.2,507.0,37.5,0.326,1480,20,27549,8,,,8,15.8019,2634.16,-43.15,-35,91,8,,,,,,,,',\n",
       " '9,D2,DEUTERIUM,4.032,-254.5,-249.5,38.4,16.6,0.060,165,-250,1223,9,,,9,19.67,8.38,30.250,-6.406E-03,11.698E-06,-3.684E-09,13.2954,157.89,-254,-248,9,,,',\n",
       " '10,D2O,DEUTERIUM-OXIDE,20.031,3.8,101.4,644.0,216.6,0.056,1105,20,41366,10,,,10,757.92,304.58,-249.41,-234.80,10,,,,,,,,,']"
      ]
     },
     "metadata": {},
     "execution_count": 14
    }
   ],
   "source": [
    "dataList2 = [(x + ','+ y) for x in dataList for y in dataList if x.split(',',1)[0] == y.split(',',1)[0]][1::2]\n",
    "dataList2[:10]\n"
   ]
  },
  {
   "cell_type": "code",
   "execution_count": 15,
   "metadata": {},
   "outputs": [
    {
     "output_type": "execute_result",
     "data": {
      "text/plain": [
       "['51,CHCLF2,CHLORODIFLUOROMETHANE,86.469,-160.2,-40.8,369.2,49.8,0.165,1230,16,20205,51,,,51,-502.00,-470.89,17.300,16.182E-02,-1.170E-04,30.585E-09,15.5602,1704.80,-41.30,-48,-33,51,,',\n",
       " '52,CHCL2F,DICHLOROFLUOROMETHANE,102.923,-135.2,8.8,451.6,51.7,0.197,1380,9,24953,52,,,52,-298.94,-268.37,23.664,15.814E-02,-1.200E-04,32.636E-09,52,,,,,,,',\n",
       " '53,CHCL3,CHLOROFORM,119.378,-63.6,61.1,536.4,54.7,0.239,1489,20,29726,53,,,53,394.81,246.50,-101.32,-68.58,24.003,18.933E-02,-1.841E-04,66.570E-09,15.9732,2696.79,-46.16,-13,97,53',\n",
       " '54,CHN,HYDROGEN-CYANIDE,27.026,-13.3,25.7,456.8,53.9,0.139,688,20,25234,54,,,54,194.70,145.31,130.63,120.20,21.863,60.625E-03,-4.961E-05,18.154E-09,16.5138,2585.80,-37.15,-39,57,54',\n",
       " '55,CH2BR2,DIBROMOMETHANE,173.835,-52.6,96.8,583.0,71.9,2500,20,55,,,,,55,428.91,294.57,-4.19,-5.61,55,,,,,,,,,',\n",
       " '56,CH2CL2,DICHLOROMETHANE,84.993,-95.1,39.8,510.0,60.8,0.193,1317,25,28010,56,,,56,359.55,225.13,-95.46,-68.91,12.954,16.232E-02,-1.302E-04,42.077E-09,16.3029,2622.44,-41.70,-44,59,56',\n",
       " '57,CH2O,FORMALDEHYDE,30.026,-117.2,-19.2,408.0,65.9,815,-20,23027,57,,,,57,319.83,171.35,-115.97,-109.99,23.475,31.568E-03,29.852E-06,-2.300E-08,16.4775,2204.13,-30.15,-88,-2,57',\n",
       " '58,CH2O2,FORMIC-ACID,46.025,8.3,100.6,580.0,1226,15,21939,58,,,,,58,729.35,325.72,-378.86,-351.23,11.715,13.578E-02,-8.411E-05,20.168E-09,16.9882,3599.58,-26.09,-2,136,58',\n",
       " '59,CH3BR,METHYL-BROMIDE,94.939,-93.7,3.5,464.0,86.1,1737,-5,23928,59,,,,59,298.15,211.15,-37.68,-28.18,14.428,10.911E-02,-5.401E-05,95.836E-10,16.0252,2271.71,-34.83,-58,53,59',\n",
       " '60,CH3CL,METHYL-CHLORIDE,50.488,-97.8,-24.3,416.3,66.8,0.139,915,20,21436,60,,,60,426.45,193.56,-86.37,-62.93,13.875,10.140E-02,-3.889E-05,25.665E-10,16.1052,2077.97,-29.55,-93,-7,60']"
      ]
     },
     "metadata": {},
     "execution_count": 15
    }
   ],
   "source": [
    "dataList3 =[]\n",
    "j = 0;\n",
    "for i,v in enumerate(dataList2):\n",
    "    d = v.split(',',1)[0]\n",
    "    if (j+1)==int(d):\n",
    "        # print(j+1,d)\n",
    "        dataList3.append(v)\n",
    "        j = j+1\n",
    "\n",
    "dataList3[50:60]"
   ]
  },
  {
   "cell_type": "code",
   "execution_count": 16,
   "metadata": {},
   "outputs": [],
   "source": [
    "f = open(\"data/data_out.txt\", \"w\")\n",
    "f.write(heading+'\\n')\n",
    "for l in dataList3:\n",
    "    f.write(l+'\\n')\n",
    "f.close()"
   ]
  },
  {
   "cell_type": "code",
   "execution_count": 17,
   "metadata": {},
   "outputs": [
    {
     "output_type": "execute_result",
     "data": {
      "text/plain": [
       "   NO FORMULA      COMPOUND-NAME    MOLWT    TFP    TBP     TC     PC  \\\n",
       "0   1      AR              ARGON   39.948 -189.9 -185.9  150.8   48.7   \n",
       "1   2    BCL3  BORON-TRICHLORIDE  117.169 -107.3   12.5  452.0   38.7   \n",
       "2   3     BF3  BORON-TRIFLUORIDE   67.805 -126.7  -99.9  260.8   49.9   \n",
       "3   4     BR2            BROMINE  159.808   -7.2   58.7  584.0  103.4   \n",
       "4   5    CLNO  NITROSYL-CHLORIDE   65.459  -59.7   -5.5  440.0   91.2   \n",
       "\n",
       "         VC    LDEN  ...        CPVAPA        CPVAPB    CPVAPC   CPVAPD  \\\n",
       "0     0.075  1373.0  ...  5.166500e-08  1.523300e+01  700.5100    -5.84   \n",
       "1  1350.000    11.0  ...           NaN           NaN       NaN      NaN   \n",
       "2     3.000     NaN  ...           NaN           NaN       NaN      NaN   \n",
       "3     0.127  3119.0  ... -1.192000e-05  4.534300e-09   15.8441  2582.32   \n",
       "4     0.139  1420.0  ... -3.340000e-05  1.014900e-08   16.9505  2520.70   \n",
       "\n",
       "     ANTA   ANTB  ANTC  TMN  TMX  NO.3  \n",
       "0 -192.00 -179.0   1.0  NaN  NaN   NaN  \n",
       "1     NaN    NaN   NaN  NaN  NaN   NaN  \n",
       "2     NaN    NaN   NaN  NaN  NaN   NaN  \n",
       "3  -51.56  -14.0  81.0  4.0  NaN   NaN  \n",
       "4  -23.46  -63.0  12.0  5.0  NaN   NaN  \n",
       "\n",
       "[5 rows x 30 columns]"
      ],
      "text/html": "<div>\n<style scoped>\n    .dataframe tbody tr th:only-of-type {\n        vertical-align: middle;\n    }\n\n    .dataframe tbody tr th {\n        vertical-align: top;\n    }\n\n    .dataframe thead th {\n        text-align: right;\n    }\n</style>\n<table border=\"1\" class=\"dataframe\">\n  <thead>\n    <tr style=\"text-align: right;\">\n      <th></th>\n      <th>NO</th>\n      <th>FORMULA</th>\n      <th>COMPOUND-NAME</th>\n      <th>MOLWT</th>\n      <th>TFP</th>\n      <th>TBP</th>\n      <th>TC</th>\n      <th>PC</th>\n      <th>VC</th>\n      <th>LDEN</th>\n      <th>...</th>\n      <th>CPVAPA</th>\n      <th>CPVAPB</th>\n      <th>CPVAPC</th>\n      <th>CPVAPD</th>\n      <th>ANTA</th>\n      <th>ANTB</th>\n      <th>ANTC</th>\n      <th>TMN</th>\n      <th>TMX</th>\n      <th>NO.3</th>\n    </tr>\n  </thead>\n  <tbody>\n    <tr>\n      <th>0</th>\n      <td>1</td>\n      <td>AR</td>\n      <td>ARGON</td>\n      <td>39.948</td>\n      <td>-189.9</td>\n      <td>-185.9</td>\n      <td>150.8</td>\n      <td>48.7</td>\n      <td>0.075</td>\n      <td>1373.0</td>\n      <td>...</td>\n      <td>5.166500e-08</td>\n      <td>1.523300e+01</td>\n      <td>700.5100</td>\n      <td>-5.84</td>\n      <td>-192.00</td>\n      <td>-179.0</td>\n      <td>1.0</td>\n      <td>NaN</td>\n      <td>NaN</td>\n      <td>NaN</td>\n    </tr>\n    <tr>\n      <th>1</th>\n      <td>2</td>\n      <td>BCL3</td>\n      <td>BORON-TRICHLORIDE</td>\n      <td>117.169</td>\n      <td>-107.3</td>\n      <td>12.5</td>\n      <td>452.0</td>\n      <td>38.7</td>\n      <td>1350.000</td>\n      <td>11.0</td>\n      <td>...</td>\n      <td>NaN</td>\n      <td>NaN</td>\n      <td>NaN</td>\n      <td>NaN</td>\n      <td>NaN</td>\n      <td>NaN</td>\n      <td>NaN</td>\n      <td>NaN</td>\n      <td>NaN</td>\n      <td>NaN</td>\n    </tr>\n    <tr>\n      <th>2</th>\n      <td>3</td>\n      <td>BF3</td>\n      <td>BORON-TRIFLUORIDE</td>\n      <td>67.805</td>\n      <td>-126.7</td>\n      <td>-99.9</td>\n      <td>260.8</td>\n      <td>49.9</td>\n      <td>3.000</td>\n      <td>NaN</td>\n      <td>...</td>\n      <td>NaN</td>\n      <td>NaN</td>\n      <td>NaN</td>\n      <td>NaN</td>\n      <td>NaN</td>\n      <td>NaN</td>\n      <td>NaN</td>\n      <td>NaN</td>\n      <td>NaN</td>\n      <td>NaN</td>\n    </tr>\n    <tr>\n      <th>3</th>\n      <td>4</td>\n      <td>BR2</td>\n      <td>BROMINE</td>\n      <td>159.808</td>\n      <td>-7.2</td>\n      <td>58.7</td>\n      <td>584.0</td>\n      <td>103.4</td>\n      <td>0.127</td>\n      <td>3119.0</td>\n      <td>...</td>\n      <td>-1.192000e-05</td>\n      <td>4.534300e-09</td>\n      <td>15.8441</td>\n      <td>2582.32</td>\n      <td>-51.56</td>\n      <td>-14.0</td>\n      <td>81.0</td>\n      <td>4.0</td>\n      <td>NaN</td>\n      <td>NaN</td>\n    </tr>\n    <tr>\n      <th>4</th>\n      <td>5</td>\n      <td>CLNO</td>\n      <td>NITROSYL-CHLORIDE</td>\n      <td>65.459</td>\n      <td>-59.7</td>\n      <td>-5.5</td>\n      <td>440.0</td>\n      <td>91.2</td>\n      <td>0.139</td>\n      <td>1420.0</td>\n      <td>...</td>\n      <td>-3.340000e-05</td>\n      <td>1.014900e-08</td>\n      <td>16.9505</td>\n      <td>2520.70</td>\n      <td>-23.46</td>\n      <td>-63.0</td>\n      <td>12.0</td>\n      <td>5.0</td>\n      <td>NaN</td>\n      <td>NaN</td>\n    </tr>\n  </tbody>\n</table>\n<p>5 rows × 30 columns</p>\n</div>"
     },
     "metadata": {},
     "execution_count": 17
    }
   ],
   "source": [
    "import pandas as pd\n",
    "df = pd.read_csv('data/data_out.txt')\n",
    "df.head()"
   ]
  },
  {
   "cell_type": "code",
   "execution_count": 18,
   "metadata": {},
   "outputs": [
    {
     "output_type": "execute_result",
     "data": {
      "text/plain": [
       "          NO             COMPOUND-NAME    MOLWT    TFP    TBP     TC       PC  \\\n",
       "FORMULA                                                                         \n",
       "AR         1                     ARGON   39.948 -189.9 -185.9  150.8     48.7   \n",
       "BCL3       2         BORON-TRICHLORIDE  117.169 -107.3   12.5  452.0     38.7   \n",
       "BF3        3         BORON-TRIFLUORIDE   67.805 -126.7  -99.9  260.8     49.9   \n",
       "BR2        4                   BROMINE  159.808   -7.2   58.7  584.0    103.4   \n",
       "CLNO       5         NITROSYL-CHLORIDE   65.459  -59.7   -5.5  440.0     91.2   \n",
       "...      ...                       ...      ...    ...    ...    ...      ...   \n",
       "C19H40   496              N-NONADECANE  268.529   31.8  329.9  756.0     11.1   \n",
       "C20H40   497  N-PENTADECYLCYCLOPENTANE  280.540  351.8  780.0   10.2  57694.0   \n",
       "C20H42   498                N-EICOSANE  282.556   36.8  343.8  767.0     11.1   \n",
       "C20H42O  499               1-EICOSANOL  298.555   65.8  355.8  770.0     12.2   \n",
       "C21H42   500   N-HEXADECYLCYCLOPENTANE  294.567  363.8  791.0    9.7  59369.0   \n",
       "\n",
       "                VC    LDEN     TDEN  ...        CPVAPA        CPVAPB  \\\n",
       "FORMULA                              ...                               \n",
       "AR           0.075  1373.0   -183.0  ...  5.166500e-08  1.523300e+01   \n",
       "BCL3      1350.000    11.0      2.0  ...           NaN           NaN   \n",
       "BF3          3.000     NaN      NaN  ...           NaN           NaN   \n",
       "BR2          0.127  3119.0     20.0  ... -1.192000e-05  4.534300e-09   \n",
       "CLNO         0.139  1420.0    -12.0  ... -3.340000e-05  1.014900e-08   \n",
       "...            ...     ...      ...  ...           ...           ...   \n",
       "C19H40     789.000    32.0  56061.0  ... -1.549100e+01  1.812500e+00   \n",
       "C20H40     497.000     NaN      NaN  ... -6.609300e+01  1.980400e+00   \n",
       "C20H42     775.000    40.0  57527.0  ... -2.238300e+01  1.939300e+00   \n",
       "C20H42O  65314.000   499.0      NaN  ... -1.118000e-03  2.515800e-07   \n",
       "C21H42     500.000     NaN      NaN  ... -6.668300e+01  2.074100e+00   \n",
       "\n",
       "             CPVAPC        CPVAPD      ANTA     ANTB   ANTC    TMN    TMX  \\\n",
       "FORMULA                                                                     \n",
       "AR       700.510000 -5.840000e+00 -192.0000  -179.00    1.0    NaN    NaN   \n",
       "BCL3            NaN           NaN       NaN      NaN    NaN    NaN    NaN   \n",
       "BF3             NaN           NaN       NaN      NaN    NaN    NaN    NaN   \n",
       "BR2       15.844100  2.582320e+03  -51.5600   -14.00   81.0    4.0    NaN   \n",
       "CLNO      16.950500  2.520700e+03  -23.4600   -63.00   12.0    5.0    NaN   \n",
       "...             ...           ...       ...      ...    ...    ...    ...   \n",
       "C19H40    -0.001015  2.205200e-07   16.1533  4450.44 -135.6  183.0  366.0   \n",
       "C20H40    -0.001140  2.549800e-07   16.3092  4642.01 -145.1  203.0  388.0   \n",
       "C20H42    -0.001117  2.528400e-07   16.4685  4680.46 -141.1  198.0  379.0   \n",
       "C20H42O   15.823300  3.912100e+03 -203.1000   219.00  406.0  499.0    NaN   \n",
       "C21H42    -0.001237  2.668200e-07   16.3553  4715.69 -152.1  215.0  401.0   \n",
       "\n",
       "          NO.3  \n",
       "FORMULA         \n",
       "AR         NaN  \n",
       "BCL3       NaN  \n",
       "BF3        NaN  \n",
       "BR2        NaN  \n",
       "CLNO       NaN  \n",
       "...        ...  \n",
       "C19H40   496.0  \n",
       "C20H40   497.0  \n",
       "C20H42   498.0  \n",
       "C20H42O    NaN  \n",
       "C21H42   500.0  \n",
       "\n",
       "[500 rows x 29 columns]"
      ],
      "text/html": "<div>\n<style scoped>\n    .dataframe tbody tr th:only-of-type {\n        vertical-align: middle;\n    }\n\n    .dataframe tbody tr th {\n        vertical-align: top;\n    }\n\n    .dataframe thead th {\n        text-align: right;\n    }\n</style>\n<table border=\"1\" class=\"dataframe\">\n  <thead>\n    <tr style=\"text-align: right;\">\n      <th></th>\n      <th>NO</th>\n      <th>COMPOUND-NAME</th>\n      <th>MOLWT</th>\n      <th>TFP</th>\n      <th>TBP</th>\n      <th>TC</th>\n      <th>PC</th>\n      <th>VC</th>\n      <th>LDEN</th>\n      <th>TDEN</th>\n      <th>...</th>\n      <th>CPVAPA</th>\n      <th>CPVAPB</th>\n      <th>CPVAPC</th>\n      <th>CPVAPD</th>\n      <th>ANTA</th>\n      <th>ANTB</th>\n      <th>ANTC</th>\n      <th>TMN</th>\n      <th>TMX</th>\n      <th>NO.3</th>\n    </tr>\n    <tr>\n      <th>FORMULA</th>\n      <th></th>\n      <th></th>\n      <th></th>\n      <th></th>\n      <th></th>\n      <th></th>\n      <th></th>\n      <th></th>\n      <th></th>\n      <th></th>\n      <th></th>\n      <th></th>\n      <th></th>\n      <th></th>\n      <th></th>\n      <th></th>\n      <th></th>\n      <th></th>\n      <th></th>\n      <th></th>\n      <th></th>\n    </tr>\n  </thead>\n  <tbody>\n    <tr>\n      <th>AR</th>\n      <td>1</td>\n      <td>ARGON</td>\n      <td>39.948</td>\n      <td>-189.9</td>\n      <td>-185.9</td>\n      <td>150.8</td>\n      <td>48.7</td>\n      <td>0.075</td>\n      <td>1373.0</td>\n      <td>-183.0</td>\n      <td>...</td>\n      <td>5.166500e-08</td>\n      <td>1.523300e+01</td>\n      <td>700.510000</td>\n      <td>-5.840000e+00</td>\n      <td>-192.0000</td>\n      <td>-179.00</td>\n      <td>1.0</td>\n      <td>NaN</td>\n      <td>NaN</td>\n      <td>NaN</td>\n    </tr>\n    <tr>\n      <th>BCL3</th>\n      <td>2</td>\n      <td>BORON-TRICHLORIDE</td>\n      <td>117.169</td>\n      <td>-107.3</td>\n      <td>12.5</td>\n      <td>452.0</td>\n      <td>38.7</td>\n      <td>1350.000</td>\n      <td>11.0</td>\n      <td>2.0</td>\n      <td>...</td>\n      <td>NaN</td>\n      <td>NaN</td>\n      <td>NaN</td>\n      <td>NaN</td>\n      <td>NaN</td>\n      <td>NaN</td>\n      <td>NaN</td>\n      <td>NaN</td>\n      <td>NaN</td>\n      <td>NaN</td>\n    </tr>\n    <tr>\n      <th>BF3</th>\n      <td>3</td>\n      <td>BORON-TRIFLUORIDE</td>\n      <td>67.805</td>\n      <td>-126.7</td>\n      <td>-99.9</td>\n      <td>260.8</td>\n      <td>49.9</td>\n      <td>3.000</td>\n      <td>NaN</td>\n      <td>NaN</td>\n      <td>...</td>\n      <td>NaN</td>\n      <td>NaN</td>\n      <td>NaN</td>\n      <td>NaN</td>\n      <td>NaN</td>\n      <td>NaN</td>\n      <td>NaN</td>\n      <td>NaN</td>\n      <td>NaN</td>\n      <td>NaN</td>\n    </tr>\n    <tr>\n      <th>BR2</th>\n      <td>4</td>\n      <td>BROMINE</td>\n      <td>159.808</td>\n      <td>-7.2</td>\n      <td>58.7</td>\n      <td>584.0</td>\n      <td>103.4</td>\n      <td>0.127</td>\n      <td>3119.0</td>\n      <td>20.0</td>\n      <td>...</td>\n      <td>-1.192000e-05</td>\n      <td>4.534300e-09</td>\n      <td>15.844100</td>\n      <td>2.582320e+03</td>\n      <td>-51.5600</td>\n      <td>-14.00</td>\n      <td>81.0</td>\n      <td>4.0</td>\n      <td>NaN</td>\n      <td>NaN</td>\n    </tr>\n    <tr>\n      <th>CLNO</th>\n      <td>5</td>\n      <td>NITROSYL-CHLORIDE</td>\n      <td>65.459</td>\n      <td>-59.7</td>\n      <td>-5.5</td>\n      <td>440.0</td>\n      <td>91.2</td>\n      <td>0.139</td>\n      <td>1420.0</td>\n      <td>-12.0</td>\n      <td>...</td>\n      <td>-3.340000e-05</td>\n      <td>1.014900e-08</td>\n      <td>16.950500</td>\n      <td>2.520700e+03</td>\n      <td>-23.4600</td>\n      <td>-63.00</td>\n      <td>12.0</td>\n      <td>5.0</td>\n      <td>NaN</td>\n      <td>NaN</td>\n    </tr>\n    <tr>\n      <th>...</th>\n      <td>...</td>\n      <td>...</td>\n      <td>...</td>\n      <td>...</td>\n      <td>...</td>\n      <td>...</td>\n      <td>...</td>\n      <td>...</td>\n      <td>...</td>\n      <td>...</td>\n      <td>...</td>\n      <td>...</td>\n      <td>...</td>\n      <td>...</td>\n      <td>...</td>\n      <td>...</td>\n      <td>...</td>\n      <td>...</td>\n      <td>...</td>\n      <td>...</td>\n      <td>...</td>\n    </tr>\n    <tr>\n      <th>C19H40</th>\n      <td>496</td>\n      <td>N-NONADECANE</td>\n      <td>268.529</td>\n      <td>31.8</td>\n      <td>329.9</td>\n      <td>756.0</td>\n      <td>11.1</td>\n      <td>789.000</td>\n      <td>32.0</td>\n      <td>56061.0</td>\n      <td>...</td>\n      <td>-1.549100e+01</td>\n      <td>1.812500e+00</td>\n      <td>-0.001015</td>\n      <td>2.205200e-07</td>\n      <td>16.1533</td>\n      <td>4450.44</td>\n      <td>-135.6</td>\n      <td>183.0</td>\n      <td>366.0</td>\n      <td>496.0</td>\n    </tr>\n    <tr>\n      <th>C20H40</th>\n      <td>497</td>\n      <td>N-PENTADECYLCYCLOPENTANE</td>\n      <td>280.540</td>\n      <td>351.8</td>\n      <td>780.0</td>\n      <td>10.2</td>\n      <td>57694.0</td>\n      <td>497.000</td>\n      <td>NaN</td>\n      <td>NaN</td>\n      <td>...</td>\n      <td>-6.609300e+01</td>\n      <td>1.980400e+00</td>\n      <td>-0.001140</td>\n      <td>2.549800e-07</td>\n      <td>16.3092</td>\n      <td>4642.01</td>\n      <td>-145.1</td>\n      <td>203.0</td>\n      <td>388.0</td>\n      <td>497.0</td>\n    </tr>\n    <tr>\n      <th>C20H42</th>\n      <td>498</td>\n      <td>N-EICOSANE</td>\n      <td>282.556</td>\n      <td>36.8</td>\n      <td>343.8</td>\n      <td>767.0</td>\n      <td>11.1</td>\n      <td>775.000</td>\n      <td>40.0</td>\n      <td>57527.0</td>\n      <td>...</td>\n      <td>-2.238300e+01</td>\n      <td>1.939300e+00</td>\n      <td>-0.001117</td>\n      <td>2.528400e-07</td>\n      <td>16.4685</td>\n      <td>4680.46</td>\n      <td>-141.1</td>\n      <td>198.0</td>\n      <td>379.0</td>\n      <td>498.0</td>\n    </tr>\n    <tr>\n      <th>C20H42O</th>\n      <td>499</td>\n      <td>1-EICOSANOL</td>\n      <td>298.555</td>\n      <td>65.8</td>\n      <td>355.8</td>\n      <td>770.0</td>\n      <td>12.2</td>\n      <td>65314.000</td>\n      <td>499.0</td>\n      <td>NaN</td>\n      <td>...</td>\n      <td>-1.118000e-03</td>\n      <td>2.515800e-07</td>\n      <td>15.823300</td>\n      <td>3.912100e+03</td>\n      <td>-203.1000</td>\n      <td>219.00</td>\n      <td>406.0</td>\n      <td>499.0</td>\n      <td>NaN</td>\n      <td>NaN</td>\n    </tr>\n    <tr>\n      <th>C21H42</th>\n      <td>500</td>\n      <td>N-HEXADECYLCYCLOPENTANE</td>\n      <td>294.567</td>\n      <td>363.8</td>\n      <td>791.0</td>\n      <td>9.7</td>\n      <td>59369.0</td>\n      <td>500.000</td>\n      <td>NaN</td>\n      <td>NaN</td>\n      <td>...</td>\n      <td>-6.668300e+01</td>\n      <td>2.074100e+00</td>\n      <td>-0.001237</td>\n      <td>2.668200e-07</td>\n      <td>16.3553</td>\n      <td>4715.69</td>\n      <td>-152.1</td>\n      <td>215.0</td>\n      <td>401.0</td>\n      <td>500.0</td>\n    </tr>\n  </tbody>\n</table>\n<p>500 rows × 29 columns</p>\n</div>"
     },
     "metadata": {},
     "execution_count": 18
    }
   ],
   "source": [
    "df.set_index(\"FORMULA\", inplace=True)\n",
    "df"
   ]
  },
  {
   "cell_type": "code",
   "execution_count": 19,
   "metadata": {},
   "outputs": [
    {
     "output_type": "execute_result",
     "data": {
      "text/plain": [
       "         NO    COMPOUND-NAME   MOLWT    TFP    TBP     TC     PC     VC  \\\n",
       "FORMULA                                                                   \n",
       "CO       46  CARBON-MONOXIDE  28.010 -205.1 -191.5  132.9   35.0  0.093   \n",
       "CO2      48   CARBON-DIOXIDE  44.010  -56.6  -78.5  304.2   73.8  0.094   \n",
       "CH4      64          METHANE  16.043 -182.5 -161.5  190.6   46.0  0.099   \n",
       "C2H4     92         ETHYLENE  28.054 -169.2 -103.8  282.4   50.4  0.129   \n",
       "CH4O     65         METHANOL  32.042  -97.7   64.6  512.6   81.0  0.118   \n",
       "H2O      20            WATER  18.015    0.0  100.0  647.3  220.5  0.056   \n",
       "O2       34           OXYGEN  31.999 -218.8 -183.0  154.6   50.5  0.073   \n",
       "H2       19         HYDROGEN   2.016 -259.2 -252.8   33.2   13.0  0.065   \n",
       "N2       31         NITROGEN  28.013 -209.9 -195.8  126.2   33.9  0.090   \n",
       "\n",
       "           LDEN   TDEN  ...  CPVAPA    CPVAPB    CPVAPC        CPVAPD  \\\n",
       "FORMULA                 ...                                             \n",
       "CO        803.0 -192.0  ...  30.869 -0.012850  0.000028 -1.272000e-08   \n",
       "CO2       777.0   20.0  ...  19.795  0.073436 -0.000056  1.715300e-08   \n",
       "CH4       425.0 -161.0  ...  19.251  0.052126  0.000012 -1.132000e-08   \n",
       "C2H4      577.0 -110.0  ...   3.806  0.156590 -0.000083  1.755100e-08   \n",
       "CH4O      791.0   20.0  ...  21.152  0.070924  0.000026 -2.852000e-08   \n",
       "H2O       998.0   20.0  ...  32.243  0.001924  0.000011 -3.596000e-09   \n",
       "O2       1149.0 -183.0  ...  28.106 -0.000004  0.000017 -1.065000e-08   \n",
       "H2         71.0 -253.0  ...  27.143  0.009274 -0.000014  7.645100e-09   \n",
       "N2        805.0 -195.0  ...  31.150 -0.013570  0.000027 -1.168000e-08   \n",
       "\n",
       "            ANTA     ANTB   ANTC    TMN    TMX  NO.3  \n",
       "FORMULA                                               \n",
       "CO       14.3686   530.22 -13.15 -210.0 -165.0  46.0  \n",
       "CO2      22.5898  3103.39  -0.16 -119.0  -69.0  48.0  \n",
       "CH4      15.2243   597.84  -7.16 -180.0 -153.0  64.0  \n",
       "C2H4     15.5368  1347.01 -18.15 -153.0  -91.0  92.0  \n",
       "CH4O     18.5875  3626.55 -34.29  -16.0   91.0  65.0  \n",
       "H2O      18.3036  3816.44 -46.13   11.0  168.0  20.0  \n",
       "O2       15.4075   734.55  -6.45 -210.0 -173.0  34.0  \n",
       "H2       13.6333   164.90   3.19 -259.0 -248.0  19.0  \n",
       "N2       14.9542   588.72  -6.60 -219.0 -183.0  31.0  \n",
       "\n",
       "[9 rows x 29 columns]"
      ],
      "text/html": "<div>\n<style scoped>\n    .dataframe tbody tr th:only-of-type {\n        vertical-align: middle;\n    }\n\n    .dataframe tbody tr th {\n        vertical-align: top;\n    }\n\n    .dataframe thead th {\n        text-align: right;\n    }\n</style>\n<table border=\"1\" class=\"dataframe\">\n  <thead>\n    <tr style=\"text-align: right;\">\n      <th></th>\n      <th>NO</th>\n      <th>COMPOUND-NAME</th>\n      <th>MOLWT</th>\n      <th>TFP</th>\n      <th>TBP</th>\n      <th>TC</th>\n      <th>PC</th>\n      <th>VC</th>\n      <th>LDEN</th>\n      <th>TDEN</th>\n      <th>...</th>\n      <th>CPVAPA</th>\n      <th>CPVAPB</th>\n      <th>CPVAPC</th>\n      <th>CPVAPD</th>\n      <th>ANTA</th>\n      <th>ANTB</th>\n      <th>ANTC</th>\n      <th>TMN</th>\n      <th>TMX</th>\n      <th>NO.3</th>\n    </tr>\n    <tr>\n      <th>FORMULA</th>\n      <th></th>\n      <th></th>\n      <th></th>\n      <th></th>\n      <th></th>\n      <th></th>\n      <th></th>\n      <th></th>\n      <th></th>\n      <th></th>\n      <th></th>\n      <th></th>\n      <th></th>\n      <th></th>\n      <th></th>\n      <th></th>\n      <th></th>\n      <th></th>\n      <th></th>\n      <th></th>\n      <th></th>\n    </tr>\n  </thead>\n  <tbody>\n    <tr>\n      <th>CO</th>\n      <td>46</td>\n      <td>CARBON-MONOXIDE</td>\n      <td>28.010</td>\n      <td>-205.1</td>\n      <td>-191.5</td>\n      <td>132.9</td>\n      <td>35.0</td>\n      <td>0.093</td>\n      <td>803.0</td>\n      <td>-192.0</td>\n      <td>...</td>\n      <td>30.869</td>\n      <td>-0.012850</td>\n      <td>0.000028</td>\n      <td>-1.272000e-08</td>\n      <td>14.3686</td>\n      <td>530.22</td>\n      <td>-13.15</td>\n      <td>-210.0</td>\n      <td>-165.0</td>\n      <td>46.0</td>\n    </tr>\n    <tr>\n      <th>CO2</th>\n      <td>48</td>\n      <td>CARBON-DIOXIDE</td>\n      <td>44.010</td>\n      <td>-56.6</td>\n      <td>-78.5</td>\n      <td>304.2</td>\n      <td>73.8</td>\n      <td>0.094</td>\n      <td>777.0</td>\n      <td>20.0</td>\n      <td>...</td>\n      <td>19.795</td>\n      <td>0.073436</td>\n      <td>-0.000056</td>\n      <td>1.715300e-08</td>\n      <td>22.5898</td>\n      <td>3103.39</td>\n      <td>-0.16</td>\n      <td>-119.0</td>\n      <td>-69.0</td>\n      <td>48.0</td>\n    </tr>\n    <tr>\n      <th>CH4</th>\n      <td>64</td>\n      <td>METHANE</td>\n      <td>16.043</td>\n      <td>-182.5</td>\n      <td>-161.5</td>\n      <td>190.6</td>\n      <td>46.0</td>\n      <td>0.099</td>\n      <td>425.0</td>\n      <td>-161.0</td>\n      <td>...</td>\n      <td>19.251</td>\n      <td>0.052126</td>\n      <td>0.000012</td>\n      <td>-1.132000e-08</td>\n      <td>15.2243</td>\n      <td>597.84</td>\n      <td>-7.16</td>\n      <td>-180.0</td>\n      <td>-153.0</td>\n      <td>64.0</td>\n    </tr>\n    <tr>\n      <th>C2H4</th>\n      <td>92</td>\n      <td>ETHYLENE</td>\n      <td>28.054</td>\n      <td>-169.2</td>\n      <td>-103.8</td>\n      <td>282.4</td>\n      <td>50.4</td>\n      <td>0.129</td>\n      <td>577.0</td>\n      <td>-110.0</td>\n      <td>...</td>\n      <td>3.806</td>\n      <td>0.156590</td>\n      <td>-0.000083</td>\n      <td>1.755100e-08</td>\n      <td>15.5368</td>\n      <td>1347.01</td>\n      <td>-18.15</td>\n      <td>-153.0</td>\n      <td>-91.0</td>\n      <td>92.0</td>\n    </tr>\n    <tr>\n      <th>CH4O</th>\n      <td>65</td>\n      <td>METHANOL</td>\n      <td>32.042</td>\n      <td>-97.7</td>\n      <td>64.6</td>\n      <td>512.6</td>\n      <td>81.0</td>\n      <td>0.118</td>\n      <td>791.0</td>\n      <td>20.0</td>\n      <td>...</td>\n      <td>21.152</td>\n      <td>0.070924</td>\n      <td>0.000026</td>\n      <td>-2.852000e-08</td>\n      <td>18.5875</td>\n      <td>3626.55</td>\n      <td>-34.29</td>\n      <td>-16.0</td>\n      <td>91.0</td>\n      <td>65.0</td>\n    </tr>\n    <tr>\n      <th>H2O</th>\n      <td>20</td>\n      <td>WATER</td>\n      <td>18.015</td>\n      <td>0.0</td>\n      <td>100.0</td>\n      <td>647.3</td>\n      <td>220.5</td>\n      <td>0.056</td>\n      <td>998.0</td>\n      <td>20.0</td>\n      <td>...</td>\n      <td>32.243</td>\n      <td>0.001924</td>\n      <td>0.000011</td>\n      <td>-3.596000e-09</td>\n      <td>18.3036</td>\n      <td>3816.44</td>\n      <td>-46.13</td>\n      <td>11.0</td>\n      <td>168.0</td>\n      <td>20.0</td>\n    </tr>\n    <tr>\n      <th>O2</th>\n      <td>34</td>\n      <td>OXYGEN</td>\n      <td>31.999</td>\n      <td>-218.8</td>\n      <td>-183.0</td>\n      <td>154.6</td>\n      <td>50.5</td>\n      <td>0.073</td>\n      <td>1149.0</td>\n      <td>-183.0</td>\n      <td>...</td>\n      <td>28.106</td>\n      <td>-0.000004</td>\n      <td>0.000017</td>\n      <td>-1.065000e-08</td>\n      <td>15.4075</td>\n      <td>734.55</td>\n      <td>-6.45</td>\n      <td>-210.0</td>\n      <td>-173.0</td>\n      <td>34.0</td>\n    </tr>\n    <tr>\n      <th>H2</th>\n      <td>19</td>\n      <td>HYDROGEN</td>\n      <td>2.016</td>\n      <td>-259.2</td>\n      <td>-252.8</td>\n      <td>33.2</td>\n      <td>13.0</td>\n      <td>0.065</td>\n      <td>71.0</td>\n      <td>-253.0</td>\n      <td>...</td>\n      <td>27.143</td>\n      <td>0.009274</td>\n      <td>-0.000014</td>\n      <td>7.645100e-09</td>\n      <td>13.6333</td>\n      <td>164.90</td>\n      <td>3.19</td>\n      <td>-259.0</td>\n      <td>-248.0</td>\n      <td>19.0</td>\n    </tr>\n    <tr>\n      <th>N2</th>\n      <td>31</td>\n      <td>NITROGEN</td>\n      <td>28.013</td>\n      <td>-209.9</td>\n      <td>-195.8</td>\n      <td>126.2</td>\n      <td>33.9</td>\n      <td>0.090</td>\n      <td>805.0</td>\n      <td>-195.0</td>\n      <td>...</td>\n      <td>31.150</td>\n      <td>-0.013570</td>\n      <td>0.000027</td>\n      <td>-1.168000e-08</td>\n      <td>14.9542</td>\n      <td>588.72</td>\n      <td>-6.60</td>\n      <td>-219.0</td>\n      <td>-183.0</td>\n      <td>31.0</td>\n    </tr>\n  </tbody>\n</table>\n<p>9 rows × 29 columns</p>\n</div>"
     },
     "metadata": {},
     "execution_count": 19
    }
   ],
   "source": [
    "dfw = df.loc[['CO','CO2','CH4','C2H4','CH4O','H2O','O2','H2','N2']]\n",
    "dfw"
   ]
  },
  {
   "cell_type": "code",
   "execution_count": 20,
   "metadata": {},
   "outputs": [
    {
     "output_type": "stream",
     "name": "stdout",
     "text": [
      "<class 'pandas.core.frame.DataFrame'>\nIndex: 9 entries, CO to N2\nData columns (total 29 columns):\n #   Column         Non-Null Count  Dtype  \n---  ------         --------------  -----  \n 0   NO             9 non-null      int64  \n 1   COMPOUND-NAME  9 non-null      object \n 2   MOLWT          9 non-null      object \n 3   TFP            9 non-null      float64\n 4   TBP            9 non-null      float64\n 5   TC             9 non-null      float64\n 6   PC             9 non-null      float64\n 7   VC             9 non-null      float64\n 8   LDEN           9 non-null      float64\n 9   TDEN           9 non-null      float64\n 10  HVAP           9 non-null      float64\n 11  NO.1           9 non-null      float64\n 12  Unnamed: 13    0 non-null      float64\n 13  Unnamed: 14    0 non-null      float64\n 14  NO.2           9 non-null      int64  \n 15  VISA           9 non-null      float64\n 16  VISB           9 non-null      float64\n 17  DELHF          9 non-null      float64\n 18  DELGF          9 non-null      float64\n 19  CPVAPA         9 non-null      float64\n 20  CPVAPB         9 non-null      float64\n 21  CPVAPC         9 non-null      float64\n 22  CPVAPD         9 non-null      float64\n 23  ANTA           9 non-null      float64\n 24  ANTB           9 non-null      float64\n 25  ANTC           9 non-null      float64\n 26  TMN            9 non-null      float64\n 27  TMX            9 non-null      float64\n 28  NO.3           9 non-null      float64\ndtypes: float64(25), int64(2), object(2)\nmemory usage: 2.1+ KB\n"
     ]
    }
   ],
   "source": [
    "dfw.info()"
   ]
  },
  {
   "cell_type": "code",
   "execution_count": 21,
   "metadata": {},
   "outputs": [
    {
     "output_type": "execute_result",
     "data": {
      "text/plain": [
       "         NO    COMPOUND-NAME   MOLWT    TFP    TBP     TC     PC     VC  \\\n",
       "FORMULA                                                                   \n",
       "CO       46  CARBON-MONOXIDE  28.010 -205.1 -191.5  132.9   35.0  0.093   \n",
       "CO2      48   CARBON-DIOXIDE  44.010  -56.6  -78.5  304.2   73.8  0.094   \n",
       "CH4      64          METHANE  16.043 -182.5 -161.5  190.6   46.0  0.099   \n",
       "C2H4     92         ETHYLENE  28.054 -169.2 -103.8  282.4   50.4  0.129   \n",
       "CH4O     65         METHANOL  32.042  -97.7   64.6  512.6   81.0  0.118   \n",
       "H2O      20            WATER  18.015    0.0  100.0  647.3  220.5  0.056   \n",
       "O2       34           OXYGEN  31.999 -218.8 -183.0  154.6   50.5  0.073   \n",
       "H2       19         HYDROGEN   2.016 -259.2 -252.8   33.2   13.0  0.065   \n",
       "N2       31         NITROGEN  28.013 -209.9 -195.8  126.2   33.9  0.090   \n",
       "\n",
       "           LDEN   TDEN  ...  CPVAPA    CPVAPB    CPVAPC        CPVAPD  \\\n",
       "FORMULA                 ...                                             \n",
       "CO        803.0 -192.0  ...  30.869 -0.012850  0.000028 -1.272000e-08   \n",
       "CO2       777.0   20.0  ...  19.795  0.073436 -0.000056  1.715300e-08   \n",
       "CH4       425.0 -161.0  ...  19.251  0.052126  0.000012 -1.132000e-08   \n",
       "C2H4      577.0 -110.0  ...   3.806  0.156590 -0.000083  1.755100e-08   \n",
       "CH4O      791.0   20.0  ...  21.152  0.070924  0.000026 -2.852000e-08   \n",
       "H2O       998.0   20.0  ...  32.243  0.001924  0.000011 -3.596000e-09   \n",
       "O2       1149.0 -183.0  ...  28.106 -0.000004  0.000017 -1.065000e-08   \n",
       "H2         71.0 -253.0  ...  27.143  0.009274 -0.000014  7.645100e-09   \n",
       "N2        805.0 -195.0  ...  31.150 -0.013570  0.000027 -1.168000e-08   \n",
       "\n",
       "            ANTA     ANTB   ANTC    TMN    TMX  NO.3  \n",
       "FORMULA                                               \n",
       "CO       14.3686   530.22 -13.15 -210.0 -165.0  46.0  \n",
       "CO2      22.5898  3103.39  -0.16 -119.0  -69.0  48.0  \n",
       "CH4      15.2243   597.84  -7.16 -180.0 -153.0  64.0  \n",
       "C2H4     15.5368  1347.01 -18.15 -153.0  -91.0  92.0  \n",
       "CH4O     18.5875  3626.55 -34.29  -16.0   91.0  65.0  \n",
       "H2O      18.3036  3816.44 -46.13   11.0  168.0  20.0  \n",
       "O2       15.4075   734.55  -6.45 -210.0 -173.0  34.0  \n",
       "H2       13.6333   164.90   3.19 -259.0 -248.0  19.0  \n",
       "N2       14.9542   588.72  -6.60 -219.0 -183.0  31.0  \n",
       "\n",
       "[9 rows x 29 columns]"
      ],
      "text/html": "<div>\n<style scoped>\n    .dataframe tbody tr th:only-of-type {\n        vertical-align: middle;\n    }\n\n    .dataframe tbody tr th {\n        vertical-align: top;\n    }\n\n    .dataframe thead th {\n        text-align: right;\n    }\n</style>\n<table border=\"1\" class=\"dataframe\">\n  <thead>\n    <tr style=\"text-align: right;\">\n      <th></th>\n      <th>NO</th>\n      <th>COMPOUND-NAME</th>\n      <th>MOLWT</th>\n      <th>TFP</th>\n      <th>TBP</th>\n      <th>TC</th>\n      <th>PC</th>\n      <th>VC</th>\n      <th>LDEN</th>\n      <th>TDEN</th>\n      <th>...</th>\n      <th>CPVAPA</th>\n      <th>CPVAPB</th>\n      <th>CPVAPC</th>\n      <th>CPVAPD</th>\n      <th>ANTA</th>\n      <th>ANTB</th>\n      <th>ANTC</th>\n      <th>TMN</th>\n      <th>TMX</th>\n      <th>NO.3</th>\n    </tr>\n    <tr>\n      <th>FORMULA</th>\n      <th></th>\n      <th></th>\n      <th></th>\n      <th></th>\n      <th></th>\n      <th></th>\n      <th></th>\n      <th></th>\n      <th></th>\n      <th></th>\n      <th></th>\n      <th></th>\n      <th></th>\n      <th></th>\n      <th></th>\n      <th></th>\n      <th></th>\n      <th></th>\n      <th></th>\n      <th></th>\n      <th></th>\n    </tr>\n  </thead>\n  <tbody>\n    <tr>\n      <th>CO</th>\n      <td>46</td>\n      <td>CARBON-MONOXIDE</td>\n      <td>28.010</td>\n      <td>-205.1</td>\n      <td>-191.5</td>\n      <td>132.9</td>\n      <td>35.0</td>\n      <td>0.093</td>\n      <td>803.0</td>\n      <td>-192.0</td>\n      <td>...</td>\n      <td>30.869</td>\n      <td>-0.012850</td>\n      <td>0.000028</td>\n      <td>-1.272000e-08</td>\n      <td>14.3686</td>\n      <td>530.22</td>\n      <td>-13.15</td>\n      <td>-210.0</td>\n      <td>-165.0</td>\n      <td>46.0</td>\n    </tr>\n    <tr>\n      <th>CO2</th>\n      <td>48</td>\n      <td>CARBON-DIOXIDE</td>\n      <td>44.010</td>\n      <td>-56.6</td>\n      <td>-78.5</td>\n      <td>304.2</td>\n      <td>73.8</td>\n      <td>0.094</td>\n      <td>777.0</td>\n      <td>20.0</td>\n      <td>...</td>\n      <td>19.795</td>\n      <td>0.073436</td>\n      <td>-0.000056</td>\n      <td>1.715300e-08</td>\n      <td>22.5898</td>\n      <td>3103.39</td>\n      <td>-0.16</td>\n      <td>-119.0</td>\n      <td>-69.0</td>\n      <td>48.0</td>\n    </tr>\n    <tr>\n      <th>CH4</th>\n      <td>64</td>\n      <td>METHANE</td>\n      <td>16.043</td>\n      <td>-182.5</td>\n      <td>-161.5</td>\n      <td>190.6</td>\n      <td>46.0</td>\n      <td>0.099</td>\n      <td>425.0</td>\n      <td>-161.0</td>\n      <td>...</td>\n      <td>19.251</td>\n      <td>0.052126</td>\n      <td>0.000012</td>\n      <td>-1.132000e-08</td>\n      <td>15.2243</td>\n      <td>597.84</td>\n      <td>-7.16</td>\n      <td>-180.0</td>\n      <td>-153.0</td>\n      <td>64.0</td>\n    </tr>\n    <tr>\n      <th>C2H4</th>\n      <td>92</td>\n      <td>ETHYLENE</td>\n      <td>28.054</td>\n      <td>-169.2</td>\n      <td>-103.8</td>\n      <td>282.4</td>\n      <td>50.4</td>\n      <td>0.129</td>\n      <td>577.0</td>\n      <td>-110.0</td>\n      <td>...</td>\n      <td>3.806</td>\n      <td>0.156590</td>\n      <td>-0.000083</td>\n      <td>1.755100e-08</td>\n      <td>15.5368</td>\n      <td>1347.01</td>\n      <td>-18.15</td>\n      <td>-153.0</td>\n      <td>-91.0</td>\n      <td>92.0</td>\n    </tr>\n    <tr>\n      <th>CH4O</th>\n      <td>65</td>\n      <td>METHANOL</td>\n      <td>32.042</td>\n      <td>-97.7</td>\n      <td>64.6</td>\n      <td>512.6</td>\n      <td>81.0</td>\n      <td>0.118</td>\n      <td>791.0</td>\n      <td>20.0</td>\n      <td>...</td>\n      <td>21.152</td>\n      <td>0.070924</td>\n      <td>0.000026</td>\n      <td>-2.852000e-08</td>\n      <td>18.5875</td>\n      <td>3626.55</td>\n      <td>-34.29</td>\n      <td>-16.0</td>\n      <td>91.0</td>\n      <td>65.0</td>\n    </tr>\n    <tr>\n      <th>H2O</th>\n      <td>20</td>\n      <td>WATER</td>\n      <td>18.015</td>\n      <td>0.0</td>\n      <td>100.0</td>\n      <td>647.3</td>\n      <td>220.5</td>\n      <td>0.056</td>\n      <td>998.0</td>\n      <td>20.0</td>\n      <td>...</td>\n      <td>32.243</td>\n      <td>0.001924</td>\n      <td>0.000011</td>\n      <td>-3.596000e-09</td>\n      <td>18.3036</td>\n      <td>3816.44</td>\n      <td>-46.13</td>\n      <td>11.0</td>\n      <td>168.0</td>\n      <td>20.0</td>\n    </tr>\n    <tr>\n      <th>O2</th>\n      <td>34</td>\n      <td>OXYGEN</td>\n      <td>31.999</td>\n      <td>-218.8</td>\n      <td>-183.0</td>\n      <td>154.6</td>\n      <td>50.5</td>\n      <td>0.073</td>\n      <td>1149.0</td>\n      <td>-183.0</td>\n      <td>...</td>\n      <td>28.106</td>\n      <td>-0.000004</td>\n      <td>0.000017</td>\n      <td>-1.065000e-08</td>\n      <td>15.4075</td>\n      <td>734.55</td>\n      <td>-6.45</td>\n      <td>-210.0</td>\n      <td>-173.0</td>\n      <td>34.0</td>\n    </tr>\n    <tr>\n      <th>H2</th>\n      <td>19</td>\n      <td>HYDROGEN</td>\n      <td>2.016</td>\n      <td>-259.2</td>\n      <td>-252.8</td>\n      <td>33.2</td>\n      <td>13.0</td>\n      <td>0.065</td>\n      <td>71.0</td>\n      <td>-253.0</td>\n      <td>...</td>\n      <td>27.143</td>\n      <td>0.009274</td>\n      <td>-0.000014</td>\n      <td>7.645100e-09</td>\n      <td>13.6333</td>\n      <td>164.90</td>\n      <td>3.19</td>\n      <td>-259.0</td>\n      <td>-248.0</td>\n      <td>19.0</td>\n    </tr>\n    <tr>\n      <th>N2</th>\n      <td>31</td>\n      <td>NITROGEN</td>\n      <td>28.013</td>\n      <td>-209.9</td>\n      <td>-195.8</td>\n      <td>126.2</td>\n      <td>33.9</td>\n      <td>0.090</td>\n      <td>805.0</td>\n      <td>-195.0</td>\n      <td>...</td>\n      <td>31.150</td>\n      <td>-0.013570</td>\n      <td>0.000027</td>\n      <td>-1.168000e-08</td>\n      <td>14.9542</td>\n      <td>588.72</td>\n      <td>-6.60</td>\n      <td>-219.0</td>\n      <td>-183.0</td>\n      <td>31.0</td>\n    </tr>\n  </tbody>\n</table>\n<p>9 rows × 29 columns</p>\n</div>"
     },
     "metadata": {},
     "execution_count": 21
    }
   ],
   "source": [
    "dfw\n"
   ]
  },
  {
   "cell_type": "code",
   "execution_count": 22,
   "metadata": {},
   "outputs": [],
   "source": [
    "dfw.to_csv('gasif_pp_data.csv')"
   ]
  }
 ]
}