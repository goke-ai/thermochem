{
 "metadata": {
  "language_info": {
   "codemirror_mode": {
    "name": "ipython",
    "version": 3
   },
   "file_extension": ".py",
   "mimetype": "text/x-python",
   "name": "python",
   "nbconvert_exporter": "python",
   "pygments_lexer": "ipython3",
   "version": "3.8.10"
  },
  "orig_nbformat": 4,
  "kernelspec": {
   "name": "python3",
   "display_name": "Python 3.8.10 64-bit"
  },
  "interpreter": {
   "hash": "c9dd2b683db0012b822fc70113fe185827d40eabd1f252adf468801410e30d36"
  }
 },
 "nbformat": 4,
 "nbformat_minor": 2,
 "cells": [
  {
   "cell_type": "code",
   "execution_count": 77,
   "metadata": {},
   "outputs": [],
   "source": [
    "f = open(\"entropy_data.txt\", \"r\")\n",
    "dataList =[]\n",
    "sNO = []\n",
    "count = 0\n",
    "show_n=5\n",
    "k = 0\n",
    "\n",
    "for l in f:\n",
    "    \n",
    "    if '#' in l:\n",
    "        continue\n",
    "\n",
    "    # substance formula entropy\n",
    "    w = l.split()\n",
    "    n = len(w)\n",
    "\n",
    "    # print(n)\n",
    "\n",
    "    if n < 2:\n",
    "        continue;\n",
    "\n",
    "    entropy = w[-1].replace('\\n','')\n",
    "    formula = w[-2].upper()\n",
    "    substance = '-'.join(w[:-2]).replace(',','-')\n",
    "\n",
    "    x = f'{substance.upper()},{formula},{entropy}'\n",
    "        \n",
    "    count += 1\n",
    "\n",
    "    dataList.append(x)\n",
    "    # print(l)\n",
    "    # print(x)\n",
    "\n",
    "    # if count == 10:\n",
    "        # break\n",
    "\n",
    "f.close()"
   ]
  },
  {
   "cell_type": "code",
   "execution_count": 78,
   "metadata": {},
   "outputs": [],
   "source": [
    "f = open(\"entropy_data_out.txt\", \"w\")\n",
    "f.write('SUBSTANCE,FORMULA,ENTROPY'+'\\n')\n",
    "for l in dataList:\n",
    "    f.write(l+'\\n')\n",
    "f.close()"
   ]
  },
  {
   "cell_type": "code",
   "execution_count": 79,
   "metadata": {},
   "outputs": [
    {
     "output_type": "execute_result",
     "data": {
      "text/plain": [
       "     SUBSTANCE    FORMULA  ENTROPY\n",
       "0      ACETONE   (CH3)2CO   294.65\n",
       "1     GLYCERIN  C3H5(OH)3   206.00\n",
       "2      ETHANOL     C2H5OH   282.32\n",
       "3   WATER-25°C        H2O    69.96\n",
       "4  CYCLOHEXANE      C6H12   297.95"
      ],
      "text/html": "<div>\n<style scoped>\n    .dataframe tbody tr th:only-of-type {\n        vertical-align: middle;\n    }\n\n    .dataframe tbody tr th {\n        vertical-align: top;\n    }\n\n    .dataframe thead th {\n        text-align: right;\n    }\n</style>\n<table border=\"1\" class=\"dataframe\">\n  <thead>\n    <tr style=\"text-align: right;\">\n      <th></th>\n      <th>SUBSTANCE</th>\n      <th>FORMULA</th>\n      <th>ENTROPY</th>\n    </tr>\n  </thead>\n  <tbody>\n    <tr>\n      <th>0</th>\n      <td>ACETONE</td>\n      <td>(CH3)2CO</td>\n      <td>294.65</td>\n    </tr>\n    <tr>\n      <th>1</th>\n      <td>GLYCERIN</td>\n      <td>C3H5(OH)3</td>\n      <td>206.00</td>\n    </tr>\n    <tr>\n      <th>2</th>\n      <td>ETHANOL</td>\n      <td>C2H5OH</td>\n      <td>282.32</td>\n    </tr>\n    <tr>\n      <th>3</th>\n      <td>WATER-25°C</td>\n      <td>H2O</td>\n      <td>69.96</td>\n    </tr>\n    <tr>\n      <th>4</th>\n      <td>CYCLOHEXANE</td>\n      <td>C6H12</td>\n      <td>297.95</td>\n    </tr>\n  </tbody>\n</table>\n</div>"
     },
     "metadata": {},
     "execution_count": 79
    }
   ],
   "source": [
    "import pandas as pd\n",
    "df = pd.read_csv('entropy_data_out.txt')\n",
    "df.head()"
   ]
  },
  {
   "cell_type": "code",
   "execution_count": 80,
   "metadata": {},
   "outputs": [
    {
     "output_type": "execute_result",
     "data": {
      "text/plain": [
       "                SUBSTANCE  ENTROPY\n",
       "FORMULA                           \n",
       "(CH3)2CO          ACETONE   294.65\n",
       "C3H5(OH)3        GLYCERIN   206.00\n",
       "C2H5OH            ETHANOL   282.32\n",
       "H2O            WATER-25°C    69.96\n",
       "C6H12         CYCLOHEXANE   297.95\n",
       "...                   ...      ...\n",
       "C2H4O2     METHYL-FORMATE   189.60\n",
       "CL2              CHLORINE   222.75\n",
       "F2               FLUORINE   202.52\n",
       "C                GRAPHITE     5.68\n",
       "C2H3O2NA   SODIUM-ACETATE   123.00\n",
       "\n",
       "[190 rows x 2 columns]"
      ],
      "text/html": "<div>\n<style scoped>\n    .dataframe tbody tr th:only-of-type {\n        vertical-align: middle;\n    }\n\n    .dataframe tbody tr th {\n        vertical-align: top;\n    }\n\n    .dataframe thead th {\n        text-align: right;\n    }\n</style>\n<table border=\"1\" class=\"dataframe\">\n  <thead>\n    <tr style=\"text-align: right;\">\n      <th></th>\n      <th>SUBSTANCE</th>\n      <th>ENTROPY</th>\n    </tr>\n    <tr>\n      <th>FORMULA</th>\n      <th></th>\n      <th></th>\n    </tr>\n  </thead>\n  <tbody>\n    <tr>\n      <th>(CH3)2CO</th>\n      <td>ACETONE</td>\n      <td>294.65</td>\n    </tr>\n    <tr>\n      <th>C3H5(OH)3</th>\n      <td>GLYCERIN</td>\n      <td>206.00</td>\n    </tr>\n    <tr>\n      <th>C2H5OH</th>\n      <td>ETHANOL</td>\n      <td>282.32</td>\n    </tr>\n    <tr>\n      <th>H2O</th>\n      <td>WATER-25°C</td>\n      <td>69.96</td>\n    </tr>\n    <tr>\n      <th>C6H12</th>\n      <td>CYCLOHEXANE</td>\n      <td>297.95</td>\n    </tr>\n    <tr>\n      <th>...</th>\n      <td>...</td>\n      <td>...</td>\n    </tr>\n    <tr>\n      <th>C2H4O2</th>\n      <td>METHYL-FORMATE</td>\n      <td>189.60</td>\n    </tr>\n    <tr>\n      <th>CL2</th>\n      <td>CHLORINE</td>\n      <td>222.75</td>\n    </tr>\n    <tr>\n      <th>F2</th>\n      <td>FLUORINE</td>\n      <td>202.52</td>\n    </tr>\n    <tr>\n      <th>C</th>\n      <td>GRAPHITE</td>\n      <td>5.68</td>\n    </tr>\n    <tr>\n      <th>C2H3O2NA</th>\n      <td>SODIUM-ACETATE</td>\n      <td>123.00</td>\n    </tr>\n  </tbody>\n</table>\n<p>190 rows × 2 columns</p>\n</div>"
     },
     "metadata": {},
     "execution_count": 80
    }
   ],
   "source": [
    "dfw = df.set_index('FORMULA')\n",
    "dfw"
   ]
  },
  {
   "cell_type": "code",
   "execution_count": 82,
   "metadata": {},
   "outputs": [
    {
     "output_type": "execute_result",
     "data": {
      "text/plain": [
       "                 SUBSTANCE  ENTROPY\n",
       "FORMULA                            \n",
       "CO         CARBON-MONOXIDE   197.71\n",
       "CO2         CARBON-DIOXIDE   213.47\n",
       "CH4                METHANE   186.26\n",
       "C2H4     ETHENE-(ETHYLENE)   219.24\n",
       "CH3OH             METHANOL   218.57\n",
       "H2O             WATER-25°C    69.96\n",
       "H2O                  STEAM   188.56\n",
       "O2                  OXYGEN   204.82\n",
       "H2                HYDROGEN   130.46\n",
       "N2                NITROGEN   191.32"
      ],
      "text/html": "<div>\n<style scoped>\n    .dataframe tbody tr th:only-of-type {\n        vertical-align: middle;\n    }\n\n    .dataframe tbody tr th {\n        vertical-align: top;\n    }\n\n    .dataframe thead th {\n        text-align: right;\n    }\n</style>\n<table border=\"1\" class=\"dataframe\">\n  <thead>\n    <tr style=\"text-align: right;\">\n      <th></th>\n      <th>SUBSTANCE</th>\n      <th>ENTROPY</th>\n    </tr>\n    <tr>\n      <th>FORMULA</th>\n      <th></th>\n      <th></th>\n    </tr>\n  </thead>\n  <tbody>\n    <tr>\n      <th>CO</th>\n      <td>CARBON-MONOXIDE</td>\n      <td>197.71</td>\n    </tr>\n    <tr>\n      <th>CO2</th>\n      <td>CARBON-DIOXIDE</td>\n      <td>213.47</td>\n    </tr>\n    <tr>\n      <th>CH4</th>\n      <td>METHANE</td>\n      <td>186.26</td>\n    </tr>\n    <tr>\n      <th>C2H4</th>\n      <td>ETHENE-(ETHYLENE)</td>\n      <td>219.24</td>\n    </tr>\n    <tr>\n      <th>CH3OH</th>\n      <td>METHANOL</td>\n      <td>218.57</td>\n    </tr>\n    <tr>\n      <th>H2O</th>\n      <td>WATER-25°C</td>\n      <td>69.96</td>\n    </tr>\n    <tr>\n      <th>H2O</th>\n      <td>STEAM</td>\n      <td>188.56</td>\n    </tr>\n    <tr>\n      <th>O2</th>\n      <td>OXYGEN</td>\n      <td>204.82</td>\n    </tr>\n    <tr>\n      <th>H2</th>\n      <td>HYDROGEN</td>\n      <td>130.46</td>\n    </tr>\n    <tr>\n      <th>N2</th>\n      <td>NITROGEN</td>\n      <td>191.32</td>\n    </tr>\n  </tbody>\n</table>\n</div>"
     },
     "metadata": {},
     "execution_count": 82
    }
   ],
   "source": [
    "dfG = dfw.loc[[\n",
    "    'CO'\n",
    "    ,'CO2'\n",
    "    ,'CH4','C2H4'\n",
    "    # ,'CH4O'\n",
    "    ,'CH3OH'\n",
    "    ,'H2O','O2',\n",
    "    'H2'\n",
    "    ,'N2'\n",
    "    ]]\n",
    "\n",
    "dfG.drop_duplicates(subset = [\"SUBSTANCE\"])\n"
   ]
  },
  {
   "cell_type": "code",
   "execution_count": null,
   "metadata": {},
   "outputs": [],
   "source": []
  },
  {
   "cell_type": "code",
   "execution_count": null,
   "metadata": {},
   "outputs": [],
   "source": []
  }
 ]
}