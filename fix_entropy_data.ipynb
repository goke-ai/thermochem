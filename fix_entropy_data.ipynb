{
 "metadata": {
  "language_info": {
   "codemirror_mode": {
    "name": "ipython",
    "version": 3
   },
   "file_extension": ".py",
   "mimetype": "text/x-python",
   "name": "python",
   "nbconvert_exporter": "python",
   "pygments_lexer": "ipython3",
   "version": "3.8.10"
  },
  "orig_nbformat": 4,
  "kernelspec": {
   "name": "python3",
   "display_name": "Python 3.8.10 64-bit"
  },
  "interpreter": {
   "hash": "c9dd2b683db0012b822fc70113fe185827d40eabd1f252adf468801410e30d36"
  }
 },
 "nbformat": 4,
 "nbformat_minor": 2,
 "cells": [
  {
   "cell_type": "code",
   "execution_count": 32,
   "metadata": {},
   "outputs": [],
   "source": [
    "f = open(\"entropy_data.txt\", \"r\")\n",
    "dataList =[]\n",
    "sNO = []\n",
    "count = 0\n",
    "show_n=5\n",
    "k = 0\n",
    "\n",
    "for l in f:\n",
    "    \n",
    "    if '#' in l:\n",
    "        continue\n",
    "\n",
    "    # substance formula entropy\n",
    "    w = l.split()\n",
    "    n = len(w)\n",
    "\n",
    "    # print(n)\n",
    "\n",
    "    if n < 2:\n",
    "        continue;\n",
    "\n",
    "    entropy = w[-1].replace('\\n','')\n",
    "    formula = w[-2].upper()\n",
    "    substance = '-'.join(w[:-2]).replace(',','-')\n",
    "\n",
    "    x = f'{substance.upper()},{formula},{entropy}'\n",
    "        \n",
    "    count += 1\n",
    "\n",
    "    dataList.append(x)\n",
    "    # print(l)\n",
    "    # print(x)\n",
    "\n",
    "    # if count == 10:\n",
    "        # break\n",
    "\n",
    "f.close()"
   ]
  },
  {
   "cell_type": "code",
   "execution_count": 33,
   "metadata": {},
   "outputs": [],
   "source": [
    "f = open(\"entropy_data_out.txt\", \"w\")\n",
    "f.write('SUBSTANCE,FORMULA,ENTROPY'+'\\n')\n",
    "for l in dataList:\n",
    "    f.write(l+'\\n')\n",
    "f.close()"
   ]
  },
  {
   "cell_type": "code",
   "execution_count": 34,
   "metadata": {},
   "outputs": [
    {
     "output_type": "execute_result",
     "data": {
      "text/plain": [
       "     SUBSTANCE    FORMULA  ENTROPY\n",
       "0      ACETONE   (CH3)2CO   294.65\n",
       "1     GLYCERIN  C3H5(OH)3   206.00\n",
       "2      ETHANOL     C2H5OH   282.32\n",
       "3        WATER        H2O    69.96\n",
       "4  CYCLOHEXANE      C6H12   297.95"
      ],
      "text/html": "<div>\n<style scoped>\n    .dataframe tbody tr th:only-of-type {\n        vertical-align: middle;\n    }\n\n    .dataframe tbody tr th {\n        vertical-align: top;\n    }\n\n    .dataframe thead th {\n        text-align: right;\n    }\n</style>\n<table border=\"1\" class=\"dataframe\">\n  <thead>\n    <tr style=\"text-align: right;\">\n      <th></th>\n      <th>SUBSTANCE</th>\n      <th>FORMULA</th>\n      <th>ENTROPY</th>\n    </tr>\n  </thead>\n  <tbody>\n    <tr>\n      <th>0</th>\n      <td>ACETONE</td>\n      <td>(CH3)2CO</td>\n      <td>294.65</td>\n    </tr>\n    <tr>\n      <th>1</th>\n      <td>GLYCERIN</td>\n      <td>C3H5(OH)3</td>\n      <td>206.00</td>\n    </tr>\n    <tr>\n      <th>2</th>\n      <td>ETHANOL</td>\n      <td>C2H5OH</td>\n      <td>282.32</td>\n    </tr>\n    <tr>\n      <th>3</th>\n      <td>WATER</td>\n      <td>H2O</td>\n      <td>69.96</td>\n    </tr>\n    <tr>\n      <th>4</th>\n      <td>CYCLOHEXANE</td>\n      <td>C6H12</td>\n      <td>297.95</td>\n    </tr>\n  </tbody>\n</table>\n</div>"
     },
     "metadata": {},
     "execution_count": 34
    }
   ],
   "source": [
    "import pandas as pd\n",
    "df = pd.read_csv('entropy_data_out.txt')\n",
    "df.head()"
   ]
  },
  {
   "cell_type": "code",
   "execution_count": 35,
   "metadata": {},
   "outputs": [
    {
     "output_type": "execute_result",
     "data": {
      "text/plain": [
       "                SUBSTANCE  ENTROPY\n",
       "FORMULA                           \n",
       "(CH3)2CO          ACETONE   294.65\n",
       "C3H5(OH)3        GLYCERIN   206.00\n",
       "C2H5OH            ETHANOL   282.32\n",
       "H2O                 WATER    69.96\n",
       "C6H12         CYCLOHEXANE   297.95\n",
       "...                   ...      ...\n",
       "C2H4O2     METHYL-FORMATE   189.60\n",
       "CL2              CHLORINE   222.75\n",
       "F2               FLUORINE   202.52\n",
       "C                GRAPHITE     5.68\n",
       "C2H3O2NA   SODIUM-ACETATE   123.00\n",
       "\n",
       "[190 rows x 2 columns]"
      ],
      "text/html": "<div>\n<style scoped>\n    .dataframe tbody tr th:only-of-type {\n        vertical-align: middle;\n    }\n\n    .dataframe tbody tr th {\n        vertical-align: top;\n    }\n\n    .dataframe thead th {\n        text-align: right;\n    }\n</style>\n<table border=\"1\" class=\"dataframe\">\n  <thead>\n    <tr style=\"text-align: right;\">\n      <th></th>\n      <th>SUBSTANCE</th>\n      <th>ENTROPY</th>\n    </tr>\n    <tr>\n      <th>FORMULA</th>\n      <th></th>\n      <th></th>\n    </tr>\n  </thead>\n  <tbody>\n    <tr>\n      <th>(CH3)2CO</th>\n      <td>ACETONE</td>\n      <td>294.65</td>\n    </tr>\n    <tr>\n      <th>C3H5(OH)3</th>\n      <td>GLYCERIN</td>\n      <td>206.00</td>\n    </tr>\n    <tr>\n      <th>C2H5OH</th>\n      <td>ETHANOL</td>\n      <td>282.32</td>\n    </tr>\n    <tr>\n      <th>H2O</th>\n      <td>WATER</td>\n      <td>69.96</td>\n    </tr>\n    <tr>\n      <th>C6H12</th>\n      <td>CYCLOHEXANE</td>\n      <td>297.95</td>\n    </tr>\n    <tr>\n      <th>...</th>\n      <td>...</td>\n      <td>...</td>\n    </tr>\n    <tr>\n      <th>C2H4O2</th>\n      <td>METHYL-FORMATE</td>\n      <td>189.60</td>\n    </tr>\n    <tr>\n      <th>CL2</th>\n      <td>CHLORINE</td>\n      <td>222.75</td>\n    </tr>\n    <tr>\n      <th>F2</th>\n      <td>FLUORINE</td>\n      <td>202.52</td>\n    </tr>\n    <tr>\n      <th>C</th>\n      <td>GRAPHITE</td>\n      <td>5.68</td>\n    </tr>\n    <tr>\n      <th>C2H3O2NA</th>\n      <td>SODIUM-ACETATE</td>\n      <td>123.00</td>\n    </tr>\n  </tbody>\n</table>\n<p>190 rows × 2 columns</p>\n</div>"
     },
     "metadata": {},
     "execution_count": 35
    }
   ],
   "source": [
    "dfw = df.set_index('FORMULA')\n",
    "dfw"
   ]
  },
  {
   "cell_type": "code",
   "execution_count": 36,
   "metadata": {},
   "outputs": [
    {
     "output_type": "execute_result",
     "data": {
      "text/plain": [
       "                 SUBSTANCE  ENTROPY\n",
       "FORMULA                            \n",
       "CO         CARBON-MONOXIDE   197.71\n",
       "CO2         CARBON-DIOXIDE   213.47\n",
       "CH4                METHANE   186.26\n",
       "C2H4     ETHENE-(ETHYLENE)   219.24\n",
       "CH3OH             METHANOL   218.57\n",
       "H2O                  WATER    69.96\n",
       "O2                  OXYGEN   204.82\n",
       "H2                HYDROGEN   130.46\n",
       "N2                NITROGEN   191.32"
      ],
      "text/html": "<div>\n<style scoped>\n    .dataframe tbody tr th:only-of-type {\n        vertical-align: middle;\n    }\n\n    .dataframe tbody tr th {\n        vertical-align: top;\n    }\n\n    .dataframe thead th {\n        text-align: right;\n    }\n</style>\n<table border=\"1\" class=\"dataframe\">\n  <thead>\n    <tr style=\"text-align: right;\">\n      <th></th>\n      <th>SUBSTANCE</th>\n      <th>ENTROPY</th>\n    </tr>\n    <tr>\n      <th>FORMULA</th>\n      <th></th>\n      <th></th>\n    </tr>\n  </thead>\n  <tbody>\n    <tr>\n      <th>CO</th>\n      <td>CARBON-MONOXIDE</td>\n      <td>197.71</td>\n    </tr>\n    <tr>\n      <th>CO2</th>\n      <td>CARBON-DIOXIDE</td>\n      <td>213.47</td>\n    </tr>\n    <tr>\n      <th>CH4</th>\n      <td>METHANE</td>\n      <td>186.26</td>\n    </tr>\n    <tr>\n      <th>C2H4</th>\n      <td>ETHENE-(ETHYLENE)</td>\n      <td>219.24</td>\n    </tr>\n    <tr>\n      <th>CH3OH</th>\n      <td>METHANOL</td>\n      <td>218.57</td>\n    </tr>\n    <tr>\n      <th>H2O</th>\n      <td>WATER</td>\n      <td>69.96</td>\n    </tr>\n    <tr>\n      <th>O2</th>\n      <td>OXYGEN</td>\n      <td>204.82</td>\n    </tr>\n    <tr>\n      <th>H2</th>\n      <td>HYDROGEN</td>\n      <td>130.46</td>\n    </tr>\n    <tr>\n      <th>N2</th>\n      <td>NITROGEN</td>\n      <td>191.32</td>\n    </tr>\n  </tbody>\n</table>\n</div>"
     },
     "metadata": {},
     "execution_count": 36
    }
   ],
   "source": [
    "dfG = dfw.loc[[\n",
    "    'CO'\n",
    "    ,'CO2'\n",
    "    ,'CH4','C2H4'\n",
    "    # ,'CH4O'\n",
    "    ,'CH3OH'\n",
    "    ,'H2O','O2',\n",
    "    'H2'\n",
    "    ,'N2'\n",
    "    ]]\n",
    "\n",
    "dfG = dfG.drop_duplicates(subset = [\"SUBSTANCE\"])\n",
    "dfG\n"
   ]
  },
  {
   "cell_type": "code",
   "execution_count": 37,
   "metadata": {},
   "outputs": [],
   "source": [
    "dfG.to_csv('gasif_entropy_data.csv')"
   ]
  },
  {
   "cell_type": "code",
   "execution_count": 38,
   "metadata": {},
   "outputs": [
    {
     "output_type": "execute_result",
     "data": {
      "text/plain": [
       "  FORMULA  NO    COMPOUND-NAME   MOLWT    TFP    TBP     TC    PC     VC  \\\n",
       "0      CO  46  CARBON-MONOXIDE  28.010 -205.1 -191.5  132.9  35.0  0.093   \n",
       "1     CO2  48   CARBON-DIOXIDE  44.010  -56.6  -78.5  304.2  73.8  0.094   \n",
       "2     CH4  64          METHANE  16.043 -182.5 -161.5  190.6  46.0  0.099   \n",
       "3    C2H4  92         ETHYLENE  28.054 -169.2 -103.8  282.4  50.4  0.129   \n",
       "4    CH4O  65         METHANOL  32.042  -97.7   64.6  512.6  81.0  0.118   \n",
       "\n",
       "    LDEN  ...  CPVAPA    CPVAPB    CPVAPC        CPVAPD     ANTA     ANTB  \\\n",
       "0  803.0  ...  30.869 -0.012850  0.000028 -1.272000e-08  14.3686   530.22   \n",
       "1  777.0  ...  19.795  0.073436 -0.000056  1.715300e-08  22.5898  3103.39   \n",
       "2  425.0  ...  19.251  0.052126  0.000012 -1.132000e-08  15.2243   597.84   \n",
       "3  577.0  ...   3.806  0.156590 -0.000083  1.755100e-08  15.5368  1347.01   \n",
       "4  791.0  ...  21.152  0.070924  0.000026 -2.852000e-08  18.5875  3626.55   \n",
       "\n",
       "    ANTC    TMN    TMX  NO.3  \n",
       "0 -13.15 -210.0 -165.0  46.0  \n",
       "1  -0.16 -119.0  -69.0  48.0  \n",
       "2  -7.16 -180.0 -153.0  64.0  \n",
       "3 -18.15 -153.0  -91.0  92.0  \n",
       "4 -34.29  -16.0   91.0  65.0  \n",
       "\n",
       "[5 rows x 30 columns]"
      ],
      "text/html": "<div>\n<style scoped>\n    .dataframe tbody tr th:only-of-type {\n        vertical-align: middle;\n    }\n\n    .dataframe tbody tr th {\n        vertical-align: top;\n    }\n\n    .dataframe thead th {\n        text-align: right;\n    }\n</style>\n<table border=\"1\" class=\"dataframe\">\n  <thead>\n    <tr style=\"text-align: right;\">\n      <th></th>\n      <th>FORMULA</th>\n      <th>NO</th>\n      <th>COMPOUND-NAME</th>\n      <th>MOLWT</th>\n      <th>TFP</th>\n      <th>TBP</th>\n      <th>TC</th>\n      <th>PC</th>\n      <th>VC</th>\n      <th>LDEN</th>\n      <th>...</th>\n      <th>CPVAPA</th>\n      <th>CPVAPB</th>\n      <th>CPVAPC</th>\n      <th>CPVAPD</th>\n      <th>ANTA</th>\n      <th>ANTB</th>\n      <th>ANTC</th>\n      <th>TMN</th>\n      <th>TMX</th>\n      <th>NO.3</th>\n    </tr>\n  </thead>\n  <tbody>\n    <tr>\n      <th>0</th>\n      <td>CO</td>\n      <td>46</td>\n      <td>CARBON-MONOXIDE</td>\n      <td>28.010</td>\n      <td>-205.1</td>\n      <td>-191.5</td>\n      <td>132.9</td>\n      <td>35.0</td>\n      <td>0.093</td>\n      <td>803.0</td>\n      <td>...</td>\n      <td>30.869</td>\n      <td>-0.012850</td>\n      <td>0.000028</td>\n      <td>-1.272000e-08</td>\n      <td>14.3686</td>\n      <td>530.22</td>\n      <td>-13.15</td>\n      <td>-210.0</td>\n      <td>-165.0</td>\n      <td>46.0</td>\n    </tr>\n    <tr>\n      <th>1</th>\n      <td>CO2</td>\n      <td>48</td>\n      <td>CARBON-DIOXIDE</td>\n      <td>44.010</td>\n      <td>-56.6</td>\n      <td>-78.5</td>\n      <td>304.2</td>\n      <td>73.8</td>\n      <td>0.094</td>\n      <td>777.0</td>\n      <td>...</td>\n      <td>19.795</td>\n      <td>0.073436</td>\n      <td>-0.000056</td>\n      <td>1.715300e-08</td>\n      <td>22.5898</td>\n      <td>3103.39</td>\n      <td>-0.16</td>\n      <td>-119.0</td>\n      <td>-69.0</td>\n      <td>48.0</td>\n    </tr>\n    <tr>\n      <th>2</th>\n      <td>CH4</td>\n      <td>64</td>\n      <td>METHANE</td>\n      <td>16.043</td>\n      <td>-182.5</td>\n      <td>-161.5</td>\n      <td>190.6</td>\n      <td>46.0</td>\n      <td>0.099</td>\n      <td>425.0</td>\n      <td>...</td>\n      <td>19.251</td>\n      <td>0.052126</td>\n      <td>0.000012</td>\n      <td>-1.132000e-08</td>\n      <td>15.2243</td>\n      <td>597.84</td>\n      <td>-7.16</td>\n      <td>-180.0</td>\n      <td>-153.0</td>\n      <td>64.0</td>\n    </tr>\n    <tr>\n      <th>3</th>\n      <td>C2H4</td>\n      <td>92</td>\n      <td>ETHYLENE</td>\n      <td>28.054</td>\n      <td>-169.2</td>\n      <td>-103.8</td>\n      <td>282.4</td>\n      <td>50.4</td>\n      <td>0.129</td>\n      <td>577.0</td>\n      <td>...</td>\n      <td>3.806</td>\n      <td>0.156590</td>\n      <td>-0.000083</td>\n      <td>1.755100e-08</td>\n      <td>15.5368</td>\n      <td>1347.01</td>\n      <td>-18.15</td>\n      <td>-153.0</td>\n      <td>-91.0</td>\n      <td>92.0</td>\n    </tr>\n    <tr>\n      <th>4</th>\n      <td>CH4O</td>\n      <td>65</td>\n      <td>METHANOL</td>\n      <td>32.042</td>\n      <td>-97.7</td>\n      <td>64.6</td>\n      <td>512.6</td>\n      <td>81.0</td>\n      <td>0.118</td>\n      <td>791.0</td>\n      <td>...</td>\n      <td>21.152</td>\n      <td>0.070924</td>\n      <td>0.000026</td>\n      <td>-2.852000e-08</td>\n      <td>18.5875</td>\n      <td>3626.55</td>\n      <td>-34.29</td>\n      <td>-16.0</td>\n      <td>91.0</td>\n      <td>65.0</td>\n    </tr>\n  </tbody>\n</table>\n<p>5 rows × 30 columns</p>\n</div>"
     },
     "metadata": {},
     "execution_count": 38
    }
   ],
   "source": [
    "import pandas as pd\n",
    "dfPP = pd.read_csv('gasif_pp_data.csv')\n",
    "dfPP.head()"
   ]
  },
  {
   "cell_type": "code",
   "execution_count": 39,
   "metadata": {},
   "outputs": [
    {
     "output_type": "execute_result",
     "data": {
      "text/plain": [
       "0    197.71\n",
       "1    213.47\n",
       "2    186.26\n",
       "3    219.24\n",
       "4    218.57\n",
       "5     69.96\n",
       "6    204.82\n",
       "7    130.46\n",
       "8    191.32\n",
       "Name: ENTROPY, dtype: float64"
      ]
     },
     "metadata": {},
     "execution_count": 39
    }
   ],
   "source": [
    "dfG = dfG.reset_index()\n",
    "dfG['ENTROPY']"
   ]
  },
  {
   "cell_type": "code",
   "execution_count": 40,
   "metadata": {},
   "outputs": [
    {
     "output_type": "execute_result",
     "data": {
      "text/plain": [
       "  FORMULA  NO    COMPOUND-NAME   MOLWT    TFP    TBP     TC     PC     VC  \\\n",
       "0      CO  46  CARBON-MONOXIDE  28.010 -205.1 -191.5  132.9   35.0  0.093   \n",
       "1     CO2  48   CARBON-DIOXIDE  44.010  -56.6  -78.5  304.2   73.8  0.094   \n",
       "2     CH4  64          METHANE  16.043 -182.5 -161.5  190.6   46.0  0.099   \n",
       "3    C2H4  92         ETHYLENE  28.054 -169.2 -103.8  282.4   50.4  0.129   \n",
       "4    CH4O  65         METHANOL  32.042  -97.7   64.6  512.6   81.0  0.118   \n",
       "5     H2O  20            WATER  18.015    0.0  100.0  647.3  220.5  0.056   \n",
       "6      O2  34           OXYGEN  31.999 -218.8 -183.0  154.6   50.5  0.073   \n",
       "7      H2  19         HYDROGEN   2.016 -259.2 -252.8   33.2   13.0  0.065   \n",
       "8      N2  31         NITROGEN  28.013 -209.9 -195.8  126.2   33.9  0.090   \n",
       "\n",
       "     LDEN  ...    CPVAPB    CPVAPC        CPVAPD     ANTA     ANTB   ANTC  \\\n",
       "0   803.0  ... -0.012850  0.000028 -1.272000e-08  14.3686   530.22 -13.15   \n",
       "1   777.0  ...  0.073436 -0.000056  1.715300e-08  22.5898  3103.39  -0.16   \n",
       "2   425.0  ...  0.052126  0.000012 -1.132000e-08  15.2243   597.84  -7.16   \n",
       "3   577.0  ...  0.156590 -0.000083  1.755100e-08  15.5368  1347.01 -18.15   \n",
       "4   791.0  ...  0.070924  0.000026 -2.852000e-08  18.5875  3626.55 -34.29   \n",
       "5   998.0  ...  0.001924  0.000011 -3.596000e-09  18.3036  3816.44 -46.13   \n",
       "6  1149.0  ... -0.000004  0.000017 -1.065000e-08  15.4075   734.55  -6.45   \n",
       "7    71.0  ...  0.009274 -0.000014  7.645100e-09  13.6333   164.90   3.19   \n",
       "8   805.0  ... -0.013570  0.000027 -1.168000e-08  14.9542   588.72  -6.60   \n",
       "\n",
       "     TMN    TMX  NO.3   DELSF  \n",
       "0 -210.0 -165.0  46.0  197.71  \n",
       "1 -119.0  -69.0  48.0  213.47  \n",
       "2 -180.0 -153.0  64.0  186.26  \n",
       "3 -153.0  -91.0  92.0  219.24  \n",
       "4  -16.0   91.0  65.0  218.57  \n",
       "5   11.0  168.0  20.0   69.96  \n",
       "6 -210.0 -173.0  34.0  204.82  \n",
       "7 -259.0 -248.0  19.0  130.46  \n",
       "8 -219.0 -183.0  31.0  191.32  \n",
       "\n",
       "[9 rows x 31 columns]"
      ],
      "text/html": "<div>\n<style scoped>\n    .dataframe tbody tr th:only-of-type {\n        vertical-align: middle;\n    }\n\n    .dataframe tbody tr th {\n        vertical-align: top;\n    }\n\n    .dataframe thead th {\n        text-align: right;\n    }\n</style>\n<table border=\"1\" class=\"dataframe\">\n  <thead>\n    <tr style=\"text-align: right;\">\n      <th></th>\n      <th>FORMULA</th>\n      <th>NO</th>\n      <th>COMPOUND-NAME</th>\n      <th>MOLWT</th>\n      <th>TFP</th>\n      <th>TBP</th>\n      <th>TC</th>\n      <th>PC</th>\n      <th>VC</th>\n      <th>LDEN</th>\n      <th>...</th>\n      <th>CPVAPB</th>\n      <th>CPVAPC</th>\n      <th>CPVAPD</th>\n      <th>ANTA</th>\n      <th>ANTB</th>\n      <th>ANTC</th>\n      <th>TMN</th>\n      <th>TMX</th>\n      <th>NO.3</th>\n      <th>DELSF</th>\n    </tr>\n  </thead>\n  <tbody>\n    <tr>\n      <th>0</th>\n      <td>CO</td>\n      <td>46</td>\n      <td>CARBON-MONOXIDE</td>\n      <td>28.010</td>\n      <td>-205.1</td>\n      <td>-191.5</td>\n      <td>132.9</td>\n      <td>35.0</td>\n      <td>0.093</td>\n      <td>803.0</td>\n      <td>...</td>\n      <td>-0.012850</td>\n      <td>0.000028</td>\n      <td>-1.272000e-08</td>\n      <td>14.3686</td>\n      <td>530.22</td>\n      <td>-13.15</td>\n      <td>-210.0</td>\n      <td>-165.0</td>\n      <td>46.0</td>\n      <td>197.71</td>\n    </tr>\n    <tr>\n      <th>1</th>\n      <td>CO2</td>\n      <td>48</td>\n      <td>CARBON-DIOXIDE</td>\n      <td>44.010</td>\n      <td>-56.6</td>\n      <td>-78.5</td>\n      <td>304.2</td>\n      <td>73.8</td>\n      <td>0.094</td>\n      <td>777.0</td>\n      <td>...</td>\n      <td>0.073436</td>\n      <td>-0.000056</td>\n      <td>1.715300e-08</td>\n      <td>22.5898</td>\n      <td>3103.39</td>\n      <td>-0.16</td>\n      <td>-119.0</td>\n      <td>-69.0</td>\n      <td>48.0</td>\n      <td>213.47</td>\n    </tr>\n    <tr>\n      <th>2</th>\n      <td>CH4</td>\n      <td>64</td>\n      <td>METHANE</td>\n      <td>16.043</td>\n      <td>-182.5</td>\n      <td>-161.5</td>\n      <td>190.6</td>\n      <td>46.0</td>\n      <td>0.099</td>\n      <td>425.0</td>\n      <td>...</td>\n      <td>0.052126</td>\n      <td>0.000012</td>\n      <td>-1.132000e-08</td>\n      <td>15.2243</td>\n      <td>597.84</td>\n      <td>-7.16</td>\n      <td>-180.0</td>\n      <td>-153.0</td>\n      <td>64.0</td>\n      <td>186.26</td>\n    </tr>\n    <tr>\n      <th>3</th>\n      <td>C2H4</td>\n      <td>92</td>\n      <td>ETHYLENE</td>\n      <td>28.054</td>\n      <td>-169.2</td>\n      <td>-103.8</td>\n      <td>282.4</td>\n      <td>50.4</td>\n      <td>0.129</td>\n      <td>577.0</td>\n      <td>...</td>\n      <td>0.156590</td>\n      <td>-0.000083</td>\n      <td>1.755100e-08</td>\n      <td>15.5368</td>\n      <td>1347.01</td>\n      <td>-18.15</td>\n      <td>-153.0</td>\n      <td>-91.0</td>\n      <td>92.0</td>\n      <td>219.24</td>\n    </tr>\n    <tr>\n      <th>4</th>\n      <td>CH4O</td>\n      <td>65</td>\n      <td>METHANOL</td>\n      <td>32.042</td>\n      <td>-97.7</td>\n      <td>64.6</td>\n      <td>512.6</td>\n      <td>81.0</td>\n      <td>0.118</td>\n      <td>791.0</td>\n      <td>...</td>\n      <td>0.070924</td>\n      <td>0.000026</td>\n      <td>-2.852000e-08</td>\n      <td>18.5875</td>\n      <td>3626.55</td>\n      <td>-34.29</td>\n      <td>-16.0</td>\n      <td>91.0</td>\n      <td>65.0</td>\n      <td>218.57</td>\n    </tr>\n    <tr>\n      <th>5</th>\n      <td>H2O</td>\n      <td>20</td>\n      <td>WATER</td>\n      <td>18.015</td>\n      <td>0.0</td>\n      <td>100.0</td>\n      <td>647.3</td>\n      <td>220.5</td>\n      <td>0.056</td>\n      <td>998.0</td>\n      <td>...</td>\n      <td>0.001924</td>\n      <td>0.000011</td>\n      <td>-3.596000e-09</td>\n      <td>18.3036</td>\n      <td>3816.44</td>\n      <td>-46.13</td>\n      <td>11.0</td>\n      <td>168.0</td>\n      <td>20.0</td>\n      <td>69.96</td>\n    </tr>\n    <tr>\n      <th>6</th>\n      <td>O2</td>\n      <td>34</td>\n      <td>OXYGEN</td>\n      <td>31.999</td>\n      <td>-218.8</td>\n      <td>-183.0</td>\n      <td>154.6</td>\n      <td>50.5</td>\n      <td>0.073</td>\n      <td>1149.0</td>\n      <td>...</td>\n      <td>-0.000004</td>\n      <td>0.000017</td>\n      <td>-1.065000e-08</td>\n      <td>15.4075</td>\n      <td>734.55</td>\n      <td>-6.45</td>\n      <td>-210.0</td>\n      <td>-173.0</td>\n      <td>34.0</td>\n      <td>204.82</td>\n    </tr>\n    <tr>\n      <th>7</th>\n      <td>H2</td>\n      <td>19</td>\n      <td>HYDROGEN</td>\n      <td>2.016</td>\n      <td>-259.2</td>\n      <td>-252.8</td>\n      <td>33.2</td>\n      <td>13.0</td>\n      <td>0.065</td>\n      <td>71.0</td>\n      <td>...</td>\n      <td>0.009274</td>\n      <td>-0.000014</td>\n      <td>7.645100e-09</td>\n      <td>13.6333</td>\n      <td>164.90</td>\n      <td>3.19</td>\n      <td>-259.0</td>\n      <td>-248.0</td>\n      <td>19.0</td>\n      <td>130.46</td>\n    </tr>\n    <tr>\n      <th>8</th>\n      <td>N2</td>\n      <td>31</td>\n      <td>NITROGEN</td>\n      <td>28.013</td>\n      <td>-209.9</td>\n      <td>-195.8</td>\n      <td>126.2</td>\n      <td>33.9</td>\n      <td>0.090</td>\n      <td>805.0</td>\n      <td>...</td>\n      <td>-0.013570</td>\n      <td>0.000027</td>\n      <td>-1.168000e-08</td>\n      <td>14.9542</td>\n      <td>588.72</td>\n      <td>-6.60</td>\n      <td>-219.0</td>\n      <td>-183.0</td>\n      <td>31.0</td>\n      <td>191.32</td>\n    </tr>\n  </tbody>\n</table>\n<p>9 rows × 31 columns</p>\n</div>"
     },
     "metadata": {},
     "execution_count": 40
    }
   ],
   "source": [
    "dfPP['DELSF'] = dfG['ENTROPY']\n",
    "dfPP"
   ]
  },
  {
   "cell_type": "code",
   "execution_count": 41,
   "metadata": {},
   "outputs": [
    {
     "output_type": "execute_result",
     "data": {
      "text/plain": [
       "0    197.71\n",
       "1    213.47\n",
       "2    186.26\n",
       "3    219.24\n",
       "4    218.57\n",
       "5     69.96\n",
       "6    204.82\n",
       "7    130.46\n",
       "8    191.32\n",
       "Name: DELSF, dtype: float64"
      ]
     },
     "metadata": {},
     "execution_count": 41
    }
   ],
   "source": [
    "dfPP['DELSF']"
   ]
  },
  {
   "cell_type": "code",
   "execution_count": 42,
   "metadata": {},
   "outputs": [],
   "source": [
    "dfPP = dfPP.set_index('FORMULA')\n",
    "dfPP.to_csv('gasif_data.csv')"
   ]
  },
  {
   "cell_type": "code",
   "execution_count": null,
   "metadata": {},
   "outputs": [],
   "source": []
  }
 ]
}