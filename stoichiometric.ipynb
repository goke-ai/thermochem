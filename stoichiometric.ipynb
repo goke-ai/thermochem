{
 "metadata": {
  "language_info": {
   "codemirror_mode": {
    "name": "ipython",
    "version": 3
   },
   "file_extension": ".py",
   "mimetype": "text/x-python",
   "name": "python",
   "nbconvert_exporter": "python",
   "pygments_lexer": "ipython3",
   "version": "3.8.10"
  },
  "orig_nbformat": 4,
  "kernelspec": {
   "name": "python3",
   "display_name": "Python 3.8.10 64-bit"
  },
  "interpreter": {
   "hash": "c9dd2b683db0012b822fc70113fe185827d40eabd1f252adf468801410e30d36"
  }
 },
 "nbformat": 4,
 "nbformat_minor": 2,
 "cells": [
  {
   "cell_type": "code",
   "execution_count": 1,
   "metadata": {},
   "outputs": [],
   "source": [
    "# G, Hf, HHV, G, H, a,b,c,d,e,f,g\n",
    "dictData = {\n",
    "'C': [0, 0, 0, 0,0,0,0,0,0,0],\n",
    "'CO': [ 283, -137.3, -110.5, 5.619e-3, -1.19e-5, 6.383e-9,21.846e-12, -4.891e-2, 0.868, -6.131e-2],\n",
    "'CO2': [0, -394.4, -393.5, -1.949e-2, 3.122e-5, -2.448e-8, 6.946e-12, -4.891e-2, 5.27, -0.1207],\n",
    "'CH4': [890.3, -50.8, -74.8, -4.62e-2, 1.13e-5, 1.319e-8, -6.647e-12, -4.891e-2, 14.11, 0.2234],\n",
    "'C2H4': [1411, 68.1, 52.3, -7.281e-2, 5.802e-5, -1.861e-8, 5.648e-13, -9.782e-2, -0.32, -0.4076],\n",
    "'CH3OH': [763.9, -161.6, -201.2, -5.834e-2, -.07e-5, 1.491e-8, -9.614e-12, -4.891e-2, 16.88, -0.2467],\n",
    "'Steam': [0, -228.6, -241.8, -8.95e-3, -3.672e-6, 5.209e-9, -1.478e-12, 0, 2.868, -0.0172],\n",
    "'H2O': [0, -237.2, -285.8, 0,0,0,0,0,0,0],\n",
    "'O2': [0, 0, 0, 0,0,0,0,0,0,0],\n",
    "'H2': [285.8, 0, 0, 0,0,0,0,0,0,0]\n",
    "}"
   ]
  },
  {
   "cell_type": "code",
   "execution_count": 2,
   "metadata": {},
   "outputs": [
    {
     "output_type": "error",
     "ename": "NameError",
     "evalue": "name 'gibbs' is not defined",
     "traceback": [
      "\u001b[1;31m---------------------------------------------------------------------------\u001b[0m",
      "\u001b[1;31mNameError\u001b[0m                                 Traceback (most recent call last)",
      "\u001b[1;32m<ipython-input-2-5ee47355e8e6>\u001b[0m in \u001b[0;36m<module>\u001b[1;34m\u001b[0m\n\u001b[0;32m      1\u001b[0m \u001b[0mh\u001b[0m\u001b[1;33m,\u001b[0m \u001b[0ma\u001b[0m\u001b[1;33m,\u001b[0m\u001b[0mb\u001b[0m\u001b[1;33m,\u001b[0m\u001b[0mc\u001b[0m\u001b[1;33m,\u001b[0m\u001b[0md\u001b[0m\u001b[1;33m,\u001b[0m\u001b[0me\u001b[0m\u001b[1;33m,\u001b[0m\u001b[0mf\u001b[0m\u001b[1;33m,\u001b[0m\u001b[0mg\u001b[0m \u001b[1;33m=\u001b[0m \u001b[0mdictData\u001b[0m\u001b[1;33m[\u001b[0m\u001b[1;34m'CO2'\u001b[0m\u001b[1;33m]\u001b[0m\u001b[1;33m[\u001b[0m\u001b[1;36m2\u001b[0m\u001b[1;33m:\u001b[0m\u001b[1;33m]\u001b[0m\u001b[1;33m\u001b[0m\u001b[1;33m\u001b[0m\u001b[0m\n\u001b[1;32m----> 2\u001b[1;33m \u001b[0mG_CO2\u001b[0m \u001b[1;33m=\u001b[0m \u001b[0mgibbs\u001b[0m\u001b[1;33m(\u001b[0m\u001b[0mh\u001b[0m\u001b[1;33m,\u001b[0m \u001b[0ma\u001b[0m\u001b[1;33m,\u001b[0m\u001b[0mb\u001b[0m\u001b[1;33m,\u001b[0m\u001b[0mc\u001b[0m\u001b[1;33m,\u001b[0m\u001b[0md\u001b[0m\u001b[1;33m,\u001b[0m\u001b[0me\u001b[0m\u001b[1;33m,\u001b[0m\u001b[0mf\u001b[0m\u001b[1;33m,\u001b[0m\u001b[0mg\u001b[0m\u001b[1;33m,\u001b[0m \u001b[1;36m2000\u001b[0m\u001b[1;33m)\u001b[0m\u001b[1;33m\u001b[0m\u001b[1;33m\u001b[0m\u001b[0m\n\u001b[0m\u001b[0;32m      3\u001b[0m \u001b[0mH_CO2\u001b[0m \u001b[1;33m=\u001b[0m \u001b[0mhf\u001b[0m\u001b[1;33m(\u001b[0m\u001b[0mh\u001b[0m\u001b[1;33m,\u001b[0m \u001b[0ma\u001b[0m\u001b[1;33m,\u001b[0m\u001b[0mb\u001b[0m\u001b[1;33m,\u001b[0m\u001b[0mc\u001b[0m\u001b[1;33m,\u001b[0m\u001b[0md\u001b[0m\u001b[1;33m,\u001b[0m\u001b[0me\u001b[0m\u001b[1;33m,\u001b[0m\u001b[0mf\u001b[0m\u001b[1;33m,\u001b[0m \u001b[1;36m2000\u001b[0m\u001b[1;33m)\u001b[0m\u001b[1;33m\u001b[0m\u001b[1;33m\u001b[0m\u001b[0m\n\u001b[0;32m      4\u001b[0m \u001b[0mG_CO2\u001b[0m\u001b[1;33m,\u001b[0m \u001b[0mH_CO2\u001b[0m\u001b[1;33m\u001b[0m\u001b[1;33m\u001b[0m\u001b[0m\n",
      "\u001b[1;31mNameError\u001b[0m: name 'gibbs' is not defined"
     ]
    }
   ],
   "source": [
    "h, a,b,c,d,e,f,g = dictData['CO2'][2:]\n",
    "G_CO2 = gibbs(h, a,b,c,d,e,f,g, 2000)\n",
    "H_CO2 = hf(h, a,b,c,d,e,f, 2000)\n",
    "G_CO2, H_CO2"
   ]
  },
  {
   "cell_type": "code",
   "execution_count": 14,
   "metadata": {},
   "outputs": [
    {
     "output_type": "execute_result",
     "data": {
      "text/plain": [
       "(-412.11495406783393, -569.070024455)"
      ]
     },
     "metadata": {},
     "execution_count": 14
    }
   ],
   "source": [
    "h, a,b,c,d,e,f,g = dictData['CO'][2:]\n",
    "G_CO = gibbs(h, a,b,c,d,e,f,g, 2000)\n",
    "H_CO = hf(h, a,b,c,d,e,f, 2000)\n",
    "G_CO, H_CO"
   ]
  },
  {
   "cell_type": "code",
   "execution_count": 16,
   "metadata": {},
   "outputs": [
    {
     "output_type": "execute_result",
     "data": {
      "text/plain": [
       "(0.0, 0.0)"
      ]
     },
     "metadata": {},
     "execution_count": 16
    }
   ],
   "source": [
    "h, a,b,c,d,e,f,g = dictData['O2'][2:]\n",
    "G_O2 = gibbs(h, a,b,c,d,e,f,g, 2000)\n",
    "H_O2 = hf(h, a,b,c,d,e,f, 2000)\n",
    "G_O2, H_O2"
   ]
  },
  {
   "cell_type": "code",
   "execution_count": 18,
   "metadata": {},
   "outputs": [
    {
     "output_type": "execute_result",
     "data": {
      "text/plain": [
       "-14.762786379950967"
      ]
     },
     "metadata": {},
     "execution_count": 18
    }
   ],
   "source": [
    "G_CO + G_O2 - G_CO2"
   ]
  },
  {
   "cell_type": "code",
   "execution_count": 20,
   "metadata": {},
   "outputs": [],
   "source": [
    "# biomass formula\n",
    "# hydrogen/carbon\n",
    "a = 0\n",
    "# oxygen/carbon\n",
    "b = 0\n",
    "# nitrogen/carbon\n",
    "c = 0"
   ]
  },
  {
   "cell_type": "code",
   "execution_count": 22,
   "metadata": {},
   "outputs": [],
   "source": [
    "CHaObNc = (1,a,b)"
   ]
  },
  {
   "cell_type": "code",
   "execution_count": 24,
   "metadata": {
    "tags": []
   },
   "outputs": [
    {
     "output_type": "stream",
     "name": "stdout",
     "text": [
      "1 AR ARGON 39.948 -189.9 -185.9 150.8 48.7 0.075 1373 -183 6531 1\n 1,AR,ARGON,39.948,-189.9,-185.9,150.8,48.7,0.075,1373,-183,6531,1,,\n2 BCL3 BORON TRICHLORIDE 117.169 -107.3 12.5 452.0 38.7 1350 11 2\n 2,BCL3,BORON-TRICHLORIDE,117.169,-107.3,12.5,452.0,38.7,1350,11,2,,,,\n3 BF3 BORON TRIFLUORIDE 67.805 -126.7 -99.9 260.8 49.9 3\n 3,BF3,BORON-TRIFLUORIDE,67.805,-126.7,-99.9,260.8,49.9,3,,,,,,\n4 BR2 BROMINE 159.808 -7.2 58.7 584.0 103.4 0.127 3119 20 30,187 4\n 4,BR2,BROMINE,159.808,-7.2,58.7,584.0,103.4,0.127,3119,20,30187,4,,\n5 CLNO NITROSYL CHLORIDE 65.459 -59.7 -5.5 440.0 91.2 0.139 1420 -12 25,707 5\n 5,CLNO,NITROSYL-CHLORIDE,65.459,-59.7,-5.5,440.0,91.2,0.139,1420,-12,25707,5,,\n"
     ]
    }
   ],
   "source": [
    "f = open(\"data/data.txt\", \"r\")\n",
    "dataList =[]\n",
    "sNO = []\n",
    "count = 0\n",
    "show_n=5\n",
    "k = 0\n",
    "\n",
    "for l in f:\n",
    "    # get first letter\n",
    "    w = l.split(' ', 1)[0]\n",
    "    if w == 'NO' and count < 2:\n",
    "        sNO.append(l)\n",
    "        count += 1\n",
    "\n",
    "    try:\n",
    "        x = int(w)        \n",
    "    except Exception:\n",
    "        continue\n",
    "\n",
    "    if x >= 600:\n",
    "        continue   \n",
    "\n",
    "    m = l.replace(',','')\n",
    "\n",
    "    # check for compound name\n",
    "    d = m.split(' ')\n",
    "\n",
    "    if len(d) > 3:\n",
    "        try:\n",
    "            x = float(d[3])        \n",
    "        except Exception:\n",
    "            d[2] = d[2] + '-' + d[3]\n",
    "            d.remove(d[3])\n",
    "            m = ' '.join(d)\n",
    "\n",
    "    n = m.count(' ')\n",
    "    x = m.replace(' ',',')\n",
    "    x = x.replace('\\n', '')\n",
    "\n",
    "    if(n < 14):\n",
    "        diff = 14 - n       \n",
    "        for i in range(diff):\n",
    "            x = x + ','\n",
    "        \n",
    "        # print(x)\n",
    "    \n",
    "    dataList.append(x)   \n",
    "\n",
    "    if k < show_n:\n",
    "        print(l, x)\n",
    "        k += 1\n",
    "\n",
    "f.close()"
   ]
  },
  {
   "cell_type": "code",
   "execution_count": 26,
   "metadata": {},
   "outputs": [
    {
     "output_type": "execute_result",
     "data": {
      "text/plain": [
       "(1000, 2, 2)"
      ]
     },
     "metadata": {},
     "execution_count": 26
    }
   ],
   "source": [
    "len(dataList), len(sNO), count"
   ]
  },
  {
   "cell_type": "code",
   "execution_count": 28,
   "metadata": {},
   "outputs": [
    {
     "output_type": "execute_result",
     "data": {
      "text/plain": [
       "['NO FORMULA COMPOUND NAME MOLWT TFP TBP TC PC VC LDEN TDEN HVAP NO\\n',\n",
       " 'NO VISA VISB DELHF DELGF CPVAPA CPVAPB CPVAPC CPVAPD ANTA ANTB ANTC TMN TMX NO\\n']"
      ]
     },
     "metadata": {},
     "execution_count": 28
    }
   ],
   "source": [
    "sNO"
   ]
  },
  {
   "cell_type": "code",
   "execution_count": 30,
   "metadata": {},
   "outputs": [
    {
     "output_type": "execute_result",
     "data": {
      "text/plain": [
       "'NO,FORMULA,COMPOUND-NAME,MOLWT,TFP,TBP,TC,PC,VC,LDEN,TDEN,HVAP,NO,,,NO,VISA,VISB,DELHF,DELGF,CPVAPA,CPVAPB,CPVAPC,CPVAPD,ANTA,ANTB,ANTC,TMN,TMX,NO'"
      ]
     },
     "metadata": {},
     "execution_count": 30
    }
   ],
   "source": [
    "heading = (sNO[0].replace('COMPOUND NAME', 'COMPOUND-NAME') + ',,,' + sNO[1]).replace('\\n','').replace(' ',',')\n",
    "heading"
   ]
  },
  {
   "cell_type": "code",
   "execution_count": 32,
   "metadata": {},
   "outputs": [
    {
     "output_type": "execute_result",
     "data": {
      "text/plain": [
       "['1,AR,ARGON,39.948,-189.9,-185.9,150.8,48.7,0.075,1373,-183,6531,1,,',\n",
       " '2,BCL3,BORON-TRICHLORIDE,117.169,-107.3,12.5,452.0,38.7,1350,11,2,,,,',\n",
       " '3,BF3,BORON-TRIFLUORIDE,67.805,-126.7,-99.9,260.8,49.9,3,,,,,,',\n",
       " '4,BR2,BROMINE,159.808,-7.2,58.7,584.0,103.4,0.127,3119,20,30187,4,,',\n",
       " '5,CLNO,NITROSYL-CHLORIDE,65.459,-59.7,-5.5,440.0,91.2,0.139,1420,-12,25707,5,,',\n",
       " '6,CL2,CHLORINE,70.906,-101.0,-34.5,417.0,77.0,0.124,1563,-34,20432,6,,',\n",
       " '7,CL3P,PHOSPHORUS-TRICHLORIDE,137.333,-112.2,75.8,563.0,0.260,1574,21,7,,,,',\n",
       " '8,CL4SI,SILICON-TETRACHLORIDE,169.898,-68.9,57.2,507.0,37.5,0.326,1480,20,27549,8,,',\n",
       " '9,D2,DEUTERIUM,4.032,-254.5,-249.5,38.4,16.6,0.060,165,-250,1223,9,,',\n",
       " '10,D2O,DEUTERIUM-OXIDE,20.031,3.8,101.4,644.0,216.6,0.056,1105,20,41366,10,,']"
      ]
     },
     "metadata": {},
     "execution_count": 32
    }
   ],
   "source": [
    "dataList[:10]"
   ]
  },
  {
   "cell_type": "code",
   "execution_count": 34,
   "metadata": {},
   "outputs": [
    {
     "output_type": "execute_result",
     "data": {
      "text/plain": [
       "['1,AR,ARGON,39.948,-189.9,-185.9,150.8,48.7,0.075,1373,-183,6531,1,,,1,107.57,58.76,20.804,-3.211E-05,51.665E-09,15.2330,700.51,-5.84,-192,-179,1,,,',\n",
       " '2,BCL3,BORON-TRICHLORIDE,117.169,-107.3,12.5,452.0,38.7,1350,11,2,,,,,2,2,,,,,,,,,,,,,',\n",
       " '3,BF3,BORON-TRIFLUORIDE,67.805,-126.7,-99.9,260.8,49.9,3,,,,,,,3,3,,,,,,,,,,,,,',\n",
       " '4,BR2,BROMINE,159.808,-7.2,58.7,584.0,103.4,0.127,3119,20,30187,4,,,4,387.82,292.79,33.859,11.254E-03,-1.192E-05,45.343E-10,15.8441,2582.32,-51.56,-14,81,4,,',\n",
       " '5,CLNO,NITROSYL-CHLORIDE,65.459,-59.7,-5.5,440.0,91.2,0.139,1420,-12,25707,5,,,5,52.63,66.99,34.097,44.715E-03,-3.340E-05,10.149E-09,16.9505,2520.70,-23.46,-63,12,5,,',\n",
       " '6,CL2,CHLORINE,70.906,-101.0,-34.5,417.0,77.0,0.124,1563,-34,20432,6,,,6,191.96,172.35,26.929,33.838E-03,-3.869E-05,15.470E-09,15.9610,1978.32,-27.01,-101,-9,6,,',\n",
       " '7,CL3P,PHOSPHORUS-TRICHLORIDE,137.333,-112.2,75.8,563.0,0.260,1574,21,7,,,,,7,7,,,,,,,,,,,,,',\n",
       " '8,CL4SI,SILICON-TETRACHLORIDE,169.898,-68.9,57.2,507.0,37.5,0.326,1480,20,27549,8,,,8,15.8019,2634.16,-43.15,-35,91,8,,,,,,,,',\n",
       " '9,D2,DEUTERIUM,4.032,-254.5,-249.5,38.4,16.6,0.060,165,-250,1223,9,,,9,19.67,8.38,30.250,-6.406E-03,11.698E-06,-3.684E-09,13.2954,157.89,-254,-248,9,,,',\n",
       " '10,D2O,DEUTERIUM-OXIDE,20.031,3.8,101.4,644.0,216.6,0.056,1105,20,41366,10,,,10,757.92,304.58,-249.41,-234.80,10,,,,,,,,,']"
      ]
     },
     "metadata": {},
     "execution_count": 34
    }
   ],
   "source": [
    "dataList2 = [(x + ','+ y) for x in dataList for y in dataList if x.split(',',1)[0] == y.split(',',1)[0]][1::2]\n",
    "dataList2[:10]\n"
   ]
  },
  {
   "cell_type": "code",
   "execution_count": 36,
   "metadata": {},
   "outputs": [
    {
     "output_type": "execute_result",
     "data": {
      "text/plain": [
       "['51,CHCLF2,CHLORODIFLUOROMETHANE,86.469,-160.2,-40.8,369.2,49.8,0.165,1230,16,20205,51,,,51,-502.00,-470.89,17.300,16.182E-02,-1.170E-04,30.585E-09,15.5602,1704.80,-41.30,-48,-33,51,,',\n",
       " '52,CHCL2F,DICHLOROFLUOROMETHANE,102.923,-135.2,8.8,451.6,51.7,0.197,1380,9,24953,52,,,52,-298.94,-268.37,23.664,15.814E-02,-1.200E-04,32.636E-09,52,,,,,,,',\n",
       " '53,CHCL3,CHLOROFORM,119.378,-63.6,61.1,536.4,54.7,0.239,1489,20,29726,53,,,53,394.81,246.50,-101.32,-68.58,24.003,18.933E-02,-1.841E-04,66.570E-09,15.9732,2696.79,-46.16,-13,97,53',\n",
       " '54,CHN,HYDROGEN-CYANIDE,27.026,-13.3,25.7,456.8,53.9,0.139,688,20,25234,54,,,54,194.70,145.31,130.63,120.20,21.863,60.625E-03,-4.961E-05,18.154E-09,16.5138,2585.80,-37.15,-39,57,54',\n",
       " '55,CH2BR2,DIBROMOMETHANE,173.835,-52.6,96.8,583.0,71.9,2500,20,55,,,,,55,428.91,294.57,-4.19,-5.61,55,,,,,,,,,',\n",
       " '56,CH2CL2,DICHLOROMETHANE,84.993,-95.1,39.8,510.0,60.8,0.193,1317,25,28010,56,,,56,359.55,225.13,-95.46,-68.91,12.954,16.232E-02,-1.302E-04,42.077E-09,16.3029,2622.44,-41.70,-44,59,56',\n",
       " '57,CH2O,FORMALDEHYDE,30.026,-117.2,-19.2,408.0,65.9,815,-20,23027,57,,,,57,319.83,171.35,-115.97,-109.99,23.475,31.568E-03,29.852E-06,-2.300E-08,16.4775,2204.13,-30.15,-88,-2,57',\n",
       " '58,CH2O2,FORMIC-ACID,46.025,8.3,100.6,580.0,1226,15,21939,58,,,,,58,729.35,325.72,-378.86,-351.23,11.715,13.578E-02,-8.411E-05,20.168E-09,16.9882,3599.58,-26.09,-2,136,58',\n",
       " '59,CH3BR,METHYL-BROMIDE,94.939,-93.7,3.5,464.0,86.1,1737,-5,23928,59,,,,59,298.15,211.15,-37.68,-28.18,14.428,10.911E-02,-5.401E-05,95.836E-10,16.0252,2271.71,-34.83,-58,53,59',\n",
       " '60,CH3CL,METHYL-CHLORIDE,50.488,-97.8,-24.3,416.3,66.8,0.139,915,20,21436,60,,,60,426.45,193.56,-86.37,-62.93,13.875,10.140E-02,-3.889E-05,25.665E-10,16.1052,2077.97,-29.55,-93,-7,60']"
      ]
     },
     "metadata": {},
     "execution_count": 36
    }
   ],
   "source": [
    "dataList3 =[]\n",
    "j = 0;\n",
    "for i,v in enumerate(dataList2):\n",
    "    d = v.split(',',1)[0]\n",
    "    if (j+1)==int(d):\n",
    "        # print(j+1,d)\n",
    "        dataList3.append(v)\n",
    "        j = j+1\n",
    "\n",
    "dataList3[50:60]"
   ]
  },
  {
   "cell_type": "code",
   "execution_count": 38,
   "metadata": {},
   "outputs": [],
   "source": [
    "f = open(\"data/data_out.txt\", \"w\")\n",
    "f.write(heading+'\\n')\n",
    "for l in dataList3:\n",
    "    f.write(l+'\\n')\n",
    "f.close()"
   ]
  },
  {
   "cell_type": "code",
   "execution_count": 40,
   "metadata": {},
   "outputs": [
    {
     "output_type": "execute_result",
     "data": {
      "text/plain": [
       "   NO FORMULA      COMPOUND-NAME    MOLWT    TFP    TBP     TC     PC  \\\n",
       "0   1      AR              ARGON   39.948 -189.9 -185.9  150.8   48.7   \n",
       "1   2    BCL3  BORON-TRICHLORIDE  117.169 -107.3   12.5  452.0   38.7   \n",
       "2   3     BF3  BORON-TRIFLUORIDE   67.805 -126.7  -99.9  260.8   49.9   \n",
       "3   4     BR2            BROMINE  159.808   -7.2   58.7  584.0  103.4   \n",
       "4   5    CLNO  NITROSYL-CHLORIDE   65.459  -59.7   -5.5  440.0   91.2   \n",
       "\n",
       "         VC    LDEN  ...        CPVAPA        CPVAPB    CPVAPC   CPVAPD  \\\n",
       "0     0.075  1373.0  ...  5.166500e-08  1.523300e+01  700.5100    -5.84   \n",
       "1  1350.000    11.0  ...           NaN           NaN       NaN      NaN   \n",
       "2     3.000     NaN  ...           NaN           NaN       NaN      NaN   \n",
       "3     0.127  3119.0  ... -1.192000e-05  4.534300e-09   15.8441  2582.32   \n",
       "4     0.139  1420.0  ... -3.340000e-05  1.014900e-08   16.9505  2520.70   \n",
       "\n",
       "     ANTA   ANTB  ANTC  TMN  TMX  NO.3  \n",
       "0 -192.00 -179.0   1.0  NaN  NaN   NaN  \n",
       "1     NaN    NaN   NaN  NaN  NaN   NaN  \n",
       "2     NaN    NaN   NaN  NaN  NaN   NaN  \n",
       "3  -51.56  -14.0  81.0  4.0  NaN   NaN  \n",
       "4  -23.46  -63.0  12.0  5.0  NaN   NaN  \n",
       "\n",
       "[5 rows x 30 columns]"
      ],
      "text/html": "<div>\n<style scoped>\n    .dataframe tbody tr th:only-of-type {\n        vertical-align: middle;\n    }\n\n    .dataframe tbody tr th {\n        vertical-align: top;\n    }\n\n    .dataframe thead th {\n        text-align: right;\n    }\n</style>\n<table border=\"1\" class=\"dataframe\">\n  <thead>\n    <tr style=\"text-align: right;\">\n      <th></th>\n      <th>NO</th>\n      <th>FORMULA</th>\n      <th>COMPOUND-NAME</th>\n      <th>MOLWT</th>\n      <th>TFP</th>\n      <th>TBP</th>\n      <th>TC</th>\n      <th>PC</th>\n      <th>VC</th>\n      <th>LDEN</th>\n      <th>...</th>\n      <th>CPVAPA</th>\n      <th>CPVAPB</th>\n      <th>CPVAPC</th>\n      <th>CPVAPD</th>\n      <th>ANTA</th>\n      <th>ANTB</th>\n      <th>ANTC</th>\n      <th>TMN</th>\n      <th>TMX</th>\n      <th>NO.3</th>\n    </tr>\n  </thead>\n  <tbody>\n    <tr>\n      <th>0</th>\n      <td>1</td>\n      <td>AR</td>\n      <td>ARGON</td>\n      <td>39.948</td>\n      <td>-189.9</td>\n      <td>-185.9</td>\n      <td>150.8</td>\n      <td>48.7</td>\n      <td>0.075</td>\n      <td>1373.0</td>\n      <td>...</td>\n      <td>5.166500e-08</td>\n      <td>1.523300e+01</td>\n      <td>700.5100</td>\n      <td>-5.84</td>\n      <td>-192.00</td>\n      <td>-179.0</td>\n      <td>1.0</td>\n      <td>NaN</td>\n      <td>NaN</td>\n      <td>NaN</td>\n    </tr>\n    <tr>\n      <th>1</th>\n      <td>2</td>\n      <td>BCL3</td>\n      <td>BORON-TRICHLORIDE</td>\n      <td>117.169</td>\n      <td>-107.3</td>\n      <td>12.5</td>\n      <td>452.0</td>\n      <td>38.7</td>\n      <td>1350.000</td>\n      <td>11.0</td>\n      <td>...</td>\n      <td>NaN</td>\n      <td>NaN</td>\n      <td>NaN</td>\n      <td>NaN</td>\n      <td>NaN</td>\n      <td>NaN</td>\n      <td>NaN</td>\n      <td>NaN</td>\n      <td>NaN</td>\n      <td>NaN</td>\n    </tr>\n    <tr>\n      <th>2</th>\n      <td>3</td>\n      <td>BF3</td>\n      <td>BORON-TRIFLUORIDE</td>\n      <td>67.805</td>\n      <td>-126.7</td>\n      <td>-99.9</td>\n      <td>260.8</td>\n      <td>49.9</td>\n      <td>3.000</td>\n      <td>NaN</td>\n      <td>...</td>\n      <td>NaN</td>\n      <td>NaN</td>\n      <td>NaN</td>\n      <td>NaN</td>\n      <td>NaN</td>\n      <td>NaN</td>\n      <td>NaN</td>\n      <td>NaN</td>\n      <td>NaN</td>\n      <td>NaN</td>\n    </tr>\n    <tr>\n      <th>3</th>\n      <td>4</td>\n      <td>BR2</td>\n      <td>BROMINE</td>\n      <td>159.808</td>\n      <td>-7.2</td>\n      <td>58.7</td>\n      <td>584.0</td>\n      <td>103.4</td>\n      <td>0.127</td>\n      <td>3119.0</td>\n      <td>...</td>\n      <td>-1.192000e-05</td>\n      <td>4.534300e-09</td>\n      <td>15.8441</td>\n      <td>2582.32</td>\n      <td>-51.56</td>\n      <td>-14.0</td>\n      <td>81.0</td>\n      <td>4.0</td>\n      <td>NaN</td>\n      <td>NaN</td>\n    </tr>\n    <tr>\n      <th>4</th>\n      <td>5</td>\n      <td>CLNO</td>\n      <td>NITROSYL-CHLORIDE</td>\n      <td>65.459</td>\n      <td>-59.7</td>\n      <td>-5.5</td>\n      <td>440.0</td>\n      <td>91.2</td>\n      <td>0.139</td>\n      <td>1420.0</td>\n      <td>...</td>\n      <td>-3.340000e-05</td>\n      <td>1.014900e-08</td>\n      <td>16.9505</td>\n      <td>2520.70</td>\n      <td>-23.46</td>\n      <td>-63.0</td>\n      <td>12.0</td>\n      <td>5.0</td>\n      <td>NaN</td>\n      <td>NaN</td>\n    </tr>\n  </tbody>\n</table>\n<p>5 rows × 30 columns</p>\n</div>"
     },
     "metadata": {},
     "execution_count": 40
    }
   ],
   "source": [
    "import pandas as pd\n",
    "df = pd.read_csv('data/data_out.txt')\n",
    "df.head()"
   ]
  },
  {
   "cell_type": "code",
   "execution_count": 42,
   "metadata": {},
   "outputs": [
    {
     "output_type": "execute_result",
     "data": {
      "text/plain": [
       "          NO             COMPOUND-NAME    MOLWT    TFP    TBP     TC       PC  \\\n",
       "FORMULA                                                                         \n",
       "AR         1                     ARGON   39.948 -189.9 -185.9  150.8     48.7   \n",
       "BCL3       2         BORON-TRICHLORIDE  117.169 -107.3   12.5  452.0     38.7   \n",
       "BF3        3         BORON-TRIFLUORIDE   67.805 -126.7  -99.9  260.8     49.9   \n",
       "BR2        4                   BROMINE  159.808   -7.2   58.7  584.0    103.4   \n",
       "CLNO       5         NITROSYL-CHLORIDE   65.459  -59.7   -5.5  440.0     91.2   \n",
       "...      ...                       ...      ...    ...    ...    ...      ...   \n",
       "C19H40   496              N-NONADECANE  268.529   31.8  329.9  756.0     11.1   \n",
       "C20H40   497  N-PENTADECYLCYCLOPENTANE  280.540  351.8  780.0   10.2  57694.0   \n",
       "C20H42   498                N-EICOSANE  282.556   36.8  343.8  767.0     11.1   \n",
       "C20H42O  499               1-EICOSANOL  298.555   65.8  355.8  770.0     12.2   \n",
       "C21H42   500   N-HEXADECYLCYCLOPENTANE  294.567  363.8  791.0    9.7  59369.0   \n",
       "\n",
       "                VC    LDEN     TDEN  ...        CPVAPA        CPVAPB  \\\n",
       "FORMULA                              ...                               \n",
       "AR           0.075  1373.0   -183.0  ...  5.166500e-08  1.523300e+01   \n",
       "BCL3      1350.000    11.0      2.0  ...           NaN           NaN   \n",
       "BF3          3.000     NaN      NaN  ...           NaN           NaN   \n",
       "BR2          0.127  3119.0     20.0  ... -1.192000e-05  4.534300e-09   \n",
       "CLNO         0.139  1420.0    -12.0  ... -3.340000e-05  1.014900e-08   \n",
       "...            ...     ...      ...  ...           ...           ...   \n",
       "C19H40     789.000    32.0  56061.0  ... -1.549100e+01  1.812500e+00   \n",
       "C20H40     497.000     NaN      NaN  ... -6.609300e+01  1.980400e+00   \n",
       "C20H42     775.000    40.0  57527.0  ... -2.238300e+01  1.939300e+00   \n",
       "C20H42O  65314.000   499.0      NaN  ... -1.118000e-03  2.515800e-07   \n",
       "C21H42     500.000     NaN      NaN  ... -6.668300e+01  2.074100e+00   \n",
       "\n",
       "             CPVAPC        CPVAPD      ANTA     ANTB   ANTC    TMN    TMX  \\\n",
       "FORMULA                                                                     \n",
       "AR       700.510000 -5.840000e+00 -192.0000  -179.00    1.0    NaN    NaN   \n",
       "BCL3            NaN           NaN       NaN      NaN    NaN    NaN    NaN   \n",
       "BF3             NaN           NaN       NaN      NaN    NaN    NaN    NaN   \n",
       "BR2       15.844100  2.582320e+03  -51.5600   -14.00   81.0    4.0    NaN   \n",
       "CLNO      16.950500  2.520700e+03  -23.4600   -63.00   12.0    5.0    NaN   \n",
       "...             ...           ...       ...      ...    ...    ...    ...   \n",
       "C19H40    -0.001015  2.205200e-07   16.1533  4450.44 -135.6  183.0  366.0   \n",
       "C20H40    -0.001140  2.549800e-07   16.3092  4642.01 -145.1  203.0  388.0   \n",
       "C20H42    -0.001117  2.528400e-07   16.4685  4680.46 -141.1  198.0  379.0   \n",
       "C20H42O   15.823300  3.912100e+03 -203.1000   219.00  406.0  499.0    NaN   \n",
       "C21H42    -0.001237  2.668200e-07   16.3553  4715.69 -152.1  215.0  401.0   \n",
       "\n",
       "          NO.3  \n",
       "FORMULA         \n",
       "AR         NaN  \n",
       "BCL3       NaN  \n",
       "BF3        NaN  \n",
       "BR2        NaN  \n",
       "CLNO       NaN  \n",
       "...        ...  \n",
       "C19H40   496.0  \n",
       "C20H40   497.0  \n",
       "C20H42   498.0  \n",
       "C20H42O    NaN  \n",
       "C21H42   500.0  \n",
       "\n",
       "[500 rows x 29 columns]"
      ],
      "text/html": "<div>\n<style scoped>\n    .dataframe tbody tr th:only-of-type {\n        vertical-align: middle;\n    }\n\n    .dataframe tbody tr th {\n        vertical-align: top;\n    }\n\n    .dataframe thead th {\n        text-align: right;\n    }\n</style>\n<table border=\"1\" class=\"dataframe\">\n  <thead>\n    <tr style=\"text-align: right;\">\n      <th></th>\n      <th>NO</th>\n      <th>COMPOUND-NAME</th>\n      <th>MOLWT</th>\n      <th>TFP</th>\n      <th>TBP</th>\n      <th>TC</th>\n      <th>PC</th>\n      <th>VC</th>\n      <th>LDEN</th>\n      <th>TDEN</th>\n      <th>...</th>\n      <th>CPVAPA</th>\n      <th>CPVAPB</th>\n      <th>CPVAPC</th>\n      <th>CPVAPD</th>\n      <th>ANTA</th>\n      <th>ANTB</th>\n      <th>ANTC</th>\n      <th>TMN</th>\n      <th>TMX</th>\n      <th>NO.3</th>\n    </tr>\n    <tr>\n      <th>FORMULA</th>\n      <th></th>\n      <th></th>\n      <th></th>\n      <th></th>\n      <th></th>\n      <th></th>\n      <th></th>\n      <th></th>\n      <th></th>\n      <th></th>\n      <th></th>\n      <th></th>\n      <th></th>\n      <th></th>\n      <th></th>\n      <th></th>\n      <th></th>\n      <th></th>\n      <th></th>\n      <th></th>\n      <th></th>\n    </tr>\n  </thead>\n  <tbody>\n    <tr>\n      <th>AR</th>\n      <td>1</td>\n      <td>ARGON</td>\n      <td>39.948</td>\n      <td>-189.9</td>\n      <td>-185.9</td>\n      <td>150.8</td>\n      <td>48.7</td>\n      <td>0.075</td>\n      <td>1373.0</td>\n      <td>-183.0</td>\n      <td>...</td>\n      <td>5.166500e-08</td>\n      <td>1.523300e+01</td>\n      <td>700.510000</td>\n      <td>-5.840000e+00</td>\n      <td>-192.0000</td>\n      <td>-179.00</td>\n      <td>1.0</td>\n      <td>NaN</td>\n      <td>NaN</td>\n      <td>NaN</td>\n    </tr>\n    <tr>\n      <th>BCL3</th>\n      <td>2</td>\n      <td>BORON-TRICHLORIDE</td>\n      <td>117.169</td>\n      <td>-107.3</td>\n      <td>12.5</td>\n      <td>452.0</td>\n      <td>38.7</td>\n      <td>1350.000</td>\n      <td>11.0</td>\n      <td>2.0</td>\n      <td>...</td>\n      <td>NaN</td>\n      <td>NaN</td>\n      <td>NaN</td>\n      <td>NaN</td>\n      <td>NaN</td>\n      <td>NaN</td>\n      <td>NaN</td>\n      <td>NaN</td>\n      <td>NaN</td>\n      <td>NaN</td>\n    </tr>\n    <tr>\n      <th>BF3</th>\n      <td>3</td>\n      <td>BORON-TRIFLUORIDE</td>\n      <td>67.805</td>\n      <td>-126.7</td>\n      <td>-99.9</td>\n      <td>260.8</td>\n      <td>49.9</td>\n      <td>3.000</td>\n      <td>NaN</td>\n      <td>NaN</td>\n      <td>...</td>\n      <td>NaN</td>\n      <td>NaN</td>\n      <td>NaN</td>\n      <td>NaN</td>\n      <td>NaN</td>\n      <td>NaN</td>\n      <td>NaN</td>\n      <td>NaN</td>\n      <td>NaN</td>\n      <td>NaN</td>\n    </tr>\n    <tr>\n      <th>BR2</th>\n      <td>4</td>\n      <td>BROMINE</td>\n      <td>159.808</td>\n      <td>-7.2</td>\n      <td>58.7</td>\n      <td>584.0</td>\n      <td>103.4</td>\n      <td>0.127</td>\n      <td>3119.0</td>\n      <td>20.0</td>\n      <td>...</td>\n      <td>-1.192000e-05</td>\n      <td>4.534300e-09</td>\n      <td>15.844100</td>\n      <td>2.582320e+03</td>\n      <td>-51.5600</td>\n      <td>-14.00</td>\n      <td>81.0</td>\n      <td>4.0</td>\n      <td>NaN</td>\n      <td>NaN</td>\n    </tr>\n    <tr>\n      <th>CLNO</th>\n      <td>5</td>\n      <td>NITROSYL-CHLORIDE</td>\n      <td>65.459</td>\n      <td>-59.7</td>\n      <td>-5.5</td>\n      <td>440.0</td>\n      <td>91.2</td>\n      <td>0.139</td>\n      <td>1420.0</td>\n      <td>-12.0</td>\n      <td>...</td>\n      <td>-3.340000e-05</td>\n      <td>1.014900e-08</td>\n      <td>16.950500</td>\n      <td>2.520700e+03</td>\n      <td>-23.4600</td>\n      <td>-63.00</td>\n      <td>12.0</td>\n      <td>5.0</td>\n      <td>NaN</td>\n      <td>NaN</td>\n    </tr>\n    <tr>\n      <th>...</th>\n      <td>...</td>\n      <td>...</td>\n      <td>...</td>\n      <td>...</td>\n      <td>...</td>\n      <td>...</td>\n      <td>...</td>\n      <td>...</td>\n      <td>...</td>\n      <td>...</td>\n      <td>...</td>\n      <td>...</td>\n      <td>...</td>\n      <td>...</td>\n      <td>...</td>\n      <td>...</td>\n      <td>...</td>\n      <td>...</td>\n      <td>...</td>\n      <td>...</td>\n      <td>...</td>\n    </tr>\n    <tr>\n      <th>C19H40</th>\n      <td>496</td>\n      <td>N-NONADECANE</td>\n      <td>268.529</td>\n      <td>31.8</td>\n      <td>329.9</td>\n      <td>756.0</td>\n      <td>11.1</td>\n      <td>789.000</td>\n      <td>32.0</td>\n      <td>56061.0</td>\n      <td>...</td>\n      <td>-1.549100e+01</td>\n      <td>1.812500e+00</td>\n      <td>-0.001015</td>\n      <td>2.205200e-07</td>\n      <td>16.1533</td>\n      <td>4450.44</td>\n      <td>-135.6</td>\n      <td>183.0</td>\n      <td>366.0</td>\n      <td>496.0</td>\n    </tr>\n    <tr>\n      <th>C20H40</th>\n      <td>497</td>\n      <td>N-PENTADECYLCYCLOPENTANE</td>\n      <td>280.540</td>\n      <td>351.8</td>\n      <td>780.0</td>\n      <td>10.2</td>\n      <td>57694.0</td>\n      <td>497.000</td>\n      <td>NaN</td>\n      <td>NaN</td>\n      <td>...</td>\n      <td>-6.609300e+01</td>\n      <td>1.980400e+00</td>\n      <td>-0.001140</td>\n      <td>2.549800e-07</td>\n      <td>16.3092</td>\n      <td>4642.01</td>\n      <td>-145.1</td>\n      <td>203.0</td>\n      <td>388.0</td>\n      <td>497.0</td>\n    </tr>\n    <tr>\n      <th>C20H42</th>\n      <td>498</td>\n      <td>N-EICOSANE</td>\n      <td>282.556</td>\n      <td>36.8</td>\n      <td>343.8</td>\n      <td>767.0</td>\n      <td>11.1</td>\n      <td>775.000</td>\n      <td>40.0</td>\n      <td>57527.0</td>\n      <td>...</td>\n      <td>-2.238300e+01</td>\n      <td>1.939300e+00</td>\n      <td>-0.001117</td>\n      <td>2.528400e-07</td>\n      <td>16.4685</td>\n      <td>4680.46</td>\n      <td>-141.1</td>\n      <td>198.0</td>\n      <td>379.0</td>\n      <td>498.0</td>\n    </tr>\n    <tr>\n      <th>C20H42O</th>\n      <td>499</td>\n      <td>1-EICOSANOL</td>\n      <td>298.555</td>\n      <td>65.8</td>\n      <td>355.8</td>\n      <td>770.0</td>\n      <td>12.2</td>\n      <td>65314.000</td>\n      <td>499.0</td>\n      <td>NaN</td>\n      <td>...</td>\n      <td>-1.118000e-03</td>\n      <td>2.515800e-07</td>\n      <td>15.823300</td>\n      <td>3.912100e+03</td>\n      <td>-203.1000</td>\n      <td>219.00</td>\n      <td>406.0</td>\n      <td>499.0</td>\n      <td>NaN</td>\n      <td>NaN</td>\n    </tr>\n    <tr>\n      <th>C21H42</th>\n      <td>500</td>\n      <td>N-HEXADECYLCYCLOPENTANE</td>\n      <td>294.567</td>\n      <td>363.8</td>\n      <td>791.0</td>\n      <td>9.7</td>\n      <td>59369.0</td>\n      <td>500.000</td>\n      <td>NaN</td>\n      <td>NaN</td>\n      <td>...</td>\n      <td>-6.668300e+01</td>\n      <td>2.074100e+00</td>\n      <td>-0.001237</td>\n      <td>2.668200e-07</td>\n      <td>16.3553</td>\n      <td>4715.69</td>\n      <td>-152.1</td>\n      <td>215.0</td>\n      <td>401.0</td>\n      <td>500.0</td>\n    </tr>\n  </tbody>\n</table>\n<p>500 rows × 29 columns</p>\n</div>"
     },
     "metadata": {},
     "execution_count": 42
    }
   ],
   "source": [
    "df.set_index(\"FORMULA\", inplace=True)\n",
    "df"
   ]
  },
  {
   "cell_type": "code",
   "execution_count": 44,
   "metadata": {},
   "outputs": [
    {
     "output_type": "execute_result",
     "data": {
      "text/plain": [
       "         NO    COMPOUND-NAME   MOLWT    TFP    TBP     TC     PC     VC  \\\n",
       "FORMULA                                                                   \n",
       "CO       46  CARBON-MONOXIDE  28.010 -205.1 -191.5  132.9   35.0  0.093   \n",
       "CO2      48   CARBON-DIOXIDE  44.010  -56.6  -78.5  304.2   73.8  0.094   \n",
       "CH4      64          METHANE  16.043 -182.5 -161.5  190.6   46.0  0.099   \n",
       "C2H4     92         ETHYLENE  28.054 -169.2 -103.8  282.4   50.4  0.129   \n",
       "CH4O     65         METHANOL  32.042  -97.7   64.6  512.6   81.0  0.118   \n",
       "H2O      20            WATER  18.015    0.0  100.0  647.3  220.5  0.056   \n",
       "O2       34           OXYGEN  31.999 -218.8 -183.0  154.6   50.5  0.073   \n",
       "H2       19         HYDROGEN   2.016 -259.2 -252.8   33.2   13.0  0.065   \n",
       "N2       31         NITROGEN  28.013 -209.9 -195.8  126.2   33.9  0.090   \n",
       "\n",
       "           LDEN   TDEN  ...  CPVAPA    CPVAPB    CPVAPC        CPVAPD  \\\n",
       "FORMULA                 ...                                             \n",
       "CO        803.0 -192.0  ...  30.869 -0.012850  0.000028 -1.272000e-08   \n",
       "CO2       777.0   20.0  ...  19.795  0.073436 -0.000056  1.715300e-08   \n",
       "CH4       425.0 -161.0  ...  19.251  0.052126  0.000012 -1.132000e-08   \n",
       "C2H4      577.0 -110.0  ...   3.806  0.156590 -0.000083  1.755100e-08   \n",
       "CH4O      791.0   20.0  ...  21.152  0.070924  0.000026 -2.852000e-08   \n",
       "H2O       998.0   20.0  ...  32.243  0.001924  0.000011 -3.596000e-09   \n",
       "O2       1149.0 -183.0  ...  28.106 -0.000004  0.000017 -1.065000e-08   \n",
       "H2         71.0 -253.0  ...  27.143  0.009274 -0.000014  7.645100e-09   \n",
       "N2        805.0 -195.0  ...  31.150 -0.013570  0.000027 -1.168000e-08   \n",
       "\n",
       "            ANTA     ANTB   ANTC    TMN    TMX  NO.3  \n",
       "FORMULA                                               \n",
       "CO       14.3686   530.22 -13.15 -210.0 -165.0  46.0  \n",
       "CO2      22.5898  3103.39  -0.16 -119.0  -69.0  48.0  \n",
       "CH4      15.2243   597.84  -7.16 -180.0 -153.0  64.0  \n",
       "C2H4     15.5368  1347.01 -18.15 -153.0  -91.0  92.0  \n",
       "CH4O     18.5875  3626.55 -34.29  -16.0   91.0  65.0  \n",
       "H2O      18.3036  3816.44 -46.13   11.0  168.0  20.0  \n",
       "O2       15.4075   734.55  -6.45 -210.0 -173.0  34.0  \n",
       "H2       13.6333   164.90   3.19 -259.0 -248.0  19.0  \n",
       "N2       14.9542   588.72  -6.60 -219.0 -183.0  31.0  \n",
       "\n",
       "[9 rows x 29 columns]"
      ],
      "text/html": "<div>\n<style scoped>\n    .dataframe tbody tr th:only-of-type {\n        vertical-align: middle;\n    }\n\n    .dataframe tbody tr th {\n        vertical-align: top;\n    }\n\n    .dataframe thead th {\n        text-align: right;\n    }\n</style>\n<table border=\"1\" class=\"dataframe\">\n  <thead>\n    <tr style=\"text-align: right;\">\n      <th></th>\n      <th>NO</th>\n      <th>COMPOUND-NAME</th>\n      <th>MOLWT</th>\n      <th>TFP</th>\n      <th>TBP</th>\n      <th>TC</th>\n      <th>PC</th>\n      <th>VC</th>\n      <th>LDEN</th>\n      <th>TDEN</th>\n      <th>...</th>\n      <th>CPVAPA</th>\n      <th>CPVAPB</th>\n      <th>CPVAPC</th>\n      <th>CPVAPD</th>\n      <th>ANTA</th>\n      <th>ANTB</th>\n      <th>ANTC</th>\n      <th>TMN</th>\n      <th>TMX</th>\n      <th>NO.3</th>\n    </tr>\n    <tr>\n      <th>FORMULA</th>\n      <th></th>\n      <th></th>\n      <th></th>\n      <th></th>\n      <th></th>\n      <th></th>\n      <th></th>\n      <th></th>\n      <th></th>\n      <th></th>\n      <th></th>\n      <th></th>\n      <th></th>\n      <th></th>\n      <th></th>\n      <th></th>\n      <th></th>\n      <th></th>\n      <th></th>\n      <th></th>\n      <th></th>\n    </tr>\n  </thead>\n  <tbody>\n    <tr>\n      <th>CO</th>\n      <td>46</td>\n      <td>CARBON-MONOXIDE</td>\n      <td>28.010</td>\n      <td>-205.1</td>\n      <td>-191.5</td>\n      <td>132.9</td>\n      <td>35.0</td>\n      <td>0.093</td>\n      <td>803.0</td>\n      <td>-192.0</td>\n      <td>...</td>\n      <td>30.869</td>\n      <td>-0.012850</td>\n      <td>0.000028</td>\n      <td>-1.272000e-08</td>\n      <td>14.3686</td>\n      <td>530.22</td>\n      <td>-13.15</td>\n      <td>-210.0</td>\n      <td>-165.0</td>\n      <td>46.0</td>\n    </tr>\n    <tr>\n      <th>CO2</th>\n      <td>48</td>\n      <td>CARBON-DIOXIDE</td>\n      <td>44.010</td>\n      <td>-56.6</td>\n      <td>-78.5</td>\n      <td>304.2</td>\n      <td>73.8</td>\n      <td>0.094</td>\n      <td>777.0</td>\n      <td>20.0</td>\n      <td>...</td>\n      <td>19.795</td>\n      <td>0.073436</td>\n      <td>-0.000056</td>\n      <td>1.715300e-08</td>\n      <td>22.5898</td>\n      <td>3103.39</td>\n      <td>-0.16</td>\n      <td>-119.0</td>\n      <td>-69.0</td>\n      <td>48.0</td>\n    </tr>\n    <tr>\n      <th>CH4</th>\n      <td>64</td>\n      <td>METHANE</td>\n      <td>16.043</td>\n      <td>-182.5</td>\n      <td>-161.5</td>\n      <td>190.6</td>\n      <td>46.0</td>\n      <td>0.099</td>\n      <td>425.0</td>\n      <td>-161.0</td>\n      <td>...</td>\n      <td>19.251</td>\n      <td>0.052126</td>\n      <td>0.000012</td>\n      <td>-1.132000e-08</td>\n      <td>15.2243</td>\n      <td>597.84</td>\n      <td>-7.16</td>\n      <td>-180.0</td>\n      <td>-153.0</td>\n      <td>64.0</td>\n    </tr>\n    <tr>\n      <th>C2H4</th>\n      <td>92</td>\n      <td>ETHYLENE</td>\n      <td>28.054</td>\n      <td>-169.2</td>\n      <td>-103.8</td>\n      <td>282.4</td>\n      <td>50.4</td>\n      <td>0.129</td>\n      <td>577.0</td>\n      <td>-110.0</td>\n      <td>...</td>\n      <td>3.806</td>\n      <td>0.156590</td>\n      <td>-0.000083</td>\n      <td>1.755100e-08</td>\n      <td>15.5368</td>\n      <td>1347.01</td>\n      <td>-18.15</td>\n      <td>-153.0</td>\n      <td>-91.0</td>\n      <td>92.0</td>\n    </tr>\n    <tr>\n      <th>CH4O</th>\n      <td>65</td>\n      <td>METHANOL</td>\n      <td>32.042</td>\n      <td>-97.7</td>\n      <td>64.6</td>\n      <td>512.6</td>\n      <td>81.0</td>\n      <td>0.118</td>\n      <td>791.0</td>\n      <td>20.0</td>\n      <td>...</td>\n      <td>21.152</td>\n      <td>0.070924</td>\n      <td>0.000026</td>\n      <td>-2.852000e-08</td>\n      <td>18.5875</td>\n      <td>3626.55</td>\n      <td>-34.29</td>\n      <td>-16.0</td>\n      <td>91.0</td>\n      <td>65.0</td>\n    </tr>\n    <tr>\n      <th>H2O</th>\n      <td>20</td>\n      <td>WATER</td>\n      <td>18.015</td>\n      <td>0.0</td>\n      <td>100.0</td>\n      <td>647.3</td>\n      <td>220.5</td>\n      <td>0.056</td>\n      <td>998.0</td>\n      <td>20.0</td>\n      <td>...</td>\n      <td>32.243</td>\n      <td>0.001924</td>\n      <td>0.000011</td>\n      <td>-3.596000e-09</td>\n      <td>18.3036</td>\n      <td>3816.44</td>\n      <td>-46.13</td>\n      <td>11.0</td>\n      <td>168.0</td>\n      <td>20.0</td>\n    </tr>\n    <tr>\n      <th>O2</th>\n      <td>34</td>\n      <td>OXYGEN</td>\n      <td>31.999</td>\n      <td>-218.8</td>\n      <td>-183.0</td>\n      <td>154.6</td>\n      <td>50.5</td>\n      <td>0.073</td>\n      <td>1149.0</td>\n      <td>-183.0</td>\n      <td>...</td>\n      <td>28.106</td>\n      <td>-0.000004</td>\n      <td>0.000017</td>\n      <td>-1.065000e-08</td>\n      <td>15.4075</td>\n      <td>734.55</td>\n      <td>-6.45</td>\n      <td>-210.0</td>\n      <td>-173.0</td>\n      <td>34.0</td>\n    </tr>\n    <tr>\n      <th>H2</th>\n      <td>19</td>\n      <td>HYDROGEN</td>\n      <td>2.016</td>\n      <td>-259.2</td>\n      <td>-252.8</td>\n      <td>33.2</td>\n      <td>13.0</td>\n      <td>0.065</td>\n      <td>71.0</td>\n      <td>-253.0</td>\n      <td>...</td>\n      <td>27.143</td>\n      <td>0.009274</td>\n      <td>-0.000014</td>\n      <td>7.645100e-09</td>\n      <td>13.6333</td>\n      <td>164.90</td>\n      <td>3.19</td>\n      <td>-259.0</td>\n      <td>-248.0</td>\n      <td>19.0</td>\n    </tr>\n    <tr>\n      <th>N2</th>\n      <td>31</td>\n      <td>NITROGEN</td>\n      <td>28.013</td>\n      <td>-209.9</td>\n      <td>-195.8</td>\n      <td>126.2</td>\n      <td>33.9</td>\n      <td>0.090</td>\n      <td>805.0</td>\n      <td>-195.0</td>\n      <td>...</td>\n      <td>31.150</td>\n      <td>-0.013570</td>\n      <td>0.000027</td>\n      <td>-1.168000e-08</td>\n      <td>14.9542</td>\n      <td>588.72</td>\n      <td>-6.60</td>\n      <td>-219.0</td>\n      <td>-183.0</td>\n      <td>31.0</td>\n    </tr>\n  </tbody>\n</table>\n<p>9 rows × 29 columns</p>\n</div>"
     },
     "metadata": {},
     "execution_count": 44
    }
   ],
   "source": [
    "dfw = df.loc[['CO','CO2','CH4','C2H4','CH4O','H2O','O2','H2','N2']]\n",
    "dfw"
   ]
  },
  {
   "cell_type": "code",
   "execution_count": 46,
   "metadata": {},
   "outputs": [
    {
     "output_type": "stream",
     "name": "stdout",
     "text": [
      "<class 'pandas.core.frame.DataFrame'>\nIndex: 9 entries, CO to N2\nData columns (total 29 columns):\n #   Column         Non-Null Count  Dtype  \n---  ------         --------------  -----  \n 0   NO             9 non-null      int64  \n 1   COMPOUND-NAME  9 non-null      object \n 2   MOLWT          9 non-null      object \n 3   TFP            9 non-null      float64\n 4   TBP            9 non-null      float64\n 5   TC             9 non-null      float64\n 6   PC             9 non-null      float64\n 7   VC             9 non-null      float64\n 8   LDEN           9 non-null      float64\n 9   TDEN           9 non-null      float64\n 10  HVAP           9 non-null      float64\n 11  NO.1           9 non-null      float64\n 12  Unnamed: 13    0 non-null      float64\n 13  Unnamed: 14    0 non-null      float64\n 14  NO.2           9 non-null      int64  \n 15  VISA           9 non-null      float64\n 16  VISB           9 non-null      float64\n 17  DELHF          9 non-null      float64\n 18  DELGF          9 non-null      float64\n 19  CPVAPA         9 non-null      float64\n 20  CPVAPB         9 non-null      float64\n 21  CPVAPC         9 non-null      float64\n 22  CPVAPD         9 non-null      float64\n 23  ANTA           9 non-null      float64\n 24  ANTB           9 non-null      float64\n 25  ANTC           9 non-null      float64\n 26  TMN            9 non-null      float64\n 27  TMX            9 non-null      float64\n 28  NO.3           9 non-null      float64\ndtypes: float64(25), int64(2), object(2)\nmemory usage: 2.1+ KB\n"
     ]
    }
   ],
   "source": [
    "dfw.info()"
   ]
  },
  {
   "cell_type": "code",
   "execution_count": 48,
   "metadata": {},
   "outputs": [
    {
     "output_type": "execute_result",
     "data": {
      "text/plain": [
       "         NO    COMPOUND-NAME   MOLWT    TFP    TBP     TC     PC     VC  \\\n",
       "FORMULA                                                                   \n",
       "CO       46  CARBON-MONOXIDE  28.010 -205.1 -191.5  132.9   35.0  0.093   \n",
       "CO2      48   CARBON-DIOXIDE  44.010  -56.6  -78.5  304.2   73.8  0.094   \n",
       "CH4      64          METHANE  16.043 -182.5 -161.5  190.6   46.0  0.099   \n",
       "C2H4     92         ETHYLENE  28.054 -169.2 -103.8  282.4   50.4  0.129   \n",
       "CH4O     65         METHANOL  32.042  -97.7   64.6  512.6   81.0  0.118   \n",
       "H2O      20            WATER  18.015    0.0  100.0  647.3  220.5  0.056   \n",
       "O2       34           OXYGEN  31.999 -218.8 -183.0  154.6   50.5  0.073   \n",
       "H2       19         HYDROGEN   2.016 -259.2 -252.8   33.2   13.0  0.065   \n",
       "N2       31         NITROGEN  28.013 -209.9 -195.8  126.2   33.9  0.090   \n",
       "\n",
       "           LDEN   TDEN  ...  CPVAPA    CPVAPB    CPVAPC        CPVAPD  \\\n",
       "FORMULA                 ...                                             \n",
       "CO        803.0 -192.0  ...  30.869 -0.012850  0.000028 -1.272000e-08   \n",
       "CO2       777.0   20.0  ...  19.795  0.073436 -0.000056  1.715300e-08   \n",
       "CH4       425.0 -161.0  ...  19.251  0.052126  0.000012 -1.132000e-08   \n",
       "C2H4      577.0 -110.0  ...   3.806  0.156590 -0.000083  1.755100e-08   \n",
       "CH4O      791.0   20.0  ...  21.152  0.070924  0.000026 -2.852000e-08   \n",
       "H2O       998.0   20.0  ...  32.243  0.001924  0.000011 -3.596000e-09   \n",
       "O2       1149.0 -183.0  ...  28.106 -0.000004  0.000017 -1.065000e-08   \n",
       "H2         71.0 -253.0  ...  27.143  0.009274 -0.000014  7.645100e-09   \n",
       "N2        805.0 -195.0  ...  31.150 -0.013570  0.000027 -1.168000e-08   \n",
       "\n",
       "            ANTA     ANTB   ANTC    TMN    TMX  NO.3  \n",
       "FORMULA                                               \n",
       "CO       14.3686   530.22 -13.15 -210.0 -165.0  46.0  \n",
       "CO2      22.5898  3103.39  -0.16 -119.0  -69.0  48.0  \n",
       "CH4      15.2243   597.84  -7.16 -180.0 -153.0  64.0  \n",
       "C2H4     15.5368  1347.01 -18.15 -153.0  -91.0  92.0  \n",
       "CH4O     18.5875  3626.55 -34.29  -16.0   91.0  65.0  \n",
       "H2O      18.3036  3816.44 -46.13   11.0  168.0  20.0  \n",
       "O2       15.4075   734.55  -6.45 -210.0 -173.0  34.0  \n",
       "H2       13.6333   164.90   3.19 -259.0 -248.0  19.0  \n",
       "N2       14.9542   588.72  -6.60 -219.0 -183.0  31.0  \n",
       "\n",
       "[9 rows x 29 columns]"
      ],
      "text/html": "<div>\n<style scoped>\n    .dataframe tbody tr th:only-of-type {\n        vertical-align: middle;\n    }\n\n    .dataframe tbody tr th {\n        vertical-align: top;\n    }\n\n    .dataframe thead th {\n        text-align: right;\n    }\n</style>\n<table border=\"1\" class=\"dataframe\">\n  <thead>\n    <tr style=\"text-align: right;\">\n      <th></th>\n      <th>NO</th>\n      <th>COMPOUND-NAME</th>\n      <th>MOLWT</th>\n      <th>TFP</th>\n      <th>TBP</th>\n      <th>TC</th>\n      <th>PC</th>\n      <th>VC</th>\n      <th>LDEN</th>\n      <th>TDEN</th>\n      <th>...</th>\n      <th>CPVAPA</th>\n      <th>CPVAPB</th>\n      <th>CPVAPC</th>\n      <th>CPVAPD</th>\n      <th>ANTA</th>\n      <th>ANTB</th>\n      <th>ANTC</th>\n      <th>TMN</th>\n      <th>TMX</th>\n      <th>NO.3</th>\n    </tr>\n    <tr>\n      <th>FORMULA</th>\n      <th></th>\n      <th></th>\n      <th></th>\n      <th></th>\n      <th></th>\n      <th></th>\n      <th></th>\n      <th></th>\n      <th></th>\n      <th></th>\n      <th></th>\n      <th></th>\n      <th></th>\n      <th></th>\n      <th></th>\n      <th></th>\n      <th></th>\n      <th></th>\n      <th></th>\n      <th></th>\n      <th></th>\n    </tr>\n  </thead>\n  <tbody>\n    <tr>\n      <th>CO</th>\n      <td>46</td>\n      <td>CARBON-MONOXIDE</td>\n      <td>28.010</td>\n      <td>-205.1</td>\n      <td>-191.5</td>\n      <td>132.9</td>\n      <td>35.0</td>\n      <td>0.093</td>\n      <td>803.0</td>\n      <td>-192.0</td>\n      <td>...</td>\n      <td>30.869</td>\n      <td>-0.012850</td>\n      <td>0.000028</td>\n      <td>-1.272000e-08</td>\n      <td>14.3686</td>\n      <td>530.22</td>\n      <td>-13.15</td>\n      <td>-210.0</td>\n      <td>-165.0</td>\n      <td>46.0</td>\n    </tr>\n    <tr>\n      <th>CO2</th>\n      <td>48</td>\n      <td>CARBON-DIOXIDE</td>\n      <td>44.010</td>\n      <td>-56.6</td>\n      <td>-78.5</td>\n      <td>304.2</td>\n      <td>73.8</td>\n      <td>0.094</td>\n      <td>777.0</td>\n      <td>20.0</td>\n      <td>...</td>\n      <td>19.795</td>\n      <td>0.073436</td>\n      <td>-0.000056</td>\n      <td>1.715300e-08</td>\n      <td>22.5898</td>\n      <td>3103.39</td>\n      <td>-0.16</td>\n      <td>-119.0</td>\n      <td>-69.0</td>\n      <td>48.0</td>\n    </tr>\n    <tr>\n      <th>CH4</th>\n      <td>64</td>\n      <td>METHANE</td>\n      <td>16.043</td>\n      <td>-182.5</td>\n      <td>-161.5</td>\n      <td>190.6</td>\n      <td>46.0</td>\n      <td>0.099</td>\n      <td>425.0</td>\n      <td>-161.0</td>\n      <td>...</td>\n      <td>19.251</td>\n      <td>0.052126</td>\n      <td>0.000012</td>\n      <td>-1.132000e-08</td>\n      <td>15.2243</td>\n      <td>597.84</td>\n      <td>-7.16</td>\n      <td>-180.0</td>\n      <td>-153.0</td>\n      <td>64.0</td>\n    </tr>\n    <tr>\n      <th>C2H4</th>\n      <td>92</td>\n      <td>ETHYLENE</td>\n      <td>28.054</td>\n      <td>-169.2</td>\n      <td>-103.8</td>\n      <td>282.4</td>\n      <td>50.4</td>\n      <td>0.129</td>\n      <td>577.0</td>\n      <td>-110.0</td>\n      <td>...</td>\n      <td>3.806</td>\n      <td>0.156590</td>\n      <td>-0.000083</td>\n      <td>1.755100e-08</td>\n      <td>15.5368</td>\n      <td>1347.01</td>\n      <td>-18.15</td>\n      <td>-153.0</td>\n      <td>-91.0</td>\n      <td>92.0</td>\n    </tr>\n    <tr>\n      <th>CH4O</th>\n      <td>65</td>\n      <td>METHANOL</td>\n      <td>32.042</td>\n      <td>-97.7</td>\n      <td>64.6</td>\n      <td>512.6</td>\n      <td>81.0</td>\n      <td>0.118</td>\n      <td>791.0</td>\n      <td>20.0</td>\n      <td>...</td>\n      <td>21.152</td>\n      <td>0.070924</td>\n      <td>0.000026</td>\n      <td>-2.852000e-08</td>\n      <td>18.5875</td>\n      <td>3626.55</td>\n      <td>-34.29</td>\n      <td>-16.0</td>\n      <td>91.0</td>\n      <td>65.0</td>\n    </tr>\n    <tr>\n      <th>H2O</th>\n      <td>20</td>\n      <td>WATER</td>\n      <td>18.015</td>\n      <td>0.0</td>\n      <td>100.0</td>\n      <td>647.3</td>\n      <td>220.5</td>\n      <td>0.056</td>\n      <td>998.0</td>\n      <td>20.0</td>\n      <td>...</td>\n      <td>32.243</td>\n      <td>0.001924</td>\n      <td>0.000011</td>\n      <td>-3.596000e-09</td>\n      <td>18.3036</td>\n      <td>3816.44</td>\n      <td>-46.13</td>\n      <td>11.0</td>\n      <td>168.0</td>\n      <td>20.0</td>\n    </tr>\n    <tr>\n      <th>O2</th>\n      <td>34</td>\n      <td>OXYGEN</td>\n      <td>31.999</td>\n      <td>-218.8</td>\n      <td>-183.0</td>\n      <td>154.6</td>\n      <td>50.5</td>\n      <td>0.073</td>\n      <td>1149.0</td>\n      <td>-183.0</td>\n      <td>...</td>\n      <td>28.106</td>\n      <td>-0.000004</td>\n      <td>0.000017</td>\n      <td>-1.065000e-08</td>\n      <td>15.4075</td>\n      <td>734.55</td>\n      <td>-6.45</td>\n      <td>-210.0</td>\n      <td>-173.0</td>\n      <td>34.0</td>\n    </tr>\n    <tr>\n      <th>H2</th>\n      <td>19</td>\n      <td>HYDROGEN</td>\n      <td>2.016</td>\n      <td>-259.2</td>\n      <td>-252.8</td>\n      <td>33.2</td>\n      <td>13.0</td>\n      <td>0.065</td>\n      <td>71.0</td>\n      <td>-253.0</td>\n      <td>...</td>\n      <td>27.143</td>\n      <td>0.009274</td>\n      <td>-0.000014</td>\n      <td>7.645100e-09</td>\n      <td>13.6333</td>\n      <td>164.90</td>\n      <td>3.19</td>\n      <td>-259.0</td>\n      <td>-248.0</td>\n      <td>19.0</td>\n    </tr>\n    <tr>\n      <th>N2</th>\n      <td>31</td>\n      <td>NITROGEN</td>\n      <td>28.013</td>\n      <td>-209.9</td>\n      <td>-195.8</td>\n      <td>126.2</td>\n      <td>33.9</td>\n      <td>0.090</td>\n      <td>805.0</td>\n      <td>-195.0</td>\n      <td>...</td>\n      <td>31.150</td>\n      <td>-0.013570</td>\n      <td>0.000027</td>\n      <td>-1.168000e-08</td>\n      <td>14.9542</td>\n      <td>588.72</td>\n      <td>-6.60</td>\n      <td>-219.0</td>\n      <td>-183.0</td>\n      <td>31.0</td>\n    </tr>\n  </tbody>\n</table>\n<p>9 rows × 29 columns</p>\n</div>"
     },
     "metadata": {},
     "execution_count": 48
    }
   ],
   "source": [
    "dfw"
   ]
  },
  {
   "cell_type": "code",
   "execution_count": 50,
   "metadata": {},
   "outputs": [
    {
     "output_type": "execute_result",
     "data": {
      "text/plain": [
       "FORMULA\n",
       "CO2   -394.65\n",
       "CO    -137.37\n",
       "H2       0.00\n",
       "CH4    -50.87\n",
       "H2O   -228.77\n",
       "N2       0.00\n",
       "O2       0.00\n",
       "Name: DELGF, dtype: float64"
      ]
     },
     "metadata": {},
     "execution_count": 50
    }
   ],
   "source": [
    "dfGF = dfw.loc[['CO2','CO','H2','CH4','H2O','N2','O2'],'DELGF']\r\n",
    "dfGF\r\n"
   ]
  },
  {
   "cell_type": "code",
   "execution_count": 53,
   "metadata": {},
   "outputs": [],
   "source": [
    "[gfCO2, gfCO, gfH2, gfCH4, gfH2O, gfN2, gfO2] = list(dfGF)\r\n",
    "gfC = 0.0"
   ]
  },
  {
   "cell_type": "code",
   "execution_count": 109,
   "metadata": {},
   "outputs": [],
   "source": [
    "import numpy as np\n",
    "import math\n",
    "\n",
    "def gibbs(h, a,b,c,d,e,f,g, T):\n",
    "    return (h - a*T*math.log(T)-b*T**2-(c/2)*T**3-(d/3)*T**4+(e/2/T)+f+g*T) #kJ/mol\n",
    "\n",
    "def hf(h, a,b,c,d,e,f, T):\n",
    "    return (h - a*T+b*T**2 -c*T**3-d*T**4+(e/T)+f) #kJ/mol\n",
    "\n",
    "def ke(G, T, R):\n",
    "    return math.exp(-G/R/T)\n",
    "\n",
    "\n",
    "def computeGibbs(G,n):\n",
    "    sum = 0\n",
    "    for i,v in enumerate(G):\n",
    "        sum += G[i]*n[i]\n",
    "    \n",
    "    return sum\n",
    "\n",
    "def equilb_const(G, R, T):\n",
    "    return math.exp(-G/R/T)"
   ]
  },
  {
   "cell_type": "code",
   "execution_count": 115,
   "metadata": {},
   "outputs": [
    {
     "output_type": "execute_result",
     "data": {
      "text/plain": [
       "(119.90999999999997, 91.4, -50.87, -28.50999999999999, 257.28)"
      ]
     },
     "metadata": {},
     "execution_count": 115
    }
   ],
   "source": [
    "# R1: CO2 + C -> 2CO\n",
    "gfR1 = computeGibbs([gfCO2, gfC, gfCO], [-1, -1, 2])\n",
    "# R2: C + H2O -> H2 + CO\n",
    "gfR2 = computeGibbs([gfC, gfH2O, gfH2, gfCO], [-1, -1, 1, 1])\n",
    "# R3: C + 2H2 -> CH4\n",
    "gfR3 = computeGibbs([gfC, gfH2, gfCH4], [-1, -2, 1])\n",
    "# R4: CO + H2O -> CO2 + H2\n",
    "gfR4 = computeGibbs([gfCO, gfH2O, gfCO2, gfH2], [-1, -1, 1, 1])\n",
    "# R5: CO2 -> CO + 1/2 O2\n",
    "gfR5 = computeGibbs([gfCO2, gfCO, gfO2], [-1, 1, 0.5])\n",
    "\n",
    "(gfR1, gfR2, gfR3, gfR4, gfR5)\n"
   ]
  },
  {
   "cell_type": "code",
   "execution_count": 123,
   "metadata": {},
   "outputs": [],
   "source": [
    "from scipy.optimize import fsolve\n",
    "\n",
    "def gasification(\n",
    "    # CHaObNc\n",
    "    C = 43.19,\n",
    "    H = 5.92,\n",
    "    N = 0.59,\n",
    "    O = 50.16,\n",
    "\n",
    "    # H2O\n",
    "    d = 1,\n",
    "    # air\n",
    "    e = 1,\n",
    "    # pressure\n",
    "    P = 1,\n",
    "    T = (600+273.15) #K\n",
    "    ):\n",
    "\n",
    "    R = 8.3145 #J/mol K\n",
    "    # T = 10 + 273.15 #K\n",
    "\n",
    "    Ke1 = equilb_const(gfR1*1000, R, T)\n",
    "    Ke2 = equilb_const(gfR2*1000, R, T)\n",
    "    Ke3 = equilb_const(gfR3*1000, R, T)\n",
    "    Ke4 = equilb_const(gfR4*1000, R, T)\n",
    "    Ke5 = equilb_const(gfR5*1000, R, T)\n",
    "\n",
    "\n",
    "    a = H/C\n",
    "    b = O/C\n",
    "    c = N/C\n",
    "    def func(x):\n",
    "        return [\n",
    "            x[0]+x[2]+x[4]+x[5]-1,\n",
    "            2.0*x[1]+2.0*x[3]+4.0*x[5]-a-2*d,\n",
    "            x[2]+x[3]+2*x[4]-b-d-2*e,\n",
    "            x[6]-c-7.52*e,\n",
    "            x[1]+x[2]+x[3]+x[4]+x[5]+x[6]-x[7],\n",
    "            x[4]*x[7]*Ke1 - (x[2]**2)*P,\n",
    "            x[3]*x[7]*Ke2 - x[1]*x[2]*P,\n",
    "            (x[3]**2)*Ke3*P - x[5]*x[7],\n",
    "        ]\n",
    "\n",
    "    root = fsolve(func, [1,1,1,1,1,1,1,1])\n",
    "\n",
    "    (C,H2,CO,H2O,CO2,CH4,N2,nT) = tuple(root)\n",
    "\n",
    "    return {'C':abs(C),'H2':H2,'CO':CO,'H2O':H2O,'CO2':CO2,'CH4':CH4,'N2':N2}"
   ]
  },
  {
   "cell_type": "code",
   "execution_count": 232,
   "metadata": {},
   "outputs": [
    {
     "output_type": "stream",
     "name": "stderr",
     "text": [
      "C:\\sdk\\Python38\\lib\\site-packages\\scipy\\optimize\\minpack.py:175: RuntimeWarning: The iteration is not making good progress, as measured by the \n",
      "  improvement from the last ten iterations.\n",
      "  warnings.warn(msg, RuntimeWarning)\n",
      "C:\\sdk\\Python38\\lib\\site-packages\\scipy\\optimize\\minpack.py:175: RuntimeWarning: The iteration is not making good progress, as measured by the \n",
      "  improvement from the last five Jacobian evaluations.\n",
      "  warnings.warn(msg, RuntimeWarning)\n"
     ]
    },
    {
     "output_type": "execute_result",
     "data": {
      "text/plain": [
       "             C            H2            CO       H2O       CO2       CH4  \\\n",
       "0     0.385083  9.148659e-09  9.149488e-09  0.000040  0.580670  0.034247   \n",
       "1     0.614803  1.386725e-07  1.387001e-07  0.000154  1.580613  0.034190   \n",
       "2     1.614743  3.688639e-07  3.678580e-07  0.000214  2.580583  0.034160   \n",
       "3     0.614701  1.335334e-08  1.331546e-08  0.000257  1.080562  0.534139   \n",
       "4     1.614317  4.303144e-08  4.237182e-08  0.000641  2.080370  0.533947   \n",
       "...        ...           ...           ...       ...       ...       ...   \n",
       "5395  1.377184  5.613859e-02  9.251245e-02  0.255960  1.906454  0.378218   \n",
       "5396  2.326788  7.917659e-02  1.531022e-01  0.325132  2.841573  0.332113   \n",
       "5397  1.418915  2.606314e-02  4.128937e-02  0.203655  1.458218  0.919408   \n",
       "5398  2.237983  8.111915e-02  1.073005e-01  0.390065  2.332007  0.798675   \n",
       "5399  3.146469  1.156950e-01  1.681281e-01  0.494705  3.249274  0.729067   \n",
       "\n",
       "             N2       T  P  Steam  Air  \n",
       "0      0.013661   100.0  1      0    0  \n",
       "1      7.533661   100.0  1      0    1  \n",
       "2     15.053661   100.0  1      0    2  \n",
       "3      0.013661   100.0  1      1    0  \n",
       "4      7.533661   100.0  1      1    1  \n",
       "...         ...     ... ..    ...  ...  \n",
       "5395   7.533661  2000.0  4      1    1  \n",
       "5396  15.053661  2000.0  4      1    2  \n",
       "5397   0.013661  2000.0  4      2    0  \n",
       "5398   7.533661  2000.0  4      2    1  \n",
       "5399  15.053661  2000.0  4      2    2  \n",
       "\n",
       "[5400 rows x 11 columns]"
      ],
      "text/html": "<div>\n<style scoped>\n    .dataframe tbody tr th:only-of-type {\n        vertical-align: middle;\n    }\n\n    .dataframe tbody tr th {\n        vertical-align: top;\n    }\n\n    .dataframe thead th {\n        text-align: right;\n    }\n</style>\n<table border=\"1\" class=\"dataframe\">\n  <thead>\n    <tr style=\"text-align: right;\">\n      <th></th>\n      <th>C</th>\n      <th>H2</th>\n      <th>CO</th>\n      <th>H2O</th>\n      <th>CO2</th>\n      <th>CH4</th>\n      <th>N2</th>\n      <th>T</th>\n      <th>P</th>\n      <th>Steam</th>\n      <th>Air</th>\n    </tr>\n  </thead>\n  <tbody>\n    <tr>\n      <th>0</th>\n      <td>0.385083</td>\n      <td>9.148659e-09</td>\n      <td>9.149488e-09</td>\n      <td>0.000040</td>\n      <td>0.580670</td>\n      <td>0.034247</td>\n      <td>0.013661</td>\n      <td>100.0</td>\n      <td>1</td>\n      <td>0</td>\n      <td>0</td>\n    </tr>\n    <tr>\n      <th>1</th>\n      <td>0.614803</td>\n      <td>1.386725e-07</td>\n      <td>1.387001e-07</td>\n      <td>0.000154</td>\n      <td>1.580613</td>\n      <td>0.034190</td>\n      <td>7.533661</td>\n      <td>100.0</td>\n      <td>1</td>\n      <td>0</td>\n      <td>1</td>\n    </tr>\n    <tr>\n      <th>2</th>\n      <td>1.614743</td>\n      <td>3.688639e-07</td>\n      <td>3.678580e-07</td>\n      <td>0.000214</td>\n      <td>2.580583</td>\n      <td>0.034160</td>\n      <td>15.053661</td>\n      <td>100.0</td>\n      <td>1</td>\n      <td>0</td>\n      <td>2</td>\n    </tr>\n    <tr>\n      <th>3</th>\n      <td>0.614701</td>\n      <td>1.335334e-08</td>\n      <td>1.331546e-08</td>\n      <td>0.000257</td>\n      <td>1.080562</td>\n      <td>0.534139</td>\n      <td>0.013661</td>\n      <td>100.0</td>\n      <td>1</td>\n      <td>1</td>\n      <td>0</td>\n    </tr>\n    <tr>\n      <th>4</th>\n      <td>1.614317</td>\n      <td>4.303144e-08</td>\n      <td>4.237182e-08</td>\n      <td>0.000641</td>\n      <td>2.080370</td>\n      <td>0.533947</td>\n      <td>7.533661</td>\n      <td>100.0</td>\n      <td>1</td>\n      <td>1</td>\n      <td>1</td>\n    </tr>\n    <tr>\n      <th>...</th>\n      <td>...</td>\n      <td>...</td>\n      <td>...</td>\n      <td>...</td>\n      <td>...</td>\n      <td>...</td>\n      <td>...</td>\n      <td>...</td>\n      <td>...</td>\n      <td>...</td>\n      <td>...</td>\n    </tr>\n    <tr>\n      <th>5395</th>\n      <td>1.377184</td>\n      <td>5.613859e-02</td>\n      <td>9.251245e-02</td>\n      <td>0.255960</td>\n      <td>1.906454</td>\n      <td>0.378218</td>\n      <td>7.533661</td>\n      <td>2000.0</td>\n      <td>4</td>\n      <td>1</td>\n      <td>1</td>\n    </tr>\n    <tr>\n      <th>5396</th>\n      <td>2.326788</td>\n      <td>7.917659e-02</td>\n      <td>1.531022e-01</td>\n      <td>0.325132</td>\n      <td>2.841573</td>\n      <td>0.332113</td>\n      <td>15.053661</td>\n      <td>2000.0</td>\n      <td>4</td>\n      <td>1</td>\n      <td>2</td>\n    </tr>\n    <tr>\n      <th>5397</th>\n      <td>1.418915</td>\n      <td>2.606314e-02</td>\n      <td>4.128937e-02</td>\n      <td>0.203655</td>\n      <td>1.458218</td>\n      <td>0.919408</td>\n      <td>0.013661</td>\n      <td>2000.0</td>\n      <td>4</td>\n      <td>2</td>\n      <td>0</td>\n    </tr>\n    <tr>\n      <th>5398</th>\n      <td>2.237983</td>\n      <td>8.111915e-02</td>\n      <td>1.073005e-01</td>\n      <td>0.390065</td>\n      <td>2.332007</td>\n      <td>0.798675</td>\n      <td>7.533661</td>\n      <td>2000.0</td>\n      <td>4</td>\n      <td>2</td>\n      <td>1</td>\n    </tr>\n    <tr>\n      <th>5399</th>\n      <td>3.146469</td>\n      <td>1.156950e-01</td>\n      <td>1.681281e-01</td>\n      <td>0.494705</td>\n      <td>3.249274</td>\n      <td>0.729067</td>\n      <td>15.053661</td>\n      <td>2000.0</td>\n      <td>4</td>\n      <td>2</td>\n      <td>2</td>\n    </tr>\n  </tbody>\n</table>\n<p>5400 rows × 11 columns</p>\n</div>"
     },
     "metadata": {},
     "execution_count": 232
    }
   ],
   "source": [
    "import pandas as pd \n",
    "import numpy as np\n",
    "\n",
    "Temp=np.linspace(100,2000,150)\n",
    "Press=[1,2,3,4]\n",
    "Steam=[0,1,2]\n",
    "Air=[0,1,2]\n",
    "\n",
    "rlt=[]\n",
    "\n",
    "for T in Temp:\n",
    "    for P in Press:\n",
    "        for d in Steam:\n",
    "            for e in Air:        \n",
    "                data = gasification(T=T+273.15, P=P, d=d, e=e)\n",
    "                data['T']=T\n",
    "                data['P']=P\n",
    "                data['Steam']=d\n",
    "                data['Air']=e\n",
    "                \n",
    "                rlt.append(data)\n",
    "\n",
    "\n",
    "dfR = pd.DataFrame(rlt)\n",
    "\n",
    "dfR"
   ]
  },
  {
   "cell_type": "code",
   "execution_count": 233,
   "metadata": {},
   "outputs": [
    {
     "output_type": "execute_result",
     "data": {
      "text/plain": [
       "              T            H2\n",
       "6    100.000000  2.771594e-08\n",
       "42   112.751678  5.144802e-08\n",
       "78   125.503356  9.114478e-08\n",
       "114  138.255034  1.557899e-07\n",
       "150  151.006711  2.592032e-07"
      ],
      "text/html": "<div>\n<style scoped>\n    .dataframe tbody tr th:only-of-type {\n        vertical-align: middle;\n    }\n\n    .dataframe tbody tr th {\n        vertical-align: top;\n    }\n\n    .dataframe thead th {\n        text-align: right;\n    }\n</style>\n<table border=\"1\" class=\"dataframe\">\n  <thead>\n    <tr style=\"text-align: right;\">\n      <th></th>\n      <th>T</th>\n      <th>H2</th>\n    </tr>\n  </thead>\n  <tbody>\n    <tr>\n      <th>6</th>\n      <td>100.000000</td>\n      <td>2.771594e-08</td>\n    </tr>\n    <tr>\n      <th>42</th>\n      <td>112.751678</td>\n      <td>5.144802e-08</td>\n    </tr>\n    <tr>\n      <th>78</th>\n      <td>125.503356</td>\n      <td>9.114478e-08</td>\n    </tr>\n    <tr>\n      <th>114</th>\n      <td>138.255034</td>\n      <td>1.557899e-07</td>\n    </tr>\n    <tr>\n      <th>150</th>\n      <td>151.006711</td>\n      <td>2.592032e-07</td>\n    </tr>\n  </tbody>\n</table>\n</div>"
     },
     "metadata": {},
     "execution_count": 233
    }
   ],
   "source": [
    "dfQ = dfR[(dfR['P']==1) & (dfR['Steam']==2) & (dfR['Air']==0)]\n",
    "dfQ[['T','H2']].head()"
   ]
  },
  {
   "cell_type": "code",
   "execution_count": 234,
   "metadata": {},
   "outputs": [
    {
     "output_type": "execute_result",
     "data": {
      "text/plain": [
       "            C            H2            CO       H2O       CO2       CH4  \\\n",
       "6    1.614503  2.771594e-08  2.762575e-08  0.000454  1.580463  1.034040   \n",
       "42   1.614362  5.144802e-08  5.122317e-08  0.000595  1.580393  1.033970   \n",
       "78   1.614191  9.114478e-08  9.107535e-08  0.000766  1.580307  1.033884   \n",
       "114  1.613985  1.557899e-07  1.553763e-07  0.000972  1.580204  1.033781   \n",
       "150  1.613741  2.592032e-07  2.588763e-07  0.001216  1.580082  1.033659   \n",
       "\n",
       "           N2           T  P  Steam  Air  \n",
       "6    0.013661  100.000000  1      2    0  \n",
       "42   0.013661  112.751678  1      2    0  \n",
       "78   0.013661  125.503356  1      2    0  \n",
       "114  0.013661  138.255034  1      2    0  \n",
       "150  0.013661  151.006711  1      2    0  "
      ],
      "text/html": "<div>\n<style scoped>\n    .dataframe tbody tr th:only-of-type {\n        vertical-align: middle;\n    }\n\n    .dataframe tbody tr th {\n        vertical-align: top;\n    }\n\n    .dataframe thead th {\n        text-align: right;\n    }\n</style>\n<table border=\"1\" class=\"dataframe\">\n  <thead>\n    <tr style=\"text-align: right;\">\n      <th></th>\n      <th>C</th>\n      <th>H2</th>\n      <th>CO</th>\n      <th>H2O</th>\n      <th>CO2</th>\n      <th>CH4</th>\n      <th>N2</th>\n      <th>T</th>\n      <th>P</th>\n      <th>Steam</th>\n      <th>Air</th>\n    </tr>\n  </thead>\n  <tbody>\n    <tr>\n      <th>6</th>\n      <td>1.614503</td>\n      <td>2.771594e-08</td>\n      <td>2.762575e-08</td>\n      <td>0.000454</td>\n      <td>1.580463</td>\n      <td>1.034040</td>\n      <td>0.013661</td>\n      <td>100.000000</td>\n      <td>1</td>\n      <td>2</td>\n      <td>0</td>\n    </tr>\n    <tr>\n      <th>42</th>\n      <td>1.614362</td>\n      <td>5.144802e-08</td>\n      <td>5.122317e-08</td>\n      <td>0.000595</td>\n      <td>1.580393</td>\n      <td>1.033970</td>\n      <td>0.013661</td>\n      <td>112.751678</td>\n      <td>1</td>\n      <td>2</td>\n      <td>0</td>\n    </tr>\n    <tr>\n      <th>78</th>\n      <td>1.614191</td>\n      <td>9.114478e-08</td>\n      <td>9.107535e-08</td>\n      <td>0.000766</td>\n      <td>1.580307</td>\n      <td>1.033884</td>\n      <td>0.013661</td>\n      <td>125.503356</td>\n      <td>1</td>\n      <td>2</td>\n      <td>0</td>\n    </tr>\n    <tr>\n      <th>114</th>\n      <td>1.613985</td>\n      <td>1.557899e-07</td>\n      <td>1.553763e-07</td>\n      <td>0.000972</td>\n      <td>1.580204</td>\n      <td>1.033781</td>\n      <td>0.013661</td>\n      <td>138.255034</td>\n      <td>1</td>\n      <td>2</td>\n      <td>0</td>\n    </tr>\n    <tr>\n      <th>150</th>\n      <td>1.613741</td>\n      <td>2.592032e-07</td>\n      <td>2.588763e-07</td>\n      <td>0.001216</td>\n      <td>1.580082</td>\n      <td>1.033659</td>\n      <td>0.013661</td>\n      <td>151.006711</td>\n      <td>1</td>\n      <td>2</td>\n      <td>0</td>\n    </tr>\n  </tbody>\n</table>\n</div>"
     },
     "metadata": {},
     "execution_count": 234
    }
   ],
   "source": [
    "dfQ.head()"
   ]
  },
  {
   "cell_type": "code",
   "execution_count": 250,
   "metadata": {},
   "outputs": [
    {
     "output_type": "execute_result",
     "data": {
      "text/plain": [
       "Empty DataFrame\n",
       "Columns: [C, H2, CO, H2O, CO2, CH4, N2, T, P, Steam, Air]\n",
       "Index: []"
      ],
      "text/html": "<div>\n<style scoped>\n    .dataframe tbody tr th:only-of-type {\n        vertical-align: middle;\n    }\n\n    .dataframe tbody tr th {\n        vertical-align: top;\n    }\n\n    .dataframe thead th {\n        text-align: right;\n    }\n</style>\n<table border=\"1\" class=\"dataframe\">\n  <thead>\n    <tr style=\"text-align: right;\">\n      <th></th>\n      <th>C</th>\n      <th>H2</th>\n      <th>CO</th>\n      <th>H2O</th>\n      <th>CO2</th>\n      <th>CH4</th>\n      <th>N2</th>\n      <th>T</th>\n      <th>P</th>\n      <th>Steam</th>\n      <th>Air</th>\n    </tr>\n  </thead>\n  <tbody>\n  </tbody>\n</table>\n</div>"
     },
     "metadata": {},
     "execution_count": 250
    }
   ],
   "source": [
    "dfDrop =dfQ.loc[(dfQ['H2'] < 0) | (dfQ['CO'] < 0) | (dfQ['CO2'] < 0) | (dfQ['CH4'] < 0)]\n",
    "dfQ = dfQ.drop(list(dfDrop.index))\n",
    "dfQ.loc[(dfQ['H2'] < 0) | (dfQ['CO'] < 0) | (dfQ['CO2'] < 0) | (dfQ['CH4'] < 0)]"
   ]
  },
  {
   "cell_type": "code",
   "execution_count": 251,
   "metadata": {},
   "outputs": [
    {
     "output_type": "display_data",
     "data": {
      "text/plain": "<Figure size 432x288 with 1 Axes>",
      "image/svg+xml": "<?xml version=\"1.0\" encoding=\"utf-8\" standalone=\"no\"?>\r\n<!DOCTYPE svg PUBLIC \"-//W3C//DTD SVG 1.1//EN\"\r\n  \"http://www.w3.org/Graphics/SVG/1.1/DTD/svg11.dtd\">\r\n<svg height=\"248.518125pt\" version=\"1.1\" viewBox=\"0 0 378.465625 248.518125\" width=\"378.465625pt\" xmlns=\"http://www.w3.org/2000/svg\" xmlns:xlink=\"http://www.w3.org/1999/xlink\">\r\n <metadata>\r\n  <rdf:RDF xmlns:cc=\"http://creativecommons.org/ns#\" xmlns:dc=\"http://purl.org/dc/elements/1.1/\" xmlns:rdf=\"http://www.w3.org/1999/02/22-rdf-syntax-ns#\">\r\n   <cc:Work>\r\n    <dc:type rdf:resource=\"http://purl.org/dc/dcmitype/StillImage\"/>\r\n    <dc:date>2021-07-06T20:46:44.935805</dc:date>\r\n    <dc:format>image/svg+xml</dc:format>\r\n    <dc:creator>\r\n     <cc:Agent>\r\n      <dc:title>Matplotlib v3.4.2, https://matplotlib.org/</dc:title>\r\n     </cc:Agent>\r\n    </dc:creator>\r\n   </cc:Work>\r\n  </rdf:RDF>\r\n </metadata>\r\n <defs>\r\n  <style type=\"text/css\">*{stroke-linecap:butt;stroke-linejoin:round;}</style>\r\n </defs>\r\n <g id=\"figure_1\">\r\n  <g id=\"patch_1\">\r\n   <path d=\"M 0 248.518125 \r\nL 378.465625 248.518125 \r\nL 378.465625 0 \r\nL 0 0 \r\nz\r\n\" style=\"fill:none;\"/>\r\n  </g>\r\n  <g id=\"axes_1\">\r\n   <g id=\"patch_2\">\r\n    <path d=\"M 36.465625 224.64 \r\nL 371.265625 224.64 \r\nL 371.265625 7.2 \r\nL 36.465625 7.2 \r\nz\r\n\" style=\"fill:#ffffff;\"/>\r\n   </g>\r\n   <g id=\"matplotlib.axis_1\">\r\n    <g id=\"xtick_1\">\r\n     <g id=\"line2d_1\">\r\n      <defs>\r\n       <path d=\"M 0 0 \r\nL 0 3.5 \r\n\" id=\"m3d68000100\" style=\"stroke:#000000;stroke-width:0.8;\"/>\r\n      </defs>\r\n      <g>\r\n       <use style=\"stroke:#000000;stroke-width:0.8;\" x=\"75.712515\" xlink:href=\"#m3d68000100\" y=\"224.64\"/>\r\n      </g>\r\n     </g>\r\n     <g id=\"text_1\">\r\n      <!-- 250 -->\r\n      <g transform=\"translate(66.168765 239.238437)scale(0.1 -0.1)\">\r\n       <defs>\r\n        <path d=\"M 1228 531 \r\nL 3431 531 \r\nL 3431 0 \r\nL 469 0 \r\nL 469 531 \r\nQ 828 903 1448 1529 \r\nQ 2069 2156 2228 2338 \r\nQ 2531 2678 2651 2914 \r\nQ 2772 3150 2772 3378 \r\nQ 2772 3750 2511 3984 \r\nQ 2250 4219 1831 4219 \r\nQ 1534 4219 1204 4116 \r\nQ 875 4013 500 3803 \r\nL 500 4441 \r\nQ 881 4594 1212 4672 \r\nQ 1544 4750 1819 4750 \r\nQ 2544 4750 2975 4387 \r\nQ 3406 4025 3406 3419 \r\nQ 3406 3131 3298 2873 \r\nQ 3191 2616 2906 2266 \r\nQ 2828 2175 2409 1742 \r\nQ 1991 1309 1228 531 \r\nz\r\n\" id=\"DejaVuSans-32\" transform=\"scale(0.015625)\"/>\r\n        <path d=\"M 691 4666 \r\nL 3169 4666 \r\nL 3169 4134 \r\nL 1269 4134 \r\nL 1269 2991 \r\nQ 1406 3038 1543 3061 \r\nQ 1681 3084 1819 3084 \r\nQ 2600 3084 3056 2656 \r\nQ 3513 2228 3513 1497 \r\nQ 3513 744 3044 326 \r\nQ 2575 -91 1722 -91 \r\nQ 1428 -91 1123 -41 \r\nQ 819 9 494 109 \r\nL 494 744 \r\nQ 775 591 1075 516 \r\nQ 1375 441 1709 441 \r\nQ 2250 441 2565 725 \r\nQ 2881 1009 2881 1497 \r\nQ 2881 1984 2565 2268 \r\nQ 2250 2553 1709 2553 \r\nQ 1456 2553 1204 2497 \r\nQ 953 2441 691 2322 \r\nL 691 4666 \r\nz\r\n\" id=\"DejaVuSans-35\" transform=\"scale(0.015625)\"/>\r\n        <path d=\"M 2034 4250 \r\nQ 1547 4250 1301 3770 \r\nQ 1056 3291 1056 2328 \r\nQ 1056 1369 1301 889 \r\nQ 1547 409 2034 409 \r\nQ 2525 409 2770 889 \r\nQ 3016 1369 3016 2328 \r\nQ 3016 3291 2770 3770 \r\nQ 2525 4250 2034 4250 \r\nz\r\nM 2034 4750 \r\nQ 2819 4750 3233 4129 \r\nQ 3647 3509 3647 2328 \r\nQ 3647 1150 3233 529 \r\nQ 2819 -91 2034 -91 \r\nQ 1250 -91 836 529 \r\nQ 422 1150 422 2328 \r\nQ 422 3509 836 4129 \r\nQ 1250 4750 2034 4750 \r\nz\r\n\" id=\"DejaVuSans-30\" transform=\"scale(0.015625)\"/>\r\n       </defs>\r\n       <use xlink:href=\"#DejaVuSans-32\"/>\r\n       <use x=\"63.623047\" xlink:href=\"#DejaVuSans-35\"/>\r\n       <use x=\"127.246094\" xlink:href=\"#DejaVuSans-30\"/>\r\n      </g>\r\n     </g>\r\n    </g>\r\n    <g id=\"xtick_2\">\r\n     <g id=\"line2d_2\">\r\n      <g>\r\n       <use style=\"stroke:#000000;stroke-width:0.8;\" x=\"115.760362\" xlink:href=\"#m3d68000100\" y=\"224.64\"/>\r\n      </g>\r\n     </g>\r\n     <g id=\"text_2\">\r\n      <!-- 500 -->\r\n      <g transform=\"translate(106.216612 239.238437)scale(0.1 -0.1)\">\r\n       <use xlink:href=\"#DejaVuSans-35\"/>\r\n       <use x=\"63.623047\" xlink:href=\"#DejaVuSans-30\"/>\r\n       <use x=\"127.246094\" xlink:href=\"#DejaVuSans-30\"/>\r\n      </g>\r\n     </g>\r\n    </g>\r\n    <g id=\"xtick_3\">\r\n     <g id=\"line2d_3\">\r\n      <g>\r\n       <use style=\"stroke:#000000;stroke-width:0.8;\" x=\"155.808209\" xlink:href=\"#m3d68000100\" y=\"224.64\"/>\r\n      </g>\r\n     </g>\r\n     <g id=\"text_3\">\r\n      <!-- 750 -->\r\n      <g transform=\"translate(146.264459 239.238437)scale(0.1 -0.1)\">\r\n       <defs>\r\n        <path d=\"M 525 4666 \r\nL 3525 4666 \r\nL 3525 4397 \r\nL 1831 0 \r\nL 1172 0 \r\nL 2766 4134 \r\nL 525 4134 \r\nL 525 4666 \r\nz\r\n\" id=\"DejaVuSans-37\" transform=\"scale(0.015625)\"/>\r\n       </defs>\r\n       <use xlink:href=\"#DejaVuSans-37\"/>\r\n       <use x=\"63.623047\" xlink:href=\"#DejaVuSans-35\"/>\r\n       <use x=\"127.246094\" xlink:href=\"#DejaVuSans-30\"/>\r\n      </g>\r\n     </g>\r\n    </g>\r\n    <g id=\"xtick_4\">\r\n     <g id=\"line2d_4\">\r\n      <g>\r\n       <use style=\"stroke:#000000;stroke-width:0.8;\" x=\"195.856056\" xlink:href=\"#m3d68000100\" y=\"224.64\"/>\r\n      </g>\r\n     </g>\r\n     <g id=\"text_4\">\r\n      <!-- 1000 -->\r\n      <g transform=\"translate(183.131056 239.238437)scale(0.1 -0.1)\">\r\n       <defs>\r\n        <path d=\"M 794 531 \r\nL 1825 531 \r\nL 1825 4091 \r\nL 703 3866 \r\nL 703 4441 \r\nL 1819 4666 \r\nL 2450 4666 \r\nL 2450 531 \r\nL 3481 531 \r\nL 3481 0 \r\nL 794 0 \r\nL 794 531 \r\nz\r\n\" id=\"DejaVuSans-31\" transform=\"scale(0.015625)\"/>\r\n       </defs>\r\n       <use xlink:href=\"#DejaVuSans-31\"/>\r\n       <use x=\"63.623047\" xlink:href=\"#DejaVuSans-30\"/>\r\n       <use x=\"127.246094\" xlink:href=\"#DejaVuSans-30\"/>\r\n       <use x=\"190.869141\" xlink:href=\"#DejaVuSans-30\"/>\r\n      </g>\r\n     </g>\r\n    </g>\r\n    <g id=\"xtick_5\">\r\n     <g id=\"line2d_5\">\r\n      <g>\r\n       <use style=\"stroke:#000000;stroke-width:0.8;\" x=\"235.903903\" xlink:href=\"#m3d68000100\" y=\"224.64\"/>\r\n      </g>\r\n     </g>\r\n     <g id=\"text_5\">\r\n      <!-- 1250 -->\r\n      <g transform=\"translate(223.178903 239.238437)scale(0.1 -0.1)\">\r\n       <use xlink:href=\"#DejaVuSans-31\"/>\r\n       <use x=\"63.623047\" xlink:href=\"#DejaVuSans-32\"/>\r\n       <use x=\"127.246094\" xlink:href=\"#DejaVuSans-35\"/>\r\n       <use x=\"190.869141\" xlink:href=\"#DejaVuSans-30\"/>\r\n      </g>\r\n     </g>\r\n    </g>\r\n    <g id=\"xtick_6\">\r\n     <g id=\"line2d_6\">\r\n      <g>\r\n       <use style=\"stroke:#000000;stroke-width:0.8;\" x=\"275.951749\" xlink:href=\"#m3d68000100\" y=\"224.64\"/>\r\n      </g>\r\n     </g>\r\n     <g id=\"text_6\">\r\n      <!-- 1500 -->\r\n      <g transform=\"translate(263.226749 239.238437)scale(0.1 -0.1)\">\r\n       <use xlink:href=\"#DejaVuSans-31\"/>\r\n       <use x=\"63.623047\" xlink:href=\"#DejaVuSans-35\"/>\r\n       <use x=\"127.246094\" xlink:href=\"#DejaVuSans-30\"/>\r\n       <use x=\"190.869141\" xlink:href=\"#DejaVuSans-30\"/>\r\n      </g>\r\n     </g>\r\n    </g>\r\n    <g id=\"xtick_7\">\r\n     <g id=\"line2d_7\">\r\n      <g>\r\n       <use style=\"stroke:#000000;stroke-width:0.8;\" x=\"315.999596\" xlink:href=\"#m3d68000100\" y=\"224.64\"/>\r\n      </g>\r\n     </g>\r\n     <g id=\"text_7\">\r\n      <!-- 1750 -->\r\n      <g transform=\"translate(303.274596 239.238437)scale(0.1 -0.1)\">\r\n       <use xlink:href=\"#DejaVuSans-31\"/>\r\n       <use x=\"63.623047\" xlink:href=\"#DejaVuSans-37\"/>\r\n       <use x=\"127.246094\" xlink:href=\"#DejaVuSans-35\"/>\r\n       <use x=\"190.869141\" xlink:href=\"#DejaVuSans-30\"/>\r\n      </g>\r\n     </g>\r\n    </g>\r\n    <g id=\"xtick_8\">\r\n     <g id=\"line2d_8\">\r\n      <g>\r\n       <use style=\"stroke:#000000;stroke-width:0.8;\" x=\"356.047443\" xlink:href=\"#m3d68000100\" y=\"224.64\"/>\r\n      </g>\r\n     </g>\r\n     <g id=\"text_8\">\r\n      <!-- 2000 -->\r\n      <g transform=\"translate(343.322443 239.238437)scale(0.1 -0.1)\">\r\n       <use xlink:href=\"#DejaVuSans-32\"/>\r\n       <use x=\"63.623047\" xlink:href=\"#DejaVuSans-30\"/>\r\n       <use x=\"127.246094\" xlink:href=\"#DejaVuSans-30\"/>\r\n       <use x=\"190.869141\" xlink:href=\"#DejaVuSans-30\"/>\r\n      </g>\r\n     </g>\r\n    </g>\r\n   </g>\r\n   <g id=\"matplotlib.axis_2\">\r\n    <g id=\"ytick_1\">\r\n     <g id=\"line2d_9\">\r\n      <defs>\r\n       <path d=\"M 0 0 \r\nL -3.5 0 \r\n\" id=\"md42b43c25a\" style=\"stroke:#000000;stroke-width:0.8;\"/>\r\n      </defs>\r\n      <g>\r\n       <use style=\"stroke:#000000;stroke-width:0.8;\" x=\"36.465625\" xlink:href=\"#md42b43c25a\" y=\"214.756417\"/>\r\n      </g>\r\n     </g>\r\n     <g id=\"text_9\">\r\n      <!-- 0.00 -->\r\n      <g transform=\"translate(7.2 218.555636)scale(0.1 -0.1)\">\r\n       <defs>\r\n        <path d=\"M 684 794 \r\nL 1344 794 \r\nL 1344 0 \r\nL 684 0 \r\nL 684 794 \r\nz\r\n\" id=\"DejaVuSans-2e\" transform=\"scale(0.015625)\"/>\r\n       </defs>\r\n       <use xlink:href=\"#DejaVuSans-30\"/>\r\n       <use x=\"63.623047\" xlink:href=\"#DejaVuSans-2e\"/>\r\n       <use x=\"95.410156\" xlink:href=\"#DejaVuSans-30\"/>\r\n       <use x=\"159.033203\" xlink:href=\"#DejaVuSans-30\"/>\r\n      </g>\r\n     </g>\r\n    </g>\r\n    <g id=\"ytick_2\">\r\n     <g id=\"line2d_10\">\r\n      <g>\r\n       <use style=\"stroke:#000000;stroke-width:0.8;\" x=\"36.465625\" xlink:href=\"#md42b43c25a\" y=\"176.282829\"/>\r\n      </g>\r\n     </g>\r\n     <g id=\"text_10\">\r\n      <!-- 0.02 -->\r\n      <g transform=\"translate(7.2 180.082048)scale(0.1 -0.1)\">\r\n       <use xlink:href=\"#DejaVuSans-30\"/>\r\n       <use x=\"63.623047\" xlink:href=\"#DejaVuSans-2e\"/>\r\n       <use x=\"95.410156\" xlink:href=\"#DejaVuSans-30\"/>\r\n       <use x=\"159.033203\" xlink:href=\"#DejaVuSans-32\"/>\r\n      </g>\r\n     </g>\r\n    </g>\r\n    <g id=\"ytick_3\">\r\n     <g id=\"line2d_11\">\r\n      <g>\r\n       <use style=\"stroke:#000000;stroke-width:0.8;\" x=\"36.465625\" xlink:href=\"#md42b43c25a\" y=\"137.809242\"/>\r\n      </g>\r\n     </g>\r\n     <g id=\"text_11\">\r\n      <!-- 0.04 -->\r\n      <g transform=\"translate(7.2 141.60846)scale(0.1 -0.1)\">\r\n       <defs>\r\n        <path d=\"M 2419 4116 \r\nL 825 1625 \r\nL 2419 1625 \r\nL 2419 4116 \r\nz\r\nM 2253 4666 \r\nL 3047 4666 \r\nL 3047 1625 \r\nL 3713 1625 \r\nL 3713 1100 \r\nL 3047 1100 \r\nL 3047 0 \r\nL 2419 0 \r\nL 2419 1100 \r\nL 313 1100 \r\nL 313 1709 \r\nL 2253 4666 \r\nz\r\n\" id=\"DejaVuSans-34\" transform=\"scale(0.015625)\"/>\r\n       </defs>\r\n       <use xlink:href=\"#DejaVuSans-30\"/>\r\n       <use x=\"63.623047\" xlink:href=\"#DejaVuSans-2e\"/>\r\n       <use x=\"95.410156\" xlink:href=\"#DejaVuSans-30\"/>\r\n       <use x=\"159.033203\" xlink:href=\"#DejaVuSans-34\"/>\r\n      </g>\r\n     </g>\r\n    </g>\r\n    <g id=\"ytick_4\">\r\n     <g id=\"line2d_12\">\r\n      <g>\r\n       <use style=\"stroke:#000000;stroke-width:0.8;\" x=\"36.465625\" xlink:href=\"#md42b43c25a\" y=\"99.335654\"/>\r\n      </g>\r\n     </g>\r\n     <g id=\"text_12\">\r\n      <!-- 0.06 -->\r\n      <g transform=\"translate(7.2 103.134873)scale(0.1 -0.1)\">\r\n       <defs>\r\n        <path d=\"M 2113 2584 \r\nQ 1688 2584 1439 2293 \r\nQ 1191 2003 1191 1497 \r\nQ 1191 994 1439 701 \r\nQ 1688 409 2113 409 \r\nQ 2538 409 2786 701 \r\nQ 3034 994 3034 1497 \r\nQ 3034 2003 2786 2293 \r\nQ 2538 2584 2113 2584 \r\nz\r\nM 3366 4563 \r\nL 3366 3988 \r\nQ 3128 4100 2886 4159 \r\nQ 2644 4219 2406 4219 \r\nQ 1781 4219 1451 3797 \r\nQ 1122 3375 1075 2522 \r\nQ 1259 2794 1537 2939 \r\nQ 1816 3084 2150 3084 \r\nQ 2853 3084 3261 2657 \r\nQ 3669 2231 3669 1497 \r\nQ 3669 778 3244 343 \r\nQ 2819 -91 2113 -91 \r\nQ 1303 -91 875 529 \r\nQ 447 1150 447 2328 \r\nQ 447 3434 972 4092 \r\nQ 1497 4750 2381 4750 \r\nQ 2619 4750 2861 4703 \r\nQ 3103 4656 3366 4563 \r\nz\r\n\" id=\"DejaVuSans-36\" transform=\"scale(0.015625)\"/>\r\n       </defs>\r\n       <use xlink:href=\"#DejaVuSans-30\"/>\r\n       <use x=\"63.623047\" xlink:href=\"#DejaVuSans-2e\"/>\r\n       <use x=\"95.410156\" xlink:href=\"#DejaVuSans-30\"/>\r\n       <use x=\"159.033203\" xlink:href=\"#DejaVuSans-36\"/>\r\n      </g>\r\n     </g>\r\n    </g>\r\n    <g id=\"ytick_5\">\r\n     <g id=\"line2d_13\">\r\n      <g>\r\n       <use style=\"stroke:#000000;stroke-width:0.8;\" x=\"36.465625\" xlink:href=\"#md42b43c25a\" y=\"60.862066\"/>\r\n      </g>\r\n     </g>\r\n     <g id=\"text_13\">\r\n      <!-- 0.08 -->\r\n      <g transform=\"translate(7.2 64.661285)scale(0.1 -0.1)\">\r\n       <defs>\r\n        <path d=\"M 2034 2216 \r\nQ 1584 2216 1326 1975 \r\nQ 1069 1734 1069 1313 \r\nQ 1069 891 1326 650 \r\nQ 1584 409 2034 409 \r\nQ 2484 409 2743 651 \r\nQ 3003 894 3003 1313 \r\nQ 3003 1734 2745 1975 \r\nQ 2488 2216 2034 2216 \r\nz\r\nM 1403 2484 \r\nQ 997 2584 770 2862 \r\nQ 544 3141 544 3541 \r\nQ 544 4100 942 4425 \r\nQ 1341 4750 2034 4750 \r\nQ 2731 4750 3128 4425 \r\nQ 3525 4100 3525 3541 \r\nQ 3525 3141 3298 2862 \r\nQ 3072 2584 2669 2484 \r\nQ 3125 2378 3379 2068 \r\nQ 3634 1759 3634 1313 \r\nQ 3634 634 3220 271 \r\nQ 2806 -91 2034 -91 \r\nQ 1263 -91 848 271 \r\nQ 434 634 434 1313 \r\nQ 434 1759 690 2068 \r\nQ 947 2378 1403 2484 \r\nz\r\nM 1172 3481 \r\nQ 1172 3119 1398 2916 \r\nQ 1625 2713 2034 2713 \r\nQ 2441 2713 2670 2916 \r\nQ 2900 3119 2900 3481 \r\nQ 2900 3844 2670 4047 \r\nQ 2441 4250 2034 4250 \r\nQ 1625 4250 1398 4047 \r\nQ 1172 3844 1172 3481 \r\nz\r\n\" id=\"DejaVuSans-38\" transform=\"scale(0.015625)\"/>\r\n       </defs>\r\n       <use xlink:href=\"#DejaVuSans-30\"/>\r\n       <use x=\"63.623047\" xlink:href=\"#DejaVuSans-2e\"/>\r\n       <use x=\"95.410156\" xlink:href=\"#DejaVuSans-30\"/>\r\n       <use x=\"159.033203\" xlink:href=\"#DejaVuSans-38\"/>\r\n      </g>\r\n     </g>\r\n    </g>\r\n    <g id=\"ytick_6\">\r\n     <g id=\"line2d_14\">\r\n      <g>\r\n       <use style=\"stroke:#000000;stroke-width:0.8;\" x=\"36.465625\" xlink:href=\"#md42b43c25a\" y=\"22.388479\"/>\r\n      </g>\r\n     </g>\r\n     <g id=\"text_14\">\r\n      <!-- 0.10 -->\r\n      <g transform=\"translate(7.2 26.187698)scale(0.1 -0.1)\">\r\n       <use xlink:href=\"#DejaVuSans-30\"/>\r\n       <use x=\"63.623047\" xlink:href=\"#DejaVuSans-2e\"/>\r\n       <use x=\"95.410156\" xlink:href=\"#DejaVuSans-31\"/>\r\n       <use x=\"159.033203\" xlink:href=\"#DejaVuSans-30\"/>\r\n      </g>\r\n     </g>\r\n    </g>\r\n   </g>\r\n   <g id=\"line2d_15\">\r\n    <path clip-path=\"url(#pba14c44511)\" d=\"M 51.683807 214.756363 \r\nL 94.580695 214.661841 \r\nL 108.879658 214.408045 \r\nL 119.093203 214.017774 \r\nL 127.264039 213.51474 \r\nL 135.434875 212.789265 \r\nL 143.60571 211.791028 \r\nL 149.733837 210.833424 \r\nL 155.861964 209.674351 \r\nL 161.990091 208.294868 \r\nL 166.075509 207.244041 \r\nL 174.246345 204.806162 \r\nL 178.331763 203.410535 \r\nL 184.45989 201.085561 \r\nL 190.588017 198.473004 \r\nL 196.716144 195.563604 \r\nL 202.844271 192.349907 \r\nL 208.972397 188.826213 \r\nL 215.100524 184.988489 \r\nL 221.228651 180.834263 \r\nL 227.356778 176.362524 \r\nL 233.484905 171.573602 \r\nL 239.613032 166.469049 \r\nL 245.741159 161.051524 \r\nL 251.869286 155.324682 \r\nL 257.997413 149.293058 \r\nL 264.12554 142.961968 \r\nL 270.253666 136.337404 \r\nL 276.381793 129.425948 \r\nL 282.50992 122.234683 \r\nL 288.638047 114.771114 \r\nL 296.808883 104.409729 \r\nL 304.979719 93.597634 \r\nL 313.150555 82.354872 \r\nL 321.321391 70.701928 \r\nL 329.492227 58.659544 \r\nL 337.663062 46.248557 \r\nL 345.833898 33.489773 \r\nL 356.047443 17.083636 \r\nL 356.047443 17.083636 \r\n\" style=\"fill:none;stroke:#1f77b4;stroke-linecap:square;stroke-width:1.5;\"/>\r\n   </g>\r\n   <g id=\"line2d_16\">\r\n    <path clip-path=\"url(#pba14c44511)\" d=\"M 51.683807 214.756364 \r\nL 100.708822 214.660637 \r\nL 115.007785 214.428288 \r\nL 125.22133 214.084195 \r\nL 135.434875 213.513434 \r\nL 143.60571 212.842175 \r\nL 151.776546 211.936489 \r\nL 159.947382 210.756943 \r\nL 166.075509 209.670026 \r\nL 174.246345 207.923407 \r\nL 178.331763 206.913785 \r\nL 186.502599 204.604388 \r\nL 192.630726 202.606458 \r\nL 198.758853 200.370839 \r\nL 204.886979 197.890317 \r\nL 211.015106 195.159128 \r\nL 217.143233 192.172913 \r\nL 223.27136 188.928655 \r\nL 229.399487 185.424603 \r\nL 235.527614 181.660187 \r\nL 241.655741 177.635931 \r\nL 247.783868 173.353356 \r\nL 253.911995 168.814891 \r\nL 260.040122 164.023782 \r\nL 266.168249 158.983997 \r\nL 272.296375 153.700147 \r\nL 278.424502 148.1774 \r\nL 284.552629 142.421404 \r\nL 292.723465 134.394435 \r\nL 300.894301 125.978893 \r\nL 309.065137 117.19089 \r\nL 317.235973 108.04714 \r\nL 325.406809 98.56476 \r\nL 333.577645 88.761101 \r\nL 341.74848 78.653587 \r\nL 351.962025 65.618364 \r\nL 356.047443 60.28648 \r\nL 356.047443 60.28648 \r\n\" style=\"fill:none;stroke:#ff7f0e;stroke-linecap:square;stroke-width:1.5;\"/>\r\n   </g>\r\n   <g id=\"patch_3\">\r\n    <path d=\"M 36.465625 224.64 \r\nL 36.465625 7.2 \r\n\" style=\"fill:none;stroke:#000000;stroke-linecap:square;stroke-linejoin:miter;stroke-width:0.8;\"/>\r\n   </g>\r\n   <g id=\"patch_4\">\r\n    <path d=\"M 371.265625 224.64 \r\nL 371.265625 7.2 \r\n\" style=\"fill:none;stroke:#000000;stroke-linecap:square;stroke-linejoin:miter;stroke-width:0.8;\"/>\r\n   </g>\r\n   <g id=\"patch_5\">\r\n    <path d=\"M 36.465625 224.64 \r\nL 371.265625 224.64 \r\n\" style=\"fill:none;stroke:#000000;stroke-linecap:square;stroke-linejoin:miter;stroke-width:0.8;\"/>\r\n   </g>\r\n   <g id=\"patch_6\">\r\n    <path d=\"M 36.465625 7.2 \r\nL 371.265625 7.2 \r\n\" style=\"fill:none;stroke:#000000;stroke-linecap:square;stroke-linejoin:miter;stroke-width:0.8;\"/>\r\n   </g>\r\n   <g id=\"legend_1\">\r\n    <g id=\"patch_7\">\r\n     <path d=\"M 43.465625 44.55625 \r\nL 90.320312 44.55625 \r\nQ 92.320312 44.55625 92.320312 42.55625 \r\nL 92.320312 14.2 \r\nQ 92.320312 12.2 90.320312 12.2 \r\nL 43.465625 12.2 \r\nQ 41.465625 12.2 41.465625 14.2 \r\nL 41.465625 42.55625 \r\nQ 41.465625 44.55625 43.465625 44.55625 \r\nz\r\n\" style=\"fill:#ffffff;opacity:0.8;stroke:#cccccc;stroke-linejoin:miter;\"/>\r\n    </g>\r\n    <g id=\"line2d_17\">\r\n     <path d=\"M 45.465625 20.298437 \r\nL 65.465625 20.298437 \r\n\" style=\"fill:none;stroke:#1f77b4;stroke-linecap:square;stroke-width:1.5;\"/>\r\n    </g>\r\n    <g id=\"line2d_18\"/>\r\n    <g id=\"text_15\">\r\n     <!-- H2 -->\r\n     <g transform=\"translate(73.465625 23.798437)scale(0.1 -0.1)\">\r\n      <defs>\r\n       <path d=\"M 628 4666 \r\nL 1259 4666 \r\nL 1259 2753 \r\nL 3553 2753 \r\nL 3553 4666 \r\nL 4184 4666 \r\nL 4184 0 \r\nL 3553 0 \r\nL 3553 2222 \r\nL 1259 2222 \r\nL 1259 0 \r\nL 628 0 \r\nL 628 4666 \r\nz\r\n\" id=\"DejaVuSans-48\" transform=\"scale(0.015625)\"/>\r\n      </defs>\r\n      <use xlink:href=\"#DejaVuSans-48\"/>\r\n      <use x=\"75.195312\" xlink:href=\"#DejaVuSans-32\"/>\r\n     </g>\r\n    </g>\r\n    <g id=\"line2d_19\">\r\n     <path d=\"M 45.465625 34.976562 \r\nL 65.465625 34.976562 \r\n\" style=\"fill:none;stroke:#ff7f0e;stroke-linecap:square;stroke-width:1.5;\"/>\r\n    </g>\r\n    <g id=\"line2d_20\"/>\r\n    <g id=\"text_16\">\r\n     <!-- CO -->\r\n     <g transform=\"translate(73.465625 38.476562)scale(0.1 -0.1)\">\r\n      <defs>\r\n       <path d=\"M 4122 4306 \r\nL 4122 3641 \r\nQ 3803 3938 3442 4084 \r\nQ 3081 4231 2675 4231 \r\nQ 1875 4231 1450 3742 \r\nQ 1025 3253 1025 2328 \r\nQ 1025 1406 1450 917 \r\nQ 1875 428 2675 428 \r\nQ 3081 428 3442 575 \r\nQ 3803 722 4122 1019 \r\nL 4122 359 \r\nQ 3791 134 3420 21 \r\nQ 3050 -91 2638 -91 \r\nQ 1578 -91 968 557 \r\nQ 359 1206 359 2328 \r\nQ 359 3453 968 4101 \r\nQ 1578 4750 2638 4750 \r\nQ 3056 4750 3426 4639 \r\nQ 3797 4528 4122 4306 \r\nz\r\n\" id=\"DejaVuSans-43\" transform=\"scale(0.015625)\"/>\r\n       <path d=\"M 2522 4238 \r\nQ 1834 4238 1429 3725 \r\nQ 1025 3213 1025 2328 \r\nQ 1025 1447 1429 934 \r\nQ 1834 422 2522 422 \r\nQ 3209 422 3611 934 \r\nQ 4013 1447 4013 2328 \r\nQ 4013 3213 3611 3725 \r\nQ 3209 4238 2522 4238 \r\nz\r\nM 2522 4750 \r\nQ 3503 4750 4090 4092 \r\nQ 4678 3434 4678 2328 \r\nQ 4678 1225 4090 567 \r\nQ 3503 -91 2522 -91 \r\nQ 1538 -91 948 565 \r\nQ 359 1222 359 2328 \r\nQ 359 3434 948 4092 \r\nQ 1538 4750 2522 4750 \r\nz\r\n\" id=\"DejaVuSans-4f\" transform=\"scale(0.015625)\"/>\r\n      </defs>\r\n      <use xlink:href=\"#DejaVuSans-43\"/>\r\n      <use x=\"69.824219\" xlink:href=\"#DejaVuSans-4f\"/>\r\n     </g>\r\n    </g>\r\n   </g>\r\n  </g>\r\n </g>\r\n <defs>\r\n  <clipPath id=\"pba14c44511\">\r\n   <rect height=\"217.44\" width=\"334.8\" x=\"36.465625\" y=\"7.2\"/>\r\n  </clipPath>\r\n </defs>\r\n</svg>\r\n",
      "image/png": "[encoded data removed]"
     },
     "metadata": {
      "needs_background": "light"
     }
    },
    {
     "output_type": "display_data",
     "data": {
      "text/plain": "<Figure size 432x288 with 1 Axes>",
      "image/svg+xml": "<?xml version=\"1.0\" encoding=\"utf-8\" standalone=\"no\"?>\r\n<!DOCTYPE svg PUBLIC \"-//W3C//DTD SVG 1.1//EN\"\r\n  \"http://www.w3.org/Graphics/SVG/1.1/DTD/svg11.dtd\">\r\n<svg height=\"248.518125pt\" version=\"1.1\" viewBox=\"0 0 372.103125 248.518125\" width=\"372.103125pt\" xmlns=\"http://www.w3.org/2000/svg\" xmlns:xlink=\"http://www.w3.org/1999/xlink\">\r\n <metadata>\r\n  <rdf:RDF xmlns:cc=\"http://creativecommons.org/ns#\" xmlns:dc=\"http://purl.org/dc/elements/1.1/\" xmlns:rdf=\"http://www.w3.org/1999/02/22-rdf-syntax-ns#\">\r\n   <cc:Work>\r\n    <dc:type rdf:resource=\"http://purl.org/dc/dcmitype/StillImage\"/>\r\n    <dc:date>2021-07-06T20:46:45.339805</dc:date>\r\n    <dc:format>image/svg+xml</dc:format>\r\n    <dc:creator>\r\n     <cc:Agent>\r\n      <dc:title>Matplotlib v3.4.2, https://matplotlib.org/</dc:title>\r\n     </cc:Agent>\r\n    </dc:creator>\r\n   </cc:Work>\r\n  </rdf:RDF>\r\n </metadata>\r\n <defs>\r\n  <style type=\"text/css\">*{stroke-linecap:butt;stroke-linejoin:round;}</style>\r\n </defs>\r\n <g id=\"figure_1\">\r\n  <g id=\"patch_1\">\r\n   <path d=\"M 0 248.518125 \r\nL 372.103125 248.518125 \r\nL 372.103125 0 \r\nL 0 0 \r\nz\r\n\" style=\"fill:none;\"/>\r\n  </g>\r\n  <g id=\"axes_1\">\r\n   <g id=\"patch_2\">\r\n    <path d=\"M 30.103125 224.64 \r\nL 364.903125 224.64 \r\nL 364.903125 7.2 \r\nL 30.103125 7.2 \r\nz\r\n\" style=\"fill:#ffffff;\"/>\r\n   </g>\r\n   <g id=\"matplotlib.axis_1\">\r\n    <g id=\"xtick_1\">\r\n     <g id=\"line2d_1\">\r\n      <defs>\r\n       <path d=\"M 0 0 \r\nL 0 3.5 \r\n\" id=\"mbac7c5e6b8\" style=\"stroke:#000000;stroke-width:0.8;\"/>\r\n      </defs>\r\n      <g>\r\n       <use style=\"stroke:#000000;stroke-width:0.8;\" x=\"69.350015\" xlink:href=\"#mbac7c5e6b8\" y=\"224.64\"/>\r\n      </g>\r\n     </g>\r\n     <g id=\"text_1\">\r\n      <!-- 250 -->\r\n      <g transform=\"translate(59.806265 239.238437)scale(0.1 -0.1)\">\r\n       <defs>\r\n        <path d=\"M 1228 531 \r\nL 3431 531 \r\nL 3431 0 \r\nL 469 0 \r\nL 469 531 \r\nQ 828 903 1448 1529 \r\nQ 2069 2156 2228 2338 \r\nQ 2531 2678 2651 2914 \r\nQ 2772 3150 2772 3378 \r\nQ 2772 3750 2511 3984 \r\nQ 2250 4219 1831 4219 \r\nQ 1534 4219 1204 4116 \r\nQ 875 4013 500 3803 \r\nL 500 4441 \r\nQ 881 4594 1212 4672 \r\nQ 1544 4750 1819 4750 \r\nQ 2544 4750 2975 4387 \r\nQ 3406 4025 3406 3419 \r\nQ 3406 3131 3298 2873 \r\nQ 3191 2616 2906 2266 \r\nQ 2828 2175 2409 1742 \r\nQ 1991 1309 1228 531 \r\nz\r\n\" id=\"DejaVuSans-32\" transform=\"scale(0.015625)\"/>\r\n        <path d=\"M 691 4666 \r\nL 3169 4666 \r\nL 3169 4134 \r\nL 1269 4134 \r\nL 1269 2991 \r\nQ 1406 3038 1543 3061 \r\nQ 1681 3084 1819 3084 \r\nQ 2600 3084 3056 2656 \r\nQ 3513 2228 3513 1497 \r\nQ 3513 744 3044 326 \r\nQ 2575 -91 1722 -91 \r\nQ 1428 -91 1123 -41 \r\nQ 819 9 494 109 \r\nL 494 744 \r\nQ 775 591 1075 516 \r\nQ 1375 441 1709 441 \r\nQ 2250 441 2565 725 \r\nQ 2881 1009 2881 1497 \r\nQ 2881 1984 2565 2268 \r\nQ 2250 2553 1709 2553 \r\nQ 1456 2553 1204 2497 \r\nQ 953 2441 691 2322 \r\nL 691 4666 \r\nz\r\n\" id=\"DejaVuSans-35\" transform=\"scale(0.015625)\"/>\r\n        <path d=\"M 2034 4250 \r\nQ 1547 4250 1301 3770 \r\nQ 1056 3291 1056 2328 \r\nQ 1056 1369 1301 889 \r\nQ 1547 409 2034 409 \r\nQ 2525 409 2770 889 \r\nQ 3016 1369 3016 2328 \r\nQ 3016 3291 2770 3770 \r\nQ 2525 4250 2034 4250 \r\nz\r\nM 2034 4750 \r\nQ 2819 4750 3233 4129 \r\nQ 3647 3509 3647 2328 \r\nQ 3647 1150 3233 529 \r\nQ 2819 -91 2034 -91 \r\nQ 1250 -91 836 529 \r\nQ 422 1150 422 2328 \r\nQ 422 3509 836 4129 \r\nQ 1250 4750 2034 4750 \r\nz\r\n\" id=\"DejaVuSans-30\" transform=\"scale(0.015625)\"/>\r\n       </defs>\r\n       <use xlink:href=\"#DejaVuSans-32\"/>\r\n       <use x=\"63.623047\" xlink:href=\"#DejaVuSans-35\"/>\r\n       <use x=\"127.246094\" xlink:href=\"#DejaVuSans-30\"/>\r\n      </g>\r\n     </g>\r\n    </g>\r\n    <g id=\"xtick_2\">\r\n     <g id=\"line2d_2\">\r\n      <g>\r\n       <use style=\"stroke:#000000;stroke-width:0.8;\" x=\"109.397862\" xlink:href=\"#mbac7c5e6b8\" y=\"224.64\"/>\r\n      </g>\r\n     </g>\r\n     <g id=\"text_2\">\r\n      <!-- 500 -->\r\n      <g transform=\"translate(99.854112 239.238437)scale(0.1 -0.1)\">\r\n       <use xlink:href=\"#DejaVuSans-35\"/>\r\n       <use x=\"63.623047\" xlink:href=\"#DejaVuSans-30\"/>\r\n       <use x=\"127.246094\" xlink:href=\"#DejaVuSans-30\"/>\r\n      </g>\r\n     </g>\r\n    </g>\r\n    <g id=\"xtick_3\">\r\n     <g id=\"line2d_3\">\r\n      <g>\r\n       <use style=\"stroke:#000000;stroke-width:0.8;\" x=\"149.445709\" xlink:href=\"#mbac7c5e6b8\" y=\"224.64\"/>\r\n      </g>\r\n     </g>\r\n     <g id=\"text_3\">\r\n      <!-- 750 -->\r\n      <g transform=\"translate(139.901959 239.238437)scale(0.1 -0.1)\">\r\n       <defs>\r\n        <path d=\"M 525 4666 \r\nL 3525 4666 \r\nL 3525 4397 \r\nL 1831 0 \r\nL 1172 0 \r\nL 2766 4134 \r\nL 525 4134 \r\nL 525 4666 \r\nz\r\n\" id=\"DejaVuSans-37\" transform=\"scale(0.015625)\"/>\r\n       </defs>\r\n       <use xlink:href=\"#DejaVuSans-37\"/>\r\n       <use x=\"63.623047\" xlink:href=\"#DejaVuSans-35\"/>\r\n       <use x=\"127.246094\" xlink:href=\"#DejaVuSans-30\"/>\r\n      </g>\r\n     </g>\r\n    </g>\r\n    <g id=\"xtick_4\">\r\n     <g id=\"line2d_4\">\r\n      <g>\r\n       <use style=\"stroke:#000000;stroke-width:0.8;\" x=\"189.493556\" xlink:href=\"#mbac7c5e6b8\" y=\"224.64\"/>\r\n      </g>\r\n     </g>\r\n     <g id=\"text_4\">\r\n      <!-- 1000 -->\r\n      <g transform=\"translate(176.768556 239.238437)scale(0.1 -0.1)\">\r\n       <defs>\r\n        <path d=\"M 794 531 \r\nL 1825 531 \r\nL 1825 4091 \r\nL 703 3866 \r\nL 703 4441 \r\nL 1819 4666 \r\nL 2450 4666 \r\nL 2450 531 \r\nL 3481 531 \r\nL 3481 0 \r\nL 794 0 \r\nL 794 531 \r\nz\r\n\" id=\"DejaVuSans-31\" transform=\"scale(0.015625)\"/>\r\n       </defs>\r\n       <use xlink:href=\"#DejaVuSans-31\"/>\r\n       <use x=\"63.623047\" xlink:href=\"#DejaVuSans-30\"/>\r\n       <use x=\"127.246094\" xlink:href=\"#DejaVuSans-30\"/>\r\n       <use x=\"190.869141\" xlink:href=\"#DejaVuSans-30\"/>\r\n      </g>\r\n     </g>\r\n    </g>\r\n    <g id=\"xtick_5\">\r\n     <g id=\"line2d_5\">\r\n      <g>\r\n       <use style=\"stroke:#000000;stroke-width:0.8;\" x=\"229.541403\" xlink:href=\"#mbac7c5e6b8\" y=\"224.64\"/>\r\n      </g>\r\n     </g>\r\n     <g id=\"text_5\">\r\n      <!-- 1250 -->\r\n      <g transform=\"translate(216.816403 239.238437)scale(0.1 -0.1)\">\r\n       <use xlink:href=\"#DejaVuSans-31\"/>\r\n       <use x=\"63.623047\" xlink:href=\"#DejaVuSans-32\"/>\r\n       <use x=\"127.246094\" xlink:href=\"#DejaVuSans-35\"/>\r\n       <use x=\"190.869141\" xlink:href=\"#DejaVuSans-30\"/>\r\n      </g>\r\n     </g>\r\n    </g>\r\n    <g id=\"xtick_6\">\r\n     <g id=\"line2d_6\">\r\n      <g>\r\n       <use style=\"stroke:#000000;stroke-width:0.8;\" x=\"269.589249\" xlink:href=\"#mbac7c5e6b8\" y=\"224.64\"/>\r\n      </g>\r\n     </g>\r\n     <g id=\"text_6\">\r\n      <!-- 1500 -->\r\n      <g transform=\"translate(256.864249 239.238437)scale(0.1 -0.1)\">\r\n       <use xlink:href=\"#DejaVuSans-31\"/>\r\n       <use x=\"63.623047\" xlink:href=\"#DejaVuSans-35\"/>\r\n       <use x=\"127.246094\" xlink:href=\"#DejaVuSans-30\"/>\r\n       <use x=\"190.869141\" xlink:href=\"#DejaVuSans-30\"/>\r\n      </g>\r\n     </g>\r\n    </g>\r\n    <g id=\"xtick_7\">\r\n     <g id=\"line2d_7\">\r\n      <g>\r\n       <use style=\"stroke:#000000;stroke-width:0.8;\" x=\"309.637096\" xlink:href=\"#mbac7c5e6b8\" y=\"224.64\"/>\r\n      </g>\r\n     </g>\r\n     <g id=\"text_7\">\r\n      <!-- 1750 -->\r\n      <g transform=\"translate(296.912096 239.238437)scale(0.1 -0.1)\">\r\n       <use xlink:href=\"#DejaVuSans-31\"/>\r\n       <use x=\"63.623047\" xlink:href=\"#DejaVuSans-37\"/>\r\n       <use x=\"127.246094\" xlink:href=\"#DejaVuSans-35\"/>\r\n       <use x=\"190.869141\" xlink:href=\"#DejaVuSans-30\"/>\r\n      </g>\r\n     </g>\r\n    </g>\r\n    <g id=\"xtick_8\">\r\n     <g id=\"line2d_8\">\r\n      <g>\r\n       <use style=\"stroke:#000000;stroke-width:0.8;\" x=\"349.684943\" xlink:href=\"#mbac7c5e6b8\" y=\"224.64\"/>\r\n      </g>\r\n     </g>\r\n     <g id=\"text_8\">\r\n      <!-- 2000 -->\r\n      <g transform=\"translate(336.959943 239.238437)scale(0.1 -0.1)\">\r\n       <use xlink:href=\"#DejaVuSans-32\"/>\r\n       <use x=\"63.623047\" xlink:href=\"#DejaVuSans-30\"/>\r\n       <use x=\"127.246094\" xlink:href=\"#DejaVuSans-30\"/>\r\n       <use x=\"190.869141\" xlink:href=\"#DejaVuSans-30\"/>\r\n      </g>\r\n     </g>\r\n    </g>\r\n   </g>\r\n   <g id=\"matplotlib.axis_2\">\r\n    <g id=\"ytick_1\">\r\n     <g id=\"line2d_9\">\r\n      <defs>\r\n       <path d=\"M 0 0 \r\nL -3.5 0 \r\n\" id=\"mf7ef125f40\" style=\"stroke:#000000;stroke-width:0.8;\"/>\r\n      </defs>\r\n      <g>\r\n       <use style=\"stroke:#000000;stroke-width:0.8;\" x=\"30.103125\" xlink:href=\"#mf7ef125f40\" y=\"212.712425\"/>\r\n      </g>\r\n     </g>\r\n     <g id=\"text_9\">\r\n      <!-- 0.8 -->\r\n      <g transform=\"translate(7.2 216.511643)scale(0.1 -0.1)\">\r\n       <defs>\r\n        <path d=\"M 684 794 \r\nL 1344 794 \r\nL 1344 0 \r\nL 684 0 \r\nL 684 794 \r\nz\r\n\" id=\"DejaVuSans-2e\" transform=\"scale(0.015625)\"/>\r\n        <path d=\"M 2034 2216 \r\nQ 1584 2216 1326 1975 \r\nQ 1069 1734 1069 1313 \r\nQ 1069 891 1326 650 \r\nQ 1584 409 2034 409 \r\nQ 2484 409 2743 651 \r\nQ 3003 894 3003 1313 \r\nQ 3003 1734 2745 1975 \r\nQ 2488 2216 2034 2216 \r\nz\r\nM 1403 2484 \r\nQ 997 2584 770 2862 \r\nQ 544 3141 544 3541 \r\nQ 544 4100 942 4425 \r\nQ 1341 4750 2034 4750 \r\nQ 2731 4750 3128 4425 \r\nQ 3525 4100 3525 3541 \r\nQ 3525 3141 3298 2862 \r\nQ 3072 2584 2669 2484 \r\nQ 3125 2378 3379 2068 \r\nQ 3634 1759 3634 1313 \r\nQ 3634 634 3220 271 \r\nQ 2806 -91 2034 -91 \r\nQ 1263 -91 848 271 \r\nQ 434 634 434 1313 \r\nQ 434 1759 690 2068 \r\nQ 947 2378 1403 2484 \r\nz\r\nM 1172 3481 \r\nQ 1172 3119 1398 2916 \r\nQ 1625 2713 2034 2713 \r\nQ 2441 2713 2670 2916 \r\nQ 2900 3119 2900 3481 \r\nQ 2900 3844 2670 4047 \r\nQ 2441 4250 2034 4250 \r\nQ 1625 4250 1398 4047 \r\nQ 1172 3844 1172 3481 \r\nz\r\n\" id=\"DejaVuSans-38\" transform=\"scale(0.015625)\"/>\r\n       </defs>\r\n       <use xlink:href=\"#DejaVuSans-30\"/>\r\n       <use x=\"63.623047\" xlink:href=\"#DejaVuSans-2e\"/>\r\n       <use x=\"95.410156\" xlink:href=\"#DejaVuSans-38\"/>\r\n      </g>\r\n     </g>\r\n    </g>\r\n    <g id=\"ytick_2\">\r\n     <g id=\"line2d_10\">\r\n      <g>\r\n       <use style=\"stroke:#000000;stroke-width:0.8;\" x=\"30.103125\" xlink:href=\"#mf7ef125f40\" y=\"187.646693\"/>\r\n      </g>\r\n     </g>\r\n     <g id=\"text_10\">\r\n      <!-- 0.9 -->\r\n      <g transform=\"translate(7.2 191.445912)scale(0.1 -0.1)\">\r\n       <defs>\r\n        <path d=\"M 703 97 \r\nL 703 672 \r\nQ 941 559 1184 500 \r\nQ 1428 441 1663 441 \r\nQ 2288 441 2617 861 \r\nQ 2947 1281 2994 2138 \r\nQ 2813 1869 2534 1725 \r\nQ 2256 1581 1919 1581 \r\nQ 1219 1581 811 2004 \r\nQ 403 2428 403 3163 \r\nQ 403 3881 828 4315 \r\nQ 1253 4750 1959 4750 \r\nQ 2769 4750 3195 4129 \r\nQ 3622 3509 3622 2328 \r\nQ 3622 1225 3098 567 \r\nQ 2575 -91 1691 -91 \r\nQ 1453 -91 1209 -44 \r\nQ 966 3 703 97 \r\nz\r\nM 1959 2075 \r\nQ 2384 2075 2632 2365 \r\nQ 2881 2656 2881 3163 \r\nQ 2881 3666 2632 3958 \r\nQ 2384 4250 1959 4250 \r\nQ 1534 4250 1286 3958 \r\nQ 1038 3666 1038 3163 \r\nQ 1038 2656 1286 2365 \r\nQ 1534 2075 1959 2075 \r\nz\r\n\" id=\"DejaVuSans-39\" transform=\"scale(0.015625)\"/>\r\n       </defs>\r\n       <use xlink:href=\"#DejaVuSans-30\"/>\r\n       <use x=\"63.623047\" xlink:href=\"#DejaVuSans-2e\"/>\r\n       <use x=\"95.410156\" xlink:href=\"#DejaVuSans-39\"/>\r\n      </g>\r\n     </g>\r\n    </g>\r\n    <g id=\"ytick_3\">\r\n     <g id=\"line2d_11\">\r\n      <g>\r\n       <use style=\"stroke:#000000;stroke-width:0.8;\" x=\"30.103125\" xlink:href=\"#mf7ef125f40\" y=\"162.580962\"/>\r\n      </g>\r\n     </g>\r\n     <g id=\"text_11\">\r\n      <!-- 1.0 -->\r\n      <g transform=\"translate(7.2 166.380181)scale(0.1 -0.1)\">\r\n       <use xlink:href=\"#DejaVuSans-31\"/>\r\n       <use x=\"63.623047\" xlink:href=\"#DejaVuSans-2e\"/>\r\n       <use x=\"95.410156\" xlink:href=\"#DejaVuSans-30\"/>\r\n      </g>\r\n     </g>\r\n    </g>\r\n    <g id=\"ytick_4\">\r\n     <g id=\"line2d_12\">\r\n      <g>\r\n       <use style=\"stroke:#000000;stroke-width:0.8;\" x=\"30.103125\" xlink:href=\"#mf7ef125f40\" y=\"137.515231\"/>\r\n      </g>\r\n     </g>\r\n     <g id=\"text_12\">\r\n      <!-- 1.1 -->\r\n      <g transform=\"translate(7.2 141.31445)scale(0.1 -0.1)\">\r\n       <use xlink:href=\"#DejaVuSans-31\"/>\r\n       <use x=\"63.623047\" xlink:href=\"#DejaVuSans-2e\"/>\r\n       <use x=\"95.410156\" xlink:href=\"#DejaVuSans-31\"/>\r\n      </g>\r\n     </g>\r\n    </g>\r\n    <g id=\"ytick_5\">\r\n     <g id=\"line2d_13\">\r\n      <g>\r\n       <use style=\"stroke:#000000;stroke-width:0.8;\" x=\"30.103125\" xlink:href=\"#mf7ef125f40\" y=\"112.4495\"/>\r\n      </g>\r\n     </g>\r\n     <g id=\"text_13\">\r\n      <!-- 1.2 -->\r\n      <g transform=\"translate(7.2 116.248718)scale(0.1 -0.1)\">\r\n       <use xlink:href=\"#DejaVuSans-31\"/>\r\n       <use x=\"63.623047\" xlink:href=\"#DejaVuSans-2e\"/>\r\n       <use x=\"95.410156\" xlink:href=\"#DejaVuSans-32\"/>\r\n      </g>\r\n     </g>\r\n    </g>\r\n    <g id=\"ytick_6\">\r\n     <g id=\"line2d_14\">\r\n      <g>\r\n       <use style=\"stroke:#000000;stroke-width:0.8;\" x=\"30.103125\" xlink:href=\"#mf7ef125f40\" y=\"87.383768\"/>\r\n      </g>\r\n     </g>\r\n     <g id=\"text_14\">\r\n      <!-- 1.3 -->\r\n      <g transform=\"translate(7.2 91.182987)scale(0.1 -0.1)\">\r\n       <defs>\r\n        <path d=\"M 2597 2516 \r\nQ 3050 2419 3304 2112 \r\nQ 3559 1806 3559 1356 \r\nQ 3559 666 3084 287 \r\nQ 2609 -91 1734 -91 \r\nQ 1441 -91 1130 -33 \r\nQ 819 25 488 141 \r\nL 488 750 \r\nQ 750 597 1062 519 \r\nQ 1375 441 1716 441 \r\nQ 2309 441 2620 675 \r\nQ 2931 909 2931 1356 \r\nQ 2931 1769 2642 2001 \r\nQ 2353 2234 1838 2234 \r\nL 1294 2234 \r\nL 1294 2753 \r\nL 1863 2753 \r\nQ 2328 2753 2575 2939 \r\nQ 2822 3125 2822 3475 \r\nQ 2822 3834 2567 4026 \r\nQ 2313 4219 1838 4219 \r\nQ 1578 4219 1281 4162 \r\nQ 984 4106 628 3988 \r\nL 628 4550 \r\nQ 988 4650 1302 4700 \r\nQ 1616 4750 1894 4750 \r\nQ 2613 4750 3031 4423 \r\nQ 3450 4097 3450 3541 \r\nQ 3450 3153 3228 2886 \r\nQ 3006 2619 2597 2516 \r\nz\r\n\" id=\"DejaVuSans-33\" transform=\"scale(0.015625)\"/>\r\n       </defs>\r\n       <use xlink:href=\"#DejaVuSans-31\"/>\r\n       <use x=\"63.623047\" xlink:href=\"#DejaVuSans-2e\"/>\r\n       <use x=\"95.410156\" xlink:href=\"#DejaVuSans-33\"/>\r\n      </g>\r\n     </g>\r\n    </g>\r\n    <g id=\"ytick_7\">\r\n     <g id=\"line2d_15\">\r\n      <g>\r\n       <use style=\"stroke:#000000;stroke-width:0.8;\" x=\"30.103125\" xlink:href=\"#mf7ef125f40\" y=\"62.318037\"/>\r\n      </g>\r\n     </g>\r\n     <g id=\"text_15\">\r\n      <!-- 1.4 -->\r\n      <g transform=\"translate(7.2 66.117256)scale(0.1 -0.1)\">\r\n       <defs>\r\n        <path d=\"M 2419 4116 \r\nL 825 1625 \r\nL 2419 1625 \r\nL 2419 4116 \r\nz\r\nM 2253 4666 \r\nL 3047 4666 \r\nL 3047 1625 \r\nL 3713 1625 \r\nL 3713 1100 \r\nL 3047 1100 \r\nL 3047 0 \r\nL 2419 0 \r\nL 2419 1100 \r\nL 313 1100 \r\nL 313 1709 \r\nL 2253 4666 \r\nz\r\n\" id=\"DejaVuSans-34\" transform=\"scale(0.015625)\"/>\r\n       </defs>\r\n       <use xlink:href=\"#DejaVuSans-31\"/>\r\n       <use x=\"63.623047\" xlink:href=\"#DejaVuSans-2e\"/>\r\n       <use x=\"95.410156\" xlink:href=\"#DejaVuSans-34\"/>\r\n      </g>\r\n     </g>\r\n    </g>\r\n    <g id=\"ytick_8\">\r\n     <g id=\"line2d_16\">\r\n      <g>\r\n       <use style=\"stroke:#000000;stroke-width:0.8;\" x=\"30.103125\" xlink:href=\"#mf7ef125f40\" y=\"37.252306\"/>\r\n      </g>\r\n     </g>\r\n     <g id=\"text_16\">\r\n      <!-- 1.5 -->\r\n      <g transform=\"translate(7.2 41.051524)scale(0.1 -0.1)\">\r\n       <use xlink:href=\"#DejaVuSans-31\"/>\r\n       <use x=\"63.623047\" xlink:href=\"#DejaVuSans-2e\"/>\r\n       <use x=\"95.410156\" xlink:href=\"#DejaVuSans-35\"/>\r\n      </g>\r\n     </g>\r\n    </g>\r\n    <g id=\"ytick_9\">\r\n     <g id=\"line2d_17\">\r\n      <g>\r\n       <use style=\"stroke:#000000;stroke-width:0.8;\" x=\"30.103125\" xlink:href=\"#mf7ef125f40\" y=\"12.186574\"/>\r\n      </g>\r\n     </g>\r\n     <g id=\"text_17\">\r\n      <!-- 1.6 -->\r\n      <g transform=\"translate(7.2 15.985793)scale(0.1 -0.1)\">\r\n       <defs>\r\n        <path d=\"M 2113 2584 \r\nQ 1688 2584 1439 2293 \r\nQ 1191 2003 1191 1497 \r\nQ 1191 994 1439 701 \r\nQ 1688 409 2113 409 \r\nQ 2538 409 2786 701 \r\nQ 3034 994 3034 1497 \r\nQ 3034 2003 2786 2293 \r\nQ 2538 2584 2113 2584 \r\nz\r\nM 3366 4563 \r\nL 3366 3988 \r\nQ 3128 4100 2886 4159 \r\nQ 2644 4219 2406 4219 \r\nQ 1781 4219 1451 3797 \r\nQ 1122 3375 1075 2522 \r\nQ 1259 2794 1537 2939 \r\nQ 1816 3084 2150 3084 \r\nQ 2853 3084 3261 2657 \r\nQ 3669 2231 3669 1497 \r\nQ 3669 778 3244 343 \r\nQ 2819 -91 2113 -91 \r\nQ 1303 -91 875 529 \r\nQ 447 1150 447 2328 \r\nQ 447 3434 972 4092 \r\nQ 1497 4750 2381 4750 \r\nQ 2619 4750 2861 4703 \r\nQ 3103 4656 3366 4563 \r\nz\r\n\" id=\"DejaVuSans-36\" transform=\"scale(0.015625)\"/>\r\n       </defs>\r\n       <use xlink:href=\"#DejaVuSans-31\"/>\r\n       <use x=\"63.623047\" xlink:href=\"#DejaVuSans-2e\"/>\r\n       <use x=\"95.410156\" xlink:href=\"#DejaVuSans-36\"/>\r\n      </g>\r\n     </g>\r\n    </g>\r\n   </g>\r\n   <g id=\"line2d_18\">\r\n    <path clip-path=\"url(#pc9200424a3)\" d=\"M 45.321307 17.083636 \r\nL 59.62027 17.303526 \r\nL 71.876523 17.734807 \r\nL 82.090068 18.315861 \r\nL 92.303613 19.120944 \r\nL 102.517158 20.152659 \r\nL 112.730703 21.402798 \r\nL 122.944248 22.855857 \r\nL 135.200501 24.839919 \r\nL 147.456755 27.052109 \r\nL 159.713009 29.456992 \r\nL 176.054681 32.906985 \r\nL 194.439062 37.04383 \r\nL 216.90886 42.356111 \r\nL 247.549495 49.8637 \r\nL 337.428689 72.042053 \r\nL 349.684943 74.976811 \r\nL 349.684943 74.976811 \r\n\" style=\"fill:none;stroke:#1f77b4;stroke-linecap:square;stroke-width:1.5;\"/>\r\n   </g>\r\n   <g id=\"line2d_19\">\r\n    <path clip-path=\"url(#pc9200424a3)\" d=\"M 45.321307 154.048503 \r\nL 59.62027 154.268393 \r\nL 71.876523 154.699681 \r\nL 82.090068 155.282235 \r\nL 92.303613 156.089984 \r\nL 102.517158 157.127135 \r\nL 112.730703 158.386909 \r\nL 122.944248 159.855325 \r\nL 135.200501 161.867428 \r\nL 147.456755 164.120206 \r\nL 159.713009 166.579913 \r\nL 176.054681 170.127015 \r\nL 192.396353 173.918922 \r\nL 210.780733 178.406548 \r\nL 233.250532 184.116386 \r\nL 265.933875 192.678116 \r\nL 349.684943 214.756364 \r\nL 349.684943 214.756364 \r\n\" style=\"fill:none;stroke:#ff7f0e;stroke-linecap:square;stroke-width:1.5;\"/>\r\n   </g>\r\n   <g id=\"patch_3\">\r\n    <path d=\"M 30.103125 224.64 \r\nL 30.103125 7.2 \r\n\" style=\"fill:none;stroke:#000000;stroke-linecap:square;stroke-linejoin:miter;stroke-width:0.8;\"/>\r\n   </g>\r\n   <g id=\"patch_4\">\r\n    <path d=\"M 364.903125 224.64 \r\nL 364.903125 7.2 \r\n\" style=\"fill:none;stroke:#000000;stroke-linecap:square;stroke-linejoin:miter;stroke-width:0.8;\"/>\r\n   </g>\r\n   <g id=\"patch_5\">\r\n    <path d=\"M 30.103125 224.64 \r\nL 364.903125 224.64 \r\n\" style=\"fill:none;stroke:#000000;stroke-linecap:square;stroke-linejoin:miter;stroke-width:0.8;\"/>\r\n   </g>\r\n   <g id=\"patch_6\">\r\n    <path d=\"M 30.103125 7.2 \r\nL 364.903125 7.2 \r\n\" style=\"fill:none;stroke:#000000;stroke-linecap:square;stroke-linejoin:miter;stroke-width:0.8;\"/>\r\n   </g>\r\n   <g id=\"legend_1\">\r\n    <g id=\"patch_7\">\r\n     <path d=\"M 304.685938 44.55625 \r\nL 357.903125 44.55625 \r\nQ 359.903125 44.55625 359.903125 42.55625 \r\nL 359.903125 14.2 \r\nQ 359.903125 12.2 357.903125 12.2 \r\nL 304.685938 12.2 \r\nQ 302.685938 12.2 302.685938 14.2 \r\nL 302.685938 42.55625 \r\nQ 302.685938 44.55625 304.685938 44.55625 \r\nz\r\n\" style=\"fill:#ffffff;opacity:0.8;stroke:#cccccc;stroke-linejoin:miter;\"/>\r\n    </g>\r\n    <g id=\"line2d_20\">\r\n     <path d=\"M 306.685938 20.298437 \r\nL 326.685938 20.298437 \r\n\" style=\"fill:none;stroke:#1f77b4;stroke-linecap:square;stroke-width:1.5;\"/>\r\n    </g>\r\n    <g id=\"line2d_21\"/>\r\n    <g id=\"text_18\">\r\n     <!-- CO2 -->\r\n     <g transform=\"translate(334.685938 23.798437)scale(0.1 -0.1)\">\r\n      <defs>\r\n       <path d=\"M 4122 4306 \r\nL 4122 3641 \r\nQ 3803 3938 3442 4084 \r\nQ 3081 4231 2675 4231 \r\nQ 1875 4231 1450 3742 \r\nQ 1025 3253 1025 2328 \r\nQ 1025 1406 1450 917 \r\nQ 1875 428 2675 428 \r\nQ 3081 428 3442 575 \r\nQ 3803 722 4122 1019 \r\nL 4122 359 \r\nQ 3791 134 3420 21 \r\nQ 3050 -91 2638 -91 \r\nQ 1578 -91 968 557 \r\nQ 359 1206 359 2328 \r\nQ 359 3453 968 4101 \r\nQ 1578 4750 2638 4750 \r\nQ 3056 4750 3426 4639 \r\nQ 3797 4528 4122 4306 \r\nz\r\n\" id=\"DejaVuSans-43\" transform=\"scale(0.015625)\"/>\r\n       <path d=\"M 2522 4238 \r\nQ 1834 4238 1429 3725 \r\nQ 1025 3213 1025 2328 \r\nQ 1025 1447 1429 934 \r\nQ 1834 422 2522 422 \r\nQ 3209 422 3611 934 \r\nQ 4013 1447 4013 2328 \r\nQ 4013 3213 3611 3725 \r\nQ 3209 4238 2522 4238 \r\nz\r\nM 2522 4750 \r\nQ 3503 4750 4090 4092 \r\nQ 4678 3434 4678 2328 \r\nQ 4678 1225 4090 567 \r\nQ 3503 -91 2522 -91 \r\nQ 1538 -91 948 565 \r\nQ 359 1222 359 2328 \r\nQ 359 3434 948 4092 \r\nQ 1538 4750 2522 4750 \r\nz\r\n\" id=\"DejaVuSans-4f\" transform=\"scale(0.015625)\"/>\r\n      </defs>\r\n      <use xlink:href=\"#DejaVuSans-43\"/>\r\n      <use x=\"69.824219\" xlink:href=\"#DejaVuSans-4f\"/>\r\n      <use x=\"148.535156\" xlink:href=\"#DejaVuSans-32\"/>\r\n     </g>\r\n    </g>\r\n    <g id=\"line2d_22\">\r\n     <path d=\"M 306.685938 34.976562 \r\nL 326.685938 34.976562 \r\n\" style=\"fill:none;stroke:#ff7f0e;stroke-linecap:square;stroke-width:1.5;\"/>\r\n    </g>\r\n    <g id=\"line2d_23\"/>\r\n    <g id=\"text_19\">\r\n     <!-- CH4 -->\r\n     <g transform=\"translate(334.685938 38.476562)scale(0.1 -0.1)\">\r\n      <defs>\r\n       <path d=\"M 628 4666 \r\nL 1259 4666 \r\nL 1259 2753 \r\nL 3553 2753 \r\nL 3553 4666 \r\nL 4184 4666 \r\nL 4184 0 \r\nL 3553 0 \r\nL 3553 2222 \r\nL 1259 2222 \r\nL 1259 0 \r\nL 628 0 \r\nL 628 4666 \r\nz\r\n\" id=\"DejaVuSans-48\" transform=\"scale(0.015625)\"/>\r\n      </defs>\r\n      <use xlink:href=\"#DejaVuSans-43\"/>\r\n      <use x=\"69.824219\" xlink:href=\"#DejaVuSans-48\"/>\r\n      <use x=\"145.019531\" xlink:href=\"#DejaVuSans-34\"/>\r\n     </g>\r\n    </g>\r\n   </g>\r\n  </g>\r\n </g>\r\n <defs>\r\n  <clipPath id=\"pc9200424a3\">\r\n   <rect height=\"217.44\" width=\"334.8\" x=\"30.103125\" y=\"7.2\"/>\r\n  </clipPath>\r\n </defs>\r\n</svg>\r\n",
      "image/png": "[encoded data removed]"
     },
     "metadata": {
      "needs_background": "light"
     }
    }
   ],
   "source": [
    "import matplotlib.pyplot as plt\n",
    "\n",
    "x = list(dfQ['T'])\n",
    "y = list(dfQ['H2'])\n",
    "\n",
    "fig, ax = plt.subplots()\n",
    "ax.plot(x, dfQ['H2'], label='H2')\n",
    "ax.plot(x, dfQ['CO'], label='CO')\n",
    "plt.legend()\n",
    "\n",
    "fig, ax = plt.subplots()\n",
    "ax.plot(x, dfQ['CO2'], label='CO2')\n",
    "ax.plot(x, dfQ['CH4'], label='CH4')\n",
    "\n",
    "plt.legend()\n",
    "\n",
    "plt.show()\n"
   ]
  },
  {
   "cell_type": "code",
   "execution_count": null,
   "metadata": {},
   "outputs": [],
   "source": []
  }
 ]
}